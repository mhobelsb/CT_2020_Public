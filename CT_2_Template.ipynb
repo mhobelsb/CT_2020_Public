{
 "cells": [
  {
   "cell_type": "markdown",
   "metadata": {},
   "source": [
    "![CT Logo](img/ct_logo_small.png)\n",
    "# Vorlesung \"Computational Thinking\"        \n",
    "### Kontrollstrukturen (Statements) in Python\n",
    "#### Prof. Dr.-Ing. Martin Hobelsberger, CT_2"
   ]
  },
  {
   "cell_type": "markdown",
   "metadata": {},
   "source": [
    "### Lernziele dieser Einheit\n",
    "* Lesen/Schreiben von Dateien\n",
    "* Kontrollstrukturen in Python\n",
    "    * Fallunterscheidung\n",
    "    * Schleifenkonstrukte\n",
    "* Nützliche Funktionen im Umgang mit Kontrollstrukturen\n",
    "    * range()\n",
    "    * enumerate()\n",
    "    * zip()\n",
    "    * list comprehensions\n",
    "\n",
    "#### Was Sie bisher schon Wissen/Können sollten\n",
    "* Strukturiere Ein-/Ausgabe\n",
    "* Variablen\n",
    "* Datentypen (Arithmetische und Sequenzielle)\n",
    "* Arithmetische Ausdrücke und Vergleiche"
   ]
  },
  {
   "cell_type": "markdown",
   "metadata": {},
   "source": [
    "## Kontrollstrukturen\n",
    "Kontrollstrukturen werden in der Programmierung verwendet, um den Ablauf eines Programmes zu steuern. Es gibt sie in jeder Programmiersprache, wobei nicht jeder Compiler einer Sprache alle möglichen Strukturen unterstützt. Wir unterscheiden dabei zwischen einer Sequenz, einem Schleifenkonstrukt und einer Fallunterscheidung:\n",
    "\n",
    "![Kontrollstrukturen](img/CT_2/ct2_kontrollstrukturen.png)\n",
    "\n",
    "Eine Sequenz ist dabei eine definierte Reihenfolge von Anweisungen. Auch diese ist eine Form der Kontrollstruktur (kontrollierter Ablauf eines Programmes, vorgegeben durch eine Sequenz). Von Kontrollstrukturen spricht man meist im Falle der Schleifenkonstrukte und der Fallunterscheidung. In Programmiersprachen wird hier meist zwischen drei Arten unterschieden:\n",
    "\n",
    " * If-Then-Else Anweisungen\n",
    " * For-Schleifen\n",
    " * While Schleifen\n",
    "\n",
    "Zur Beschreibung bzw. dem Entwurf von Programmen verwendet man sogenannte **Struktogramme** (Nassi-Shneiderman-Diagram oder ähnliche). "
   ]
  },
  {
   "cell_type": "markdown",
   "metadata": {},
   "source": [
    "### Problemstellung\n",
    "Die Frage ist, warum brauchen wir Fallunterscheidungen und Schleifenkonstrukte in der Programmierung?\n",
    "\n",
    "Die Antwort ist relativ simple: Programmierung an sich besteht quasi nur aus geschicktem anwenden und verknüpfen von Bedingungen *(Wenn X dann/nicht Y)* und Schleifen *(Wiederhole solange/bis)* um Daten zu bearbeiten und darzustellen. Ein einfaches Beispiel: *Wenn `x` größer `x` dann weise `a` den Wert 1 und `b` den Wert 2 zu.* \n",
    "\n",
    "```C\n",
    "# In einer Programmiersprache X\n",
    "if (x>y){\n",
    "    a = 1;\n",
    "    b = 2;\n",
    "}\n",
    "```\n",
    "```python\n",
    "# In der Programmiersprache Python\n",
    "if x>y:\n",
    "    a = 1\n",
    "    b = 2\n",
    "```\n",
    "\n",
    "Was fällt auf? Python verzichtet auf die Klammern `()`, `{}` sowie dem Semikolon und verwendet stattdessen einen Doppelpunkt und **Whitespaces** (Indentation). \n",
    "\n",
    "Bevor wir dies auf ein umfangreicheres Beispiel anwenden die Konzepte in kürze."
   ]
  },
  {
   "cell_type": "markdown",
   "metadata": {},
   "source": [
    "### **If-Then-Else** Anweisung\n",
    "Über sogenannte `if`-Statements ist es uns möglich dem Computer alternative Aktionen, basierend auf einem bestimmten Ergebnis, ausführen zu lassen. Also in etwa: *Computer, wenn dieser Fall eintritt dann führe das aus!*\n",
    "\n",
    "Eine Lösung für unser Problem ist die sogenannte **If-Then-Else**-Anweisungen\n",
    "```python\n",
    "if Fall_1:\n",
    "    fuehre Aktion_1 aus\n",
    "elif Fall_2:\n",
    "    fuehre Aktion_2 aus\n",
    "else:\n",
    "    #default\n",
    "    fuehre Aktion_3 aus\n",
    "```"
   ]
  },
  {
   "cell_type": "code",
   "execution_count": null,
   "metadata": {},
   "outputs": [],
   "source": [
    "# Einfache Beispiele\n"
   ]
  },
  {
   "cell_type": "code",
   "execution_count": null,
   "metadata": {},
   "outputs": [],
   "source": [
    "# Mehrere Branches\n",
    "\n",
    "player1_wahl = input('Player 1: Stein, Schere, oder Papier? ')\n",
    "player2_wahl = input('Player 2: Stein, Schere, oder Papier? ')\n"
   ]
  },
  {
   "cell_type": "markdown",
   "metadata": {},
   "source": [
    "**Hauptpunkte die bei If-Statements zu beachten sind:**\n",
    "\n",
    "* Keywords: `if`, `elif` and `else`\n",
    "* Der Doppelpunkt `:` endet die Auswahl-Expression\n",
    "* Indentation (4 Leerzeichen) definieren einen Code-Block\n",
    "* In einem `if` Statement, der erste Block welcher beim Bedingungs-Statement `True` zurückliefert wird ausgeführt\n",
    "* `if` Statements brauchen nicht unbedingt `elif` oder `else`\n",
    "* `elif` lässt verschiedene Bedingungen überprüfen\n",
    "* `else` dient als *Default* Block der ausgeführt wird wenn alle anderen Bedingungen `False`sind. "
   ]
  },
  {
   "cell_type": "markdown",
   "metadata": {},
   "source": [
    "#### Anmerkung:\n",
    "* Die Doppelpunkte nicht vergessen!\n",
    "* Es gibt **IMMER** eine else-Verzweigung (default)\n",
    "* Die Einrückung ist sehr wichtig!!"
   ]
  },
  {
   "cell_type": "markdown",
   "metadata": {},
   "source": [
    "### For-Schleife\n",
    "Die For-Schleife gibt uns in der Programmierung die Möglichkeit über eine Liste von Einträgen zu iterieren. Es läuft also über Einträge die in einer Sequenz (Erinnern Sie sich an CT_1) stehen oder andere *Iterierbare Elemente*\n",
    "\n",
    "```python\n",
    "for element in object: #Statement\n",
    "    # do stuff\n",
    "    pass\n",
    "```\n",
    "Der Variablenname für `element` kann frei vergeben werden. Diese Variable kann als Referenz innerhalb einer Schleife verwendet werden. "
   ]
  },
  {
   "cell_type": "code",
   "execution_count": null,
   "metadata": {},
   "outputs": [],
   "source": [
    "namen =['Sarah', 'Sebastian', 'Babar', 'Simon', 'Martin']\n"
   ]
  },
  {
   "cell_type": "markdown",
   "metadata": {},
   "source": [
    "Als statement wird *oft* (nicht immer) eine Folge von Zahlen angegeben. Dafür gibt es die standard-Funktion `range(x)`: liefert eine Folge von Zahlen von 0 bis exklusive x"
   ]
  },
  {
   "cell_type": "markdown",
   "metadata": {},
   "source": [
    "<span style='color:blue '> **Übung:** </span>\n",
    "Schreiben Sie ein kleines Programm das aus einem einzugebenden Satz die Wörter herausfiltert (auf der Konsole ausgibt) welche mit einem einzugebenden Buchstaben beginnen. "
   ]
  },
  {
   "cell_type": "code",
   "execution_count": null,
   "metadata": {},
   "outputs": [],
   "source": []
  },
  {
   "cell_type": "markdown",
   "metadata": {},
   "source": [
    "### While-Schleife\n",
    "Neben der For-Schleife gibt es auch noch die While-Schleife in der Programmierung.\n",
    "\n",
    "Dieses Konstrukt sieht wie folt aus:\n",
    "\n",
    "```python\n",
    "while test:\n",
    "    #Code\n",
    "else:\n",
    "    #Code\n",
    "```"
   ]
  },
  {
   "cell_type": "code",
   "execution_count": null,
   "metadata": {},
   "outputs": [],
   "source": []
  },
  {
   "cell_type": "markdown",
   "metadata": {},
   "source": [
    "**break, continue, pass**\n",
    "\n",
    "Die Statement `break`, `continue` und `pass` können verwendet werden um zusätzliche Funktinalität bzw. Fallabdeckungen in Schleifen umzusetzen:\n",
    "* `break`: \"Bricht aus\" der aktuellen nächsten liegenden geschlossenen Schleife aus\n",
    "* `continue`: Geht zum Anfang der am nächsten liegenden geschlossenen Schleifen\n",
    "* `pass`: macht.. nichts!\n",
    "\n",
    "```python\n",
    "while test:\n",
    "    #Code\n",
    "    if test2:\n",
    "        break\n",
    "    if test3:\n",
    "        continue\n",
    "else:\n",
    "    #Code\n",
    "```"
   ]
  },
  {
   "cell_type": "code",
   "execution_count": null,
   "metadata": {},
   "outputs": [],
   "source": []
  },
  {
   "cell_type": "markdown",
   "metadata": {},
   "source": [
    "**VORSICHT!!!**\n",
    "\n",
    "Der folgende Code führt zu einer sogenannten **Endlosschleife**\n",
    "\n",
    "```python\n",
    "while True:\n",
    "    print('AH, ich bin in einer Endlosschleife gefangen!')\n",
    "```"
   ]
  },
  {
   "cell_type": "markdown",
   "metadata": {},
   "source": [
    "<span style='color:blue '> **Übung:** </span> Größter gemeinsamer Teiler (ggT)\n",
    "* Gegeben seien zwei positive ganze Zahlen `m` und `n` (z.B.: Zähler und Nenner eines Bruchs)\n",
    "* Finde ihren größten gemeinsamen Teiler, d.h. die größte positive ganze Zahl, die sowohl `m` als auch `n` ohne Rest teilt.\n",
    "* Nutzen Sie hierfür eine While-Schleife und die Modulo Operation\n",
    "\n",
    "*Euklids Algorithmus*\n",
    "\n",
    "1. Teile `m` durch `n`; der Rest der Division sei `r`.\n",
    "2. Setze `m`<- `n`, `n` <- `r` und gehe zurück zu Schritt 1.\n",
    "3. Falls `r` == 0 (und somit `n`==0), so ist der Algorithmus beendet; das Ergebnis (ggT) ist `n`. Ansonsten fahre fort."
   ]
  },
  {
   "cell_type": "code",
   "execution_count": null,
   "metadata": {},
   "outputs": [],
   "source": [
    "# Schreiben Sie ein Programm das den größten gemeinsamen Teiler bestimmt\n"
   ]
  },
  {
   "cell_type": "markdown",
   "metadata": {},
   "source": [
    "## Ein Beispiel\n",
    "<img src=\"img/CT_2/ct2_bulbasaur.png\" alt=\"drawing\" height=\"30px\" height=\"30px\">\n",
    "\n",
    "Wir wurden beauftragt einen [Datensatz wirrer Kreaturen](https://www.kaggle.com/abcsds/pokemon/notebooks) zu analysieren. Dieser Datensatz ist zu umfangreich um mit \"der Hand\" analysiert zu werden. Um aber Analysen darauf durchzuführen müssen wir diesen zuallererst [öffnen](https://docs.python.org/3/library/functions.html#open) und einlesen. "
   ]
  },
  {
   "cell_type": "markdown",
   "metadata": {},
   "source": [
    "### Exkurs: Zugriff auf Dateien (Files)"
   ]
  },
  {
   "cell_type": "markdown",
   "metadata": {},
   "source": [
    "```shell\n",
    "\\\n",
    "|\n",
    "|--data\\\n",
    "|  |\n",
    "|  |-- hallowelt.txt\n",
    "|  |-- pokemon.csv\n",
    "|\n",
    "|--img\n",
    "|  |\n",
    "|  |-- bulbasaur.png\n",
    "```"
   ]
  },
  {
   "cell_type": "code",
   "execution_count": null,
   "metadata": {},
   "outputs": [],
   "source": [
    "# Files öffnen, lesen, schreiben, schließen\n",
    "\n"
   ]
  },
  {
   "cell_type": "code",
   "execution_count": null,
   "metadata": {},
   "outputs": [],
   "source": [
    "# Files öffnen mit 'with'\n",
    "\n",
    "\n"
   ]
  },
  {
   "cell_type": "markdown",
   "metadata": {},
   "source": [
    "<span style='color:blue '> **Homework:** </span>\n",
    "Lesen/Schreiben Sie in eine Datei *name.txt* Ihren Namen. Experimentieren Sie mit den verschiedenen Parametern `r, w, a, b` und diskutieren Sie diese mit Ihrer/Ihrem Teampartnerin/Teampartner."
   ]
  },
  {
   "cell_type": "markdown",
   "metadata": {},
   "source": [
    "Da es sich bei dem Datensatz um \"Comma Separeted Values\" (CSV) Daten handelt nutzen wir hierzu eine von Python [zur Verfügung gestellte Bibliothek](https://docs.python.org/3/library/csv.html)."
   ]
  },
  {
   "cell_type": "code",
   "execution_count": null,
   "metadata": {
    "tags": [
     "outputPrepend"
    ]
   },
   "outputs": [],
   "source": [
    "# CSV Einlesen und Zeilen ausgeben\n"
   ]
  },
  {
   "cell_type": "code",
   "execution_count": null,
   "metadata": {},
   "outputs": [],
   "source": [
    "# CSV Einlesen und nur Zeile mit Bulbasaur ausgeben, Angriffswert von Bulbasaur ausgeben\n"
   ]
  },
  {
   "cell_type": "markdown",
   "metadata": {},
   "source": [
    "## Arbeiten mit einem großen Datensatz"
   ]
  },
  {
   "cell_type": "code",
   "execution_count": null,
   "metadata": {},
   "outputs": [],
   "source": [
    "# Datensatz mit dem Modul Pandas einlesen --> Eigene Vorlesung dazu später im Semester\n",
    "\n"
   ]
  },
  {
   "cell_type": "markdown",
   "metadata": {},
   "source": [
    "Die Datenbasis ist eingelesen und wir können anfangen erste Analysen durchzuführen. Bei der Analyse der Daten werden wir uns (oder uns werden) Fragen gestellt in der Form:\n",
    "* Wie ist X abhängig von Y\n",
    "* Wenn X einem Wert Y entspricht was bedeutet dass für Z?\n",
    "* Für alle X soll über Y ein Z (Durchschnitt, Summe, Minimum, Maximum, ...) berechnet werden. \n",
    "* Was ist der Maximale/Minimale/Durchschnittliche Wert von XYZ\n",
    "* ..."
   ]
  },
  {
   "cell_type": "markdown",
   "metadata": {
    "tags": []
   },
   "source": [
    "Wir wollen uns nun um die Kreatur *Bulbasaur* näher kümmern. Die Spalte `Name` scheint also den Namen der Kreaturen zu enthalten. Die anderen Spalten enthalten Eigenschaften dieser Kreatur. Wir wollen nun den Eintrag für unser Bulbasaur näher ansehen. "
   ]
  },
  {
   "cell_type": "code",
   "execution_count": null,
   "metadata": {
    "tags": []
   },
   "outputs": [],
   "source": [
    "# Eintrag der ausgewählten Kreatur anzeigen\n"
   ]
  },
  {
   "cell_type": "markdown",
   "metadata": {},
   "source": [
    "Gut, wir haben soeben den ersten Eintrag aus der Tabelle selektiert und sehen, dass dieser Bulbasaur ist. Aber nur weil wir das Anhand der Ausgabe sehen ist es für den Rechner bzw. das zu verarbeitende Programm nicht ersichtlich das wir zumindest den Namen der gesuchten Kreatur gefunden haben. "
   ]
  },
  {
   "cell_type": "code",
   "execution_count": null,
   "metadata": {},
   "outputs": [],
   "source": [
    "# Nach Angriffswerten unterscheiden\n",
    "\n"
   ]
  },
  {
   "cell_type": "code",
   "execution_count": null,
   "metadata": {},
   "outputs": [],
   "source": [
    "# if-statement in einem print\n"
   ]
  },
  {
   "cell_type": "markdown",
   "metadata": {},
   "source": [
    "Alles schön und gut aber wir können ja nun schlecht jeden Eintrag in unserer Liste selektieren und dann unsere Abfrage einbauen. Also... können schon.. sähe dann nur wie folgt aus:\n"
   ]
  },
  {
   "cell_type": "code",
   "execution_count": null,
   "metadata": {},
   "outputs": [],
   "source": []
  },
  {
   "cell_type": "markdown",
   "metadata": {},
   "source": [
    "Da diese Form der Programmierung alles andere als sinnvoll ist, gibt es **Schleifen**. If-Then-Else-Anweisungen sind **Anweisungen, KEINE Schleifen!** Für unser Beispiel über die Kreaturen können wir nun über die Tabelle iterieren und individuelle Abfragen starten. "
   ]
  },
  {
   "cell_type": "code",
   "execution_count": null,
   "metadata": {},
   "outputs": [],
   "source": [
    "# Aufbau mit for Schleife und if Anweisungen\n",
    "\n"
   ]
  },
  {
   "cell_type": "markdown",
   "metadata": {},
   "source": [
    "**Folgerung:** Mit der Schleife kann schlanker und wesentlich übersichtlicher Code implementiert werden!"
   ]
  },
  {
   "cell_type": "code",
   "execution_count": null,
   "metadata": {},
   "outputs": [],
   "source": [
    "# Ausgabe mit while Schleife\n",
    "\n"
   ]
  },
  {
   "cell_type": "markdown",
   "metadata": {},
   "source": [
    "**break, continue, pass**\n",
    "Die Statement `break`, `continue` und `pass` können verwendet werden um zusätzliche Funktinalität bzw. Fallabdeckungen in Schleifen umzusetzen:\n",
    "* `break`: \"Bricht aus\" der aktuellen nächsten liegenden geschlossenen Schleife aus\n",
    "* `continue`: Geht zum Anfang der am nächsten liegenden geschlossenen Schleifen\n",
    "* `pass`: macht.. nichts!"
   ]
  },
  {
   "cell_type": "markdown",
   "metadata": {},
   "source": [
    "## Nützliche Funktionen in Verbindung mit Schleifen\n",
    "### enumerate\n",
    "In Verbindung mit Schleifen gibt es die nützliche Funktion `enumerate`. Diese unterstützt z.B. beim Zählen von Schleifendurchläufen."
   ]
  },
  {
   "cell_type": "code",
   "execution_count": null,
   "metadata": {},
   "outputs": [],
   "source": [
    "#Zählen von Durchläufen mit index\n"
   ]
  },
  {
   "cell_type": "code",
   "execution_count": null,
   "metadata": {},
   "outputs": [],
   "source": [
    "#Zählen von Durchläufen mit enumerate\n",
    "\n"
   ]
  },
  {
   "cell_type": "code",
   "execution_count": null,
   "metadata": {},
   "outputs": [],
   "source": []
  },
  {
   "cell_type": "markdown",
   "metadata": {},
   "source": [
    "### ZIP\n",
    "Wir haben gesehen das *Tuple unpacking* sehr hilfreich sein kann. Um z.B. aus Listen schnell eine Liste aus Tupeln zu machen eignet sich die Funktion `zip`."
   ]
  },
  {
   "cell_type": "code",
   "execution_count": null,
   "metadata": {},
   "outputs": [],
   "source": [
    "# zip auf zwei Listen\n",
    "\n"
   ]
  },
  {
   "cell_type": "markdown",
   "metadata": {},
   "source": [
    "### List Comprehensions\n",
    "Für die Verarbeitung von Listen gibt es neben den Sequenz Operationen *(z.B.: `[2:8]`, `[:]`, ...)* und Methoden *(z.B.: `split()`, `upper()`, ...)* auf Listen noch fortgeschrittene Operationen, sogenannte **List Comprehensions**."
   ]
  },
  {
   "cell_type": "code",
   "execution_count": null,
   "metadata": {},
   "outputs": [],
   "source": [
    "#list comprehensions Beispiele\n",
    "\n",
    "\n"
   ]
  }
 ],
 "metadata": {
  "kernelspec": {
   "display_name": "Python 3",
   "language": "python",
   "name": "python3"
  },
  "language_info": {
   "codemirror_mode": {
    "name": "ipython",
    "version": 3
   },
   "file_extension": ".py",
   "mimetype": "text/x-python",
   "name": "python",
   "nbconvert_exporter": "python",
   "pygments_lexer": "ipython3",
   "version": "3.7.6"
  }
 },
 "nbformat": 4,
 "nbformat_minor": 2
}
