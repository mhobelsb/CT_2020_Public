{
 "cells": [
  {
   "cell_type": "markdown",
   "metadata": {},
   "source": [
    "![CT Logo](img/ct_logo_small.png)\n",
    "# Vorlesung \"Computational Thinking\"        \n",
    "## Module/Packages, Debugging, Datenstruktur Stack/Queue\n",
    "#### Prof. Dr.-Ing. Martin Hobelsberger, CT_8"
   ]
  },
  {
   "cell_type": "markdown",
   "metadata": {},
   "source": [
    "### Lernziele dieser Einheit\n",
    "\n",
    "* Module/Packages\n",
    "* Debugging\n",
    "* Datenstruktur Stack und Queue\n",
    "    \n",
    "\n",
    "#### Was Sie bisher schon Wissen/Können sollten\n",
    "* Strukturiere Ein-/Ausgabe\n",
    "* Variablen\n",
    "* Datentypen (Arithmetische und Sequenzielle)\n",
    "* Arithmetische Ausdrücke und Vergleiche\n",
    "* Kontrollstrukturen (IF-Statement, For-/While-Schleife)\n",
    "* Dateien lesen/schreiben\n",
    "* Nützliche Funktionen (zip, enumerate, list comprehensions)\n",
    "* Funktionen\n",
    "* Dictionaries\n",
    "* map()/filter()\n",
    "* Lambda Expressions\n",
    "* Generatoren/Iteratoren\n",
    "* Grundfunktionen und einfache Datenanalyse mit Pandas\n",
    "* Grundlagen der Bibliothek Numpy\n",
    "* Grundlagen der objektorientierten Programmierung"
   ]
  },
  {
   "cell_type": "code",
   "execution_count": 9,
   "metadata": {},
   "outputs": [
    {
     "data": {
      "text/html": [
       "<style>.container {width:100% !important;}</style>"
      ],
      "text/plain": [
       "<IPython.core.display.HTML object>"
      ]
     },
     "metadata": {},
     "output_type": "display_data"
    }
   ],
   "source": [
    "# Settings für CT_6\n",
    "\n",
    "from IPython.core.display import display, HTML\n",
    "display(HTML(\"<style>.container {width:100% !important;}</style>\"))\n"
   ]
  },
  {
   "cell_type": "markdown",
   "metadata": {},
   "source": [
    "### Organisation in Module\n",
    "Module in Python sind einfach Python Dateien mit der `.py` Dateiendung welche Funktionen implementieren. Module werden über das Befehlswort `import` importiert. Eine Liste an *build-in* Modulen der Python Standard Library finden Sie [hier](https://docs.python.org/3/py-modindex.html).\n",
    "\n",
    "Das Modul wird beim ersten Laden in einem Python Script initialisiert indem der Code des Moduls einmal ausgeführt wird. Wenn ein anderes Modul im code das gleiche Modul noch einmal importiert wird dieses nicht noch einmal geladen sondern bleibt nur einmal initialisiert. Man spricht hier auch vom sogenannten **Singleton Pattern**. Mehr dazu bei Interesse [hier](https://python-patterns.guide/gang-of-four/singleton/).\n",
    "\n",
    "Als Beispiel wollen wir uns das `math` Modul ansehen:"
   ]
  },
  {
   "cell_type": "code",
   "execution_count": 10,
   "metadata": {},
   "outputs": [],
   "source": [
    "# import der Bibliothek math\n",
    "import math"
   ]
  },
  {
   "cell_type": "code",
   "execution_count": 14,
   "metadata": {},
   "outputs": [
    {
     "name": "stdout",
     "output_type": "stream",
     "text": [
      "['__doc__', '__loader__', '__name__', '__package__', '__spec__', 'acos', 'acosh', 'asin', 'asinh', 'atan', 'atan2', 'atanh', 'ceil', 'copysign', 'cos', 'cosh', 'degrees', 'e', 'erf', 'erfc', 'exp', 'expm1', 'fabs', 'factorial', 'floor', 'fmod', 'frexp', 'fsum', 'gamma', 'gcd', 'hypot', 'inf', 'isclose', 'isfinite', 'isinf', 'isnan', 'ldexp', 'lgamma', 'log', 'log10', 'log1p', 'log2', 'modf', 'nan', 'pi', 'pow', 'radians', 'remainder', 'sin', 'sinh', 'sqrt', 'tan', 'tanh', 'tau', 'trunc']\n",
      "Help on built-in function ceil in module math:\n",
      "\n",
      "ceil(x, /)\n",
      "    Return the ceiling of x as an Integral.\n",
      "    \n",
      "    This is the smallest integer >= x.\n",
      "\n"
     ]
    },
    {
     "data": {
      "text/plain": [
       "3"
      ]
     },
     "execution_count": 14,
     "metadata": {},
     "output_type": "execute_result"
    }
   ],
   "source": [
    "# Analyse des Moduls über `dir` und `help`\n",
    "print(dir(math))\n",
    "\n",
    "help(math.ceil)\n",
    "\n",
    "math.ceil(3.3)\n",
    "\n",
    "round(3.3)"
   ]
  },
  {
   "cell_type": "markdown",
   "metadata": {},
   "source": [
    "#### Eigene Module\n",
    "Eigene Module in Python anzulegen ist simpel. Einfach ein neues `.py` Python File erstellen. Der Name ist der Modulname. Darüber dann mit `import` in ein anderes File importieren (Pfad beachten)."
   ]
  },
  {
   "cell_type": "markdown",
   "metadata": {},
   "source": [
    "#### Eigene Packages\n",
    "\n",
    "*Packages* sind, wie der Name schon sagt, Pakete geschnürt aus Modulen. In einem Package wird ein Namensraum definiert über diesen die, in Modulen organisierten, Funktionen eingebunden werden können. Im Grunde sind Packages einfach Ordner mit einer kleinen Besonderheit:\n",
    "\n",
    "Soll ein Ordner als *Package* betrachtet werden muss in diesem Ordner eine Datei `__init__.py` existieren. Dieses File kann entweder leer sein oder es wird definiert welche Module das Packages nach außen sichtbar macht. "
   ]
  },
  {
   "cell_type": "markdown",
   "metadata": {},
   "source": [
    "### Debugging\n",
    "Der Begriff des \"Debuggings\" wird für die systematische Fehlersuche in Programmen verwendet. --> Ausflug in Visual Studio Code"
   ]
  },
  {
   "cell_type": "markdown",
   "metadata": {},
   "source": [
    "### Datenstrukturen Stack/Queue\n",
    "\n",
    "#### Der Stack\n",
    "Der Stack ist eine Datenstruktur mit folgenden Eigenschaften:\n",
    "* Er ist vergleichbar mit einem Stapel auf dem immer nur oben was drauf gelegt werden darf (*Push-Operation*) und von dem jeweils nur das letzte hinzu gelegte weggenommen werden darf (*Pop-Operation*).\n",
    "* Dies entspricht dem **LIFO-Prinzip (Last In First Out)**\n",
    "\n",
    "Der Stack ist damit die ideale Datenstruktur, um lokale Daten, einschließlich Rücksprungadresse, eines Unterprogramms aufzunehmen. Die Schachtelung von Unterprogrammaufrufen verhält sich nämlich genauso: das zuletzt aufgerufene Unterprogramm kehrt als erstes zurück (LIFO).\n",
    "\n",
    "![stack.png](img/CT_7/stack.png)\n",
    "\n",
    "Am einfachsten wird ein Stack mittels eines Zeigers, dem Stackpointer (SP) implementiert, der immer auf das aktuelle Ende des Stacks zeigt.\n",
    "Zu Beginn ist der Stack leer, d.h. der Stackpointer zeigt auf das untere Ende des Stackbereichs BOS (Bottom of Stack).\n",
    "Der Speicherplatz zwischen dem SP und dem BOS gilt als belegter Speicher, der Rest ist frei."
   ]
  },
  {
   "cell_type": "code",
   "execution_count": 18,
   "metadata": {},
   "outputs": [
    {
     "data": {
      "text/plain": [
       "[1, 2, 3, 4]"
      ]
     },
     "execution_count": 18,
     "metadata": {},
     "output_type": "execute_result"
    }
   ],
   "source": [
    "# simpler stack\n",
    "stack = [1,2,3,4]\n",
    "stack.append(5)\n",
    "stack.pop()\n",
    "stack\n"
   ]
  },
  {
   "cell_type": "markdown",
   "metadata": {},
   "source": [
    "**Modul Collections - Deque (Double Ended Queue)**\n",
    "Eine performantere Implementierung eines Stacks ist mit dem Modul `collections` und daraus der *Deque* (Double Ended Queue) möglich. Deque wird gegenüber der Liste präferiert sobald ein schnellerer Zugriff notwendig wird. Dabei erlaubt Deque einen Zugriff mit der Komplexität O(1) für append und pop wohingegen eine Liste O(n) Komplexität hat. "
   ]
  },
  {
   "cell_type": "code",
   "execution_count": 20,
   "metadata": {},
   "outputs": [
    {
     "name": "stdout",
     "output_type": "stream",
     "text": [
      "deque(['a', 'b', 'c'])\n",
      "deque(['a', 'b'])\n"
     ]
    }
   ],
   "source": [
    "from collections import deque\n",
    "\n",
    "stack = deque()\n",
    "stack.append('a')\n",
    "stack.append('b')\n",
    "stack.append('c')\n",
    "print(stack)\n",
    "\n",
    "stack.pop()\n",
    "print(stack)\n"
   ]
  },
  {
   "cell_type": "markdown",
   "metadata": {},
   "source": [
    "**Anwendung eine Stack: Speichermanagement**\n",
    "\n",
    "Möchte man neuen Speicherplatz auf dem Stack reservieren, wird der Stackpointer um die entsprechende Anzahl von Bytes verschoben.\n",
    "Will man den Speicher wieder freigeben, so schiebt man den Stackpointer um den entsprechenden Betrag zurück.\n",
    "Auf dem Stack wird der Speicherplatz immer genau in der umgekehrten Reihenfolge freigegeben, in der er angefordert wurde."
   ]
  },
  {
   "cell_type": "markdown",
   "metadata": {},
   "source": [
    "#### Die Queue\n",
    "\n",
    "Queues sind ähnlich zu Stacks aber folgen einem anderen Prinzip: **First In, First Out (FIFO)**\n",
    "\n",
    "Ein Beispiel wäre eine Warteschlange vor einem Restaurant. Der Kunde am Anfang der Schlange wird zuerst bedient. Alle darauffolgenden in der Reihenfolge des Ankommens. So verhält sich auch die Datenstruktur Queue. "
   ]
  },
  {
   "cell_type": "code",
   "execution_count": 25,
   "metadata": {},
   "outputs": [
    {
     "data": {
      "text/plain": [
       "deque([2, 3])"
      ]
     },
     "execution_count": 25,
     "metadata": {},
     "output_type": "execute_result"
    }
   ],
   "source": [
    "queue = [1,2,3,4]\n",
    "\n",
    "queue.append(5)\n",
    "queue.pop(0)\n",
    "queue\n",
    "\n",
    "queue = deque()\n",
    "queue.append(1)\n",
    "queue.append(2)\n",
    "queue.append(3)\n",
    "queue\n",
    "queue.popleft()\n",
    "queue"
   ]
  },
  {
   "cell_type": "code",
   "execution_count": null,
   "metadata": {},
   "outputs": [],
   "source": []
  }
 ],
 "metadata": {
  "kernelspec": {
   "display_name": "Python 3",
   "language": "python",
   "name": "python3"
  },
  "language_info": {
   "codemirror_mode": {
    "name": "ipython",
    "version": 3
   },
   "file_extension": ".py",
   "mimetype": "text/x-python",
   "name": "python",
   "nbconvert_exporter": "python",
   "pygments_lexer": "ipython3",
   "version": "3.7.6"
  }
 },
 "nbformat": 4,
 "nbformat_minor": 4
}
