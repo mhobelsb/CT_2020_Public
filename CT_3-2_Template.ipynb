{
 "cells": [
  {
   "cell_type": "markdown",
   "metadata": {},
   "source": [
    "![CT Logo](img/ct_logo_small.png)\n",
    "# Vorlesung \"Computational Thinking\"\n",
    "### Map/Filter-Funktionen, Lamda-Operatoren, Iteratoren, Generator-Funktionen\n",
    "#### Prof. Dr.-Ing. Martin Hobelsberger, CT_3-2"
   ]
  },
  {
   "cell_type": "markdown",
   "metadata": {},
   "source": [
    "### Lernziele dieser Einheit\n",
    "\n",
    "* Übergabe beliebiger Anzahl an Argumenten an Funktionen\n",
    "* Map/Filter-Funktionen\n",
    "* Lambda-Expressions\n",
    "* Iteratoren und Generatoren\n",
    "\n",
    "#### Was Sie bisher schon Wissen/Können sollten\n",
    "* Strukturiere Ein-/Ausgabe\n",
    "* Variablen\n",
    "* Datentypen (Arithmetische und Sequenzielle)\n",
    "* Arithmetische Ausdrücke und Vergleiche\n",
    "* Kontrollstrukturen (IF-Statement, For-/While-Schleife)\n",
    "* Dateien lesen/schreiben\n",
    "* Nützliche Funktionen (zip, enumerate, list comprehensions)\n",
    "* Datentyp Dictionaries\n",
    "* Grundlagen zu Funktionen "
   ]
  },
  {
   "cell_type": "markdown",
   "metadata": {},
   "source": [
    "## Funktionen: Willkürliche Zahl an Argumenten"
   ]
  },
  {
   "cell_type": "markdown",
   "metadata": {},
   "source": [
    "## `*args` und `**kwargs`\n",
    "Willkürliche Zahl an Argumenten einer Funktion übergeben:"
   ]
  },
  {
   "cell_type": "code",
   "execution_count": null,
   "metadata": {},
   "outputs": [],
   "source": [
    "#*args Beispiele\n"
   ]
  },
  {
   "cell_type": "code",
   "execution_count": null,
   "metadata": {},
   "outputs": [],
   "source": [
    "# **kwargs Beispiele (Keyworded Arguments)\n"
   ]
  },
  {
   "cell_type": "code",
   "execution_count": null,
   "metadata": {},
   "outputs": [],
   "source": []
  },
  {
   "cell_type": "markdown",
   "metadata": {},
   "source": [
    "### Map-Funktion, Filter-Funktion\n",
    "Im Folgenden werden nützliche Funktionen beschrieben die oft im Umgang mit Funktionen verwendet werden:"
   ]
  },
  {
   "cell_type": "markdown",
   "metadata": {},
   "source": [
    "#### Map-Funktion\n",
    "Die `map`-Funktion erlaubt es (wie der Name schon sagt) eine Funktion auf ein *iterierbares*-Objekt zu *mappen* - also die gleiche Funktion auf jedes Element in einem Iterierbaren Objek (z.B.: Listen) anzuwenden."
   ]
  },
  {
   "cell_type": "code",
   "execution_count": null,
   "metadata": {},
   "outputs": [],
   "source": [
    "#Map Funktion\n"
   ]
  },
  {
   "cell_type": "code",
   "execution_count": null,
   "metadata": {},
   "outputs": [],
   "source": [
    "#Map Funktion\n"
   ]
  },
  {
   "cell_type": "markdown",
   "metadata": {},
   "source": [
    "#### Filter-Funktion\n",
    "Die `filter`-Funktion liefert einen *Iterator* zurück der die Elemente eines *Iterierbaren*-Objektes enthält für die die Funktion ein `true` liefert. --> Man benötigt eine Funktion die `true` oder `false`liefert."
   ]
  },
  {
   "cell_type": "code",
   "execution_count": null,
   "metadata": {},
   "outputs": [],
   "source": [
    "#Filter Funktion\n"
   ]
  },
  {
   "cell_type": "markdown",
   "metadata": {},
   "source": [
    "### Lambda-Operatoren\n",
    "Lambda-Operatoren oder Lambda Expressions (wie im weiteren genannt) erlauben es *anonyme* Funktionen zu erstellen. Also Funktionen ohne den `def`-Rumpf. Dies ist auch der Hauptunterschied zu normalen Funktionen. Eine Lambda Expression ist ein einziger Ausdruck/Anweisung und kein Block von Statements:\n",
    "* Lamdas sind ähnlich zum `return`-Statement einer mit `def` definierten Funktion. \n",
    "* Da es auf eine Anweisung limitiert ist sind Lambdas weniger generell/ausdruckstark\n",
    "* Lambdas sind designed für einfache Funktionen\n",
    "\n",
    "Ein Beispiel:"
   ]
  },
  {
   "cell_type": "code",
   "execution_count": null,
   "metadata": {},
   "outputs": [],
   "source": [
    "#Lambda herleitung\n"
   ]
  },
  {
   "cell_type": "code",
   "execution_count": null,
   "metadata": {},
   "outputs": [],
   "source": [
    "#Lambda Funktion\n"
   ]
  },
  {
   "cell_type": "markdown",
   "metadata": {},
   "source": [
    "Wenn es doch eh das gleiche ist, warum verwenden wir dann Lambdas? Zurück zu `map()` und `filter()`. Oft benötigt man die Funktion die angewendet wird nur ein einziges mal. "
   ]
  },
  {
   "cell_type": "code",
   "execution_count": null,
   "metadata": {},
   "outputs": [],
   "source": [
    "#Lambda Funktion\n"
   ]
  },
  {
   "cell_type": "code",
   "execution_count": null,
   "metadata": {},
   "outputs": [],
   "source": [
    "#Lambda Funktion\n"
   ]
  },
  {
   "cell_type": "markdown",
   "metadata": {},
   "source": [
    "## Iteratoren und Generatoren (Generator Funktionen)\n"
   ]
  },
  {
   "cell_type": "markdown",
   "metadata": {},
   "source": [
    "### Iteratoren\n",
    "Ein Iterator bezeichnet einen Zeiger (Referenz auf ein Objekt im Speicher) um über die Elemente einer Menge von Objekten zu *iterieren*. Er erlaubt es also auf alle Elemente einer Menge zuzugreifen ohne dass man die Datenstruktur explizit kennt. In Python (wie auch z.B. in Java) stehen Iteratoren implizit zur Verfügung und können direkt (z.B.: in `for`-Schleifen) verwendet werden. "
   ]
  },
  {
   "cell_type": "code",
   "execution_count": null,
   "metadata": {},
   "outputs": [],
   "source": [
    "# Einfaches durchlaufen einer for-Schleife\n"
   ]
  },
  {
   "cell_type": "markdown",
   "metadata": {},
   "source": [
    "Die sequenziellen \"Build-in\"-Typen (Listen, Strings aber auch Dicts) in Python unterstützen dabei bereits Iteratoren. Diese sind also fundamentaler Bestandteil von Python. Durch die Abstraktionsebene des Iterators und somit der Entkoppplung von der zu durchlaufenden Daten-Darstellung ist ein Iterator im Normalfall **performanter** als eine typische For-Schleife.\n",
    "\n",
    "Ein Iterator *zeigt* also immer auf das *nächste* (next) Element. Dies kann man in Python auch folgendermaßen ausdrücken:"
   ]
  },
  {
   "cell_type": "code",
   "execution_count": null,
   "metadata": {},
   "outputs": [],
   "source": [
    "#iter()\n"
   ]
  },
  {
   "cell_type": "markdown",
   "metadata": {},
   "source": [
    "Diese Art der Verwendung von Iteratoren wird wichtig wenn wir spezielle Funktione, sogenannte Generator-Funktionen, verwenden. Um in Python einen Iterator zu benutzen, sind eigentlich nur zwei Methoden wichtig:\n",
    "\n",
    "* `iter()`\n",
    "* `next()`\n",
    "\n",
    "Mit *iter()* wird ein entsprechendes Iterator Objekt für die übergebene Datenstruktur erzeugt.\n",
    "\n",
    "Mit *next()* kann immer das nächste Element abgefragt werden. Sollte es kein nächstes Element mehr geben wird `None` zurückgegeben. "
   ]
  },
  {
   "cell_type": "markdown",
   "metadata": {},
   "source": [
    "### Generatoren (Generator Funktionen)\n",
    "Eine **Generator-Funktion** unterscheided sich von einer normalen Funktion darin dass, unter zuhilfenahme von Iteratoren, nicht alle Daten auf einmal zurückgeliefert werden sondern die Elemente in mehreren Schritten zurück gegeben werden. Generator-Funktionen speichern dabei ihren lokalen Zustand (also den Wert einer Variable z.B.) zwischen den Funktionsaufrufen. \n",
    "\n",
    "Ein Generator ist also eine Funktion die für jeden Aufruf Werte zurückgibt bis eine Ausnahme (`StopIteration Exception`) auftritt welche angibt das alle Werte generiert wurden. Ein Beispiel hierfür wären z.B.: die bekannten Funktionen `range()`, `map()` und `filter()`. \n",
    "\n",
    "Bisher haben wir Funktionen immer über `def` und `return` erzeugt. Generator-Funktionen erlauben es Funktionen zu schreiben die Werte nicht auf einmal sondern einzeln zurückgeben. Dafür verwendet man das Befehlswort `yield`. "
   ]
  },
  {
   "cell_type": "code",
   "execution_count": null,
   "metadata": {},
   "outputs": [],
   "source": [
    "# Einfaches Beispiel zu Generatoren\n"
   ]
  },
  {
   "cell_type": "code",
   "execution_count": null,
   "metadata": {},
   "outputs": [],
   "source": [
    "# Iterate on String\n"
   ]
  },
  {
   "cell_type": "markdown",
   "metadata": {},
   "source": [
    "String Objekte erlauben Iterationen aber wir können nicht direkt über diese mit `next()` iterieren wie mit Generator-Funktionen. Abhilfe schafft hier die `iter()` Funktion. "
   ]
  },
  {
   "cell_type": "code",
   "execution_count": null,
   "metadata": {},
   "outputs": [],
   "source": [
    "# iter()\n"
   ]
  },
  {
   "cell_type": "code",
   "execution_count": null,
   "metadata": {},
   "outputs": [],
   "source": []
  }
 ],
 "metadata": {
  "kernelspec": {
   "display_name": "Python 3",
   "language": "python",
   "name": "python3"
  },
  "language_info": {
   "codemirror_mode": {
    "name": "ipython",
    "version": 3
   },
   "file_extension": ".py",
   "mimetype": "text/x-python",
   "name": "python",
   "nbconvert_exporter": "python",
   "pygments_lexer": "ipython3",
   "version": "3.7.6"
  }
 },
 "nbformat": 4,
 "nbformat_minor": 4
}
