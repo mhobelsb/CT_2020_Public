{
 "cells": [
  {
   "cell_type": "markdown",
   "metadata": {},
   "source": [
    "![CT Logo](img/ct_logo_small.png)\n",
    "# Vorlesung \"Computational Thinking\"\n",
    "### Dictionaries, Funktionen\n",
    "#### Prof. Dr.-Ing. Martin Hobelsberger, CT_3"
   ]
  },
  {
   "cell_type": "markdown",
   "metadata": {},
   "source": [
    "### Lernziele dieser Einheit\n",
    "\n",
    "* Datentyp: Dictionary\n",
    "* Einführung in Funktionen\n",
    "* Klasse der Iteratoren\n",
    "\n",
    "#### Was Sie bisher schon Wissen/Können sollten\n",
    "* Strukturiere Ein-/Ausgabe\n",
    "* Variablen\n",
    "* Datentypen (Arithmetische und Sequenzielle)\n",
    "* Arithmetische Ausdrücke und Vergleiche\n",
    "* Kontrollstrukturen (IF-Statement, For-/While-Schleife)\n",
    "* Dateien lesen/schreiben\n",
    "* Nützliche Funktionen (zip, enumerate, list comprehensions)"
   ]
  },
  {
   "cell_type": "markdown",
   "metadata": {},
   "source": [
    "## Neue Datenstruktur: Dictionary (Map)\n",
    "Bisher haben wir Datenstrukturen verwendet die in die Kategorie *Sequenz* fallen. Bei einer Sequenz werden Objekte anhand ihrer relativen Position gespeichert. Eine weitere, sehr nützliche, Datenstruktur ist das sogennante **Mapping**. Hier werden Objekte durch einen sogenannten *Schlüssel* (Key) gespeichert. Diese Objekte haben keine Ordnung sondern sind definiert durch einen Schlüssel. Man nennt diese Datenstruktur in Python [**Dictionary**](https://docs.python.org/3/tutorial/datastructures.html#dictionaries)\n",
    "\n",
    "*Für alle mit Backround in einer anderen Programmiersprache: Dictionaries sind ähnlich zu hash tables*"
   ]
  },
  {
   "cell_type": "markdown",
   "metadata": {},
   "source": [
    "### Dictionaries\n",
    "Ein Dictionary ist eine Datenstruktur mit welcher *Schlüssel/Wert Paare* verwaltet werden. Dabei gilt:\n",
    "\n",
    "* Ein Schlüssel ist **immer** einzigartig.\n",
    "* Schlüssel müssen *immutable* sein. Schlüssel sind aufgebaut aus *Strings*, *Nummern* oder auch *Tuple*. Die (Schlüssel-)Tupel dürfen wiederum nur immutable Objekte enthalten (Strings, Nummern, Tuple). \n",
    "* Der Wert ist dem Schlüssel fest *zugeordnet* und kann **jede mögliche Datenstruktur** abbilden. \n",
    "\n",
    "``` python\n",
    "myDict = {\n",
    "    \"key1\": 'value1',\n",
    "    \"key2\": ['value0', 'value1']\n",
    "}\n",
    "```"
   ]
  },
  {
   "cell_type": "code",
   "execution_count": null,
   "metadata": {},
   "outputs": [],
   "source": [
    "# Dictionary erstellen und ausgeben\n",
    "\n",
    "\n"
   ]
  },
  {
   "cell_type": "code",
   "execution_count": null,
   "metadata": {},
   "outputs": [],
   "source": [
    "# Dictionary erstellen\n"
   ]
  },
  {
   "cell_type": "code",
   "execution_count": null,
   "metadata": {},
   "outputs": [],
   "source": [
    "# Dictionary in Dictionary (Nesting)\n",
    "\n"
   ]
  },
  {
   "cell_type": "markdown",
   "metadata": {},
   "source": [
    "#### Dictionaries haben wieder eine Reihe von Methoden\n",
    "Built-in Methoden auf einem Dictionary\n",
    "\n",
    "* `d.clear()` : löscht alle Elemente in dem Dictionary\n",
    "* `d.copy()` : gibt eine Kopie des kompletten Dictionaries zurück\n",
    "* `d.get(key)` : gibt den Wert des angefragten keys zurück\n",
    "* `d.items()` : gibt eine Liste von alles key/value Paaren zurück\n",
    "* `d.keys()` : gibt eine Liste von allen Schlüsseln zurück\n",
    "* `d.pop(key)` : entfernt den Wert zum zugehörigen Schlüssel\n",
    "* `d.update(key, value)` : aktualisiert das Schlüssel/Wert Paar\n",
    "* `d.values()` : liefert eine Liste von alles Werten zurück"
   ]
  },
  {
   "cell_type": "code",
   "execution_count": null,
   "metadata": {},
   "outputs": [],
   "source": [
    "# Dictionary Methoden\n",
    "\n"
   ]
  },
  {
   "cell_type": "code",
   "execution_count": null,
   "metadata": {},
   "outputs": [],
   "source": [
    "# Unterschied von d.get('key4') zu d['key4']\n"
   ]
  },
  {
   "cell_type": "code",
   "execution_count": null,
   "metadata": {},
   "outputs": [],
   "source": [
    "# Arbeiten mit Dictionary \n",
    "\n"
   ]
  },
  {
   "cell_type": "code",
   "execution_count": null,
   "metadata": {},
   "outputs": [],
   "source": [
    "# Arbeiten mit Dictionaries - Kopie != View\n",
    "\n"
   ]
  },
  {
   "cell_type": "code",
   "execution_count": null,
   "metadata": {},
   "outputs": [],
   "source": [
    "# Zusammenführen von Dictionaries (\"Old Way vs. > 3.9 Way\")\n",
    "\n",
    "\n"
   ]
  },
  {
   "cell_type": "markdown",
   "metadata": {},
   "source": [
    "#### Beispiel: Pokemon (again)\n",
    "Nachdem wir nun einige Methoden kennengelernt haben um Daten sequentiell anzuschauen und Abfragen zu stellen, wäre es nun auch schön diese Daten zu gruppieren und umzustrukturieren um vielleicht einen größeren Mehrwert aus einem Code-Segment zu haben. Die bisherig Struktur die wir zum ablegen kennengelernt haben sind entweder einfache Variablen oder ganze Listen.\n",
    "\n",
    "**Problem**: Was ist, wenn wir nun gerne alle Pokemon Species nach den Kriterien\n",
    "* *>* *100* (gefährlich)\n",
    "* nicht gefählich\n",
    "\n",
    "gruppieren möchten?\n",
    "\n",
    "Nach aktuellem Stand müssten wir dann 2 Listen halten und diese einzeln ansprechen. Für solche **Gruppierungen eignet sich die Datenstruktur Dictionary**."
   ]
  },
  {
   "cell_type": "code",
   "execution_count": null,
   "metadata": {},
   "outputs": [],
   "source": [
    "import pandas as pd\n",
    "df = pd.read_csv('data/pokemon.csv', nrows=20)\n"
   ]
  },
  {
   "cell_type": "code",
   "execution_count": null,
   "metadata": {},
   "outputs": [],
   "source": []
  },
  {
   "cell_type": "markdown",
   "metadata": {},
   "source": [
    "#### Beispiel: USA Election\n",
    "\n",
    "Die USA-Wahl ist diese Woche ein großes Thema weltweit. Aus diesem Grund möchten auch wir uns dem ganzen witmen und mit einem [Datensatz](https://www.kaggle.com/benhamner/2016-us-election) diesbezüglich arbeiten. *Der Datensatz ist von der Online-Community ***kaggle*** und beinhaltet Daten zu der **US-Wahl von 2016**.*"
   ]
  },
  {
   "cell_type": "code",
   "execution_count": null,
   "metadata": {},
   "outputs": [],
   "source": [
    "# Einlesen der Daten mit der pandas Bibliothek\n",
    "import pandas as pd\n",
    "df = pd.read_csv('data/uselection_2016.csv')\n",
    "df[:10]\n"
   ]
  },
  {
   "cell_type": "markdown",
   "metadata": {},
   "source": [
    "Wir wollen uns nun in dem **alten Datensatz** mit Kandidaten beschäftigen: *Donald Trump* und *Hillary Clinton* aufteilen und alle **votes** der Kandidaten in einer zugehörigen Liste ablegen. Danach möchten wir alle *votes* des jeweiligen Kandidaten addieren und die Differenz der beiden ausgeben (print)."
   ]
  },
  {
   "cell_type": "code",
   "execution_count": null,
   "metadata": {},
   "outputs": [],
   "source": [
    "# Definition eines leeren Dictionaries\n",
    "d = {}"
   ]
  },
  {
   "cell_type": "code",
   "execution_count": null,
   "metadata": {},
   "outputs": [],
   "source": [
    "# Definition unserer zwei keys\n",
    "DT = 'Donald Trump'\n",
    "HC = 'Hillary Clinton'"
   ]
  },
  {
   "cell_type": "code",
   "execution_count": null,
   "metadata": {},
   "outputs": [],
   "source": [
    "# Iteration über alle Einträge und herausfiltern aller Votes der jeweiligen Kandidaten\n"
   ]
  },
  {
   "cell_type": "markdown",
   "metadata": {},
   "source": [
    "Nun wurde der komplette Datensatz sequentiell bearbeitet und ein Dicitonary steht bereit, in dem **Votes** von Hillary Clinton und Donald Trump gruppiert vorgehalten sind."
   ]
  },
  {
   "cell_type": "code",
   "execution_count": null,
   "metadata": {},
   "outputs": [],
   "source": [
    "# Berechnen der Summe\n"
   ]
  },
  {
   "cell_type": "code",
   "execution_count": null,
   "metadata": {},
   "outputs": [],
   "source": [
    "# Ausgabe der Differenz\n"
   ]
  },
  {
   "cell_type": "markdown",
   "metadata": {},
   "source": [
    "Wie zu sehen ist es leider etwas unschön ein Dictionary mit einer Liste aktuell und die Liste auch noch unique zu halten. Trotzdem lohnt sich der Aufwand sehr, da die Zugriffsgeschwindigkeit dank des **einzigartigen** Schlüssels sehr schnell ist und somit Daten sehr schön gegliedert in einem Dictionary vorgehalten werden können."
   ]
  },
  {
   "cell_type": "markdown",
   "metadata": {},
   "source": [
    "## Methoden\n",
    "Wir haben bisher schon eine Vielzahl an **Methoden** verwendet (String Methoden, Listen Methoden, Dictionary Methoden, ...). Im wesentlichen sind Methoden *in Objekte \"eingebaute\" Funktionen*. What?! Im Detail kommen wir noch einmal darauf zurück wenn wir uns mit dern Objektorientierten Programmierung beschäftigen. Für heute: Methoden führen bestimmte Aktionen zu einem Objekt aus und können zusätzlich Argumente übernehmen. Methoden sehen wie folgt aus:\n",
    "\n",
    "`object.methode(argument)`\n",
    "\n",
    "Beispiele:"
   ]
  },
  {
   "cell_type": "code",
   "execution_count": null,
   "metadata": {},
   "outputs": [],
   "source": [
    "# Methoden Beispiele\n",
    "\n",
    "lst = list(range(11))\n",
    "lst.append(10)\n",
    "lst.count(10)\n",
    "\n",
    "help(lst.count)"
   ]
  },
  {
   "cell_type": "markdown",
   "metadata": {},
   "source": [
    "## Funktionen\n",
    "Funktionen kennt man aus der Mathematik: `f(x) = 2x + 3`. Dies ist eine Funktion `f` mit dem Argument `x` welche `zwei mal x plus 3` \"zurückgibt\". Dies ist analog zu folgender Python Funktion:\n",
    "\n",
    "```python\n",
    "def f(x): \n",
    "    return 2*x + 3\n",
    "```\n",
    "In der Programmierung ist es möglich eigene Funktionen in einem Programm zu definieren und damit das Programm zu strukturieren. Funktionen \"gruppieren\" eine Anzahl von Anweisungen um diese mehrfach zu verwenden. Es können Parameter definiert werden die als Input für die Funktionen dienen. Im folgenden der Aufbau dieser Funktionen:\n",
    "\n",
    "```python\n",
    "def name_der_funktion(arg1,arg2):\n",
    "    '''\n",
    "    An dieser Stelle steht der sog. \"docstring\".\n",
    "    Dieser wird ausgegeben wenn help() zur Funktion aufgerufen wird.\n",
    "    '''\n",
    "    # Code\n",
    "    # Code\n",
    "    # Rückgabewert\n",
    "```\n",
    "Der Name für `name_der_funktion` darf frei vergeben werden. Jedoch achtet man in der Programmierung stets auf **sprechende** Funktionsnamen."
   ]
  },
  {
   "cell_type": "code",
   "execution_count": null,
   "metadata": {},
   "outputs": [],
   "source": [
    "# Beispiele für einfache Funktionen\n",
    "\n",
    "# Einfaches Beispiel zu Funktionen!\n",
    "\n",
    "def f(x: int): \n",
    "    return 2*x + 3\n",
    "\n",
    "    "
   ]
  },
  {
   "cell_type": "code",
   "execution_count": null,
   "metadata": {},
   "outputs": [],
   "source": [
    "# Beispiele für einfache Funktionen\n",
    "\n"
   ]
  },
  {
   "cell_type": "markdown",
   "metadata": {},
   "source": [
    "#### Rückgabewerte\n",
    "Wenn wir Ergebnise zurückgeben wollen muss das Keyword `return` verwendet werden. "
   ]
  },
  {
   "cell_type": "code",
   "execution_count": null,
   "metadata": {},
   "outputs": [],
   "source": [
    "# Weitere einfache Beispiele\n",
    "\n",
    "\n"
   ]
  },
  {
   "cell_type": "code",
   "execution_count": null,
   "metadata": {},
   "outputs": [],
   "source": [
    "# Beispiel mit Modulo\n",
    "\n"
   ]
  },
  {
   "cell_type": "code",
   "execution_count": null,
   "metadata": {},
   "outputs": [],
   "source": [
    "# Beispiel mit Modulo auf mehrere Werte\n",
    "\n"
   ]
  },
  {
   "cell_type": "markdown",
   "metadata": {},
   "source": [
    "#### Mehrere Rückgabewerte mit Tuple\n",
    "Zur Erinnerung: Ein **Tupel** ist eine Kommagetrennte Folge von Werten, welche mit *()* oder ohne geschrieben werden kann. Es können *x*-beliebig viele Werte hinter einander gereiht werden.\n",
    "\n",
    "Das folgende **Beispiel** zeigt die Rückgabe eines **Tuples**."
   ]
  },
  {
   "cell_type": "code",
   "execution_count": null,
   "metadata": {},
   "outputs": [],
   "source": []
  },
  {
   "cell_type": "markdown",
   "metadata": {},
   "source": [
    "### Variablen und Funktionen (Sichtbarkeit und Lebensdauer)\n",
    "Jede Variable in einem Programm hat einen sogenannten Scope (die Sichtbarkeit der Variable für Anweisungen im Programm),  eine Lebensdauer (ab der Definition der Variablen) und sind einem Namensraum (sog. namespace) zugeordnet."
   ]
  },
  {
   "cell_type": "code",
   "execution_count": null,
   "metadata": {},
   "outputs": [],
   "source": [
    "# Sichtbarkeit einer Variablen\n",
    "\n"
   ]
  },
  {
   "cell_type": "markdown",
   "metadata": {},
   "source": [
    "Python folgt hier Regeln die den *Scope* definieren:\n",
    "* Lokal: Definiert in einer Funktion und nicht als global deklariert\n",
    "* Enclosed (eingeschlossen): Lokaler Scope innerhalb verschachtelter Funktionen\n",
    "* Global: Definiert im \"Top-Level\" eines Moduls oder explizit als global deklariert\n",
    "* \"Built-In\": Namen die vorab zugewiesen wurden (z.B.: range, open, ...)"
   ]
  },
  {
   "cell_type": "code",
   "execution_count": null,
   "metadata": {},
   "outputs": [],
   "source": [
    "# Global\n",
    "\n"
   ]
  },
  {
   "cell_type": "markdown",
   "metadata": {},
   "source": [
    "## Übungen zu Funktionen und Dictionaries"
   ]
  },
  {
   "cell_type": "markdown",
   "metadata": {},
   "source": [
    "<span style='color:blue '> **Übung 1:** </span>\n",
    "\n",
    "Schreiben Sie eine Funktion `indexAt` welche die erste vorkommende Position eines gesuchten Charakters in einem String zurückgibt."
   ]
  },
  {
   "cell_type": "code",
   "execution_count": null,
   "metadata": {},
   "outputs": [],
   "source": [
    "# Ihre Funktion\n",
    "\n",
    "def indexAt():\n",
    "    # Code\n",
    "    return\n"
   ]
  },
  {
   "cell_type": "code",
   "execution_count": null,
   "metadata": {},
   "outputs": [],
   "source": [
    "# Aufruf Ihrer implementierten Funktion\n",
    "text = 'May the force be with you!'\n",
    "zeichen = 'f'\n",
    "index = indexAt(string, char)\n",
    "print(f'Der Buchstabe {zeichen} ist an Stelle {index} im Text: {text}')"
   ]
  },
  {
   "cell_type": "markdown",
   "metadata": {},
   "source": [
    "<span style='color:blue '> **Übung 2:** </span>\n",
    "\n",
    "Schreiben Sie eine Yoda-Funktion. --> Gibt einen übergebenen Satz mit umgekehrten Wörtern wieder zurück. \n",
    "\n",
    "`yoda('Ich bin bereit') --> 'bereit bin ich'`\n",
    "\n",
    "*Tipp:* Sehen Sie sich die String-Methoden `.join() und .split()` genauer an. "
   ]
  },
  {
   "cell_type": "code",
   "execution_count": null,
   "metadata": {},
   "outputs": [],
   "source": [
    "# Yoda Funktion\n",
    "\n",
    "def yoda(text):\n",
    "    return ' '.join(text.split()[::-1])"
   ]
  },
  {
   "cell_type": "markdown",
   "metadata": {},
   "source": [
    "<span style='color:blue '> **Übung 3:** </span>\n",
    "1. Schreiben Sie eine Funktion `bagofwords()` die für einen übergebenen String ein Dictionary mit \"bag of words\" zurückgibt. Dabei soll für jedes eindeutige Wort ein Schlüssel erzeugt werden. Als Eintrag zum Schlüssel die Häufigkeit des auftretens:\n",
    "\n",
    "`{'Blaukraut':2, 'bleibt':2, 'Brautkleid':2, 'und':1}`\n",
    "\n",
    "2. Erweitern Sie die Funktion um einen zweiten Parameter. Dieser Parameter ist eine Liste von Wörter welche nicht in die \"bag of words\" aufgenommen werden sollen (z.B.: bestimme/unbestimmte Artikel).\n",
    "\n",
    "3. Erweitern Sie die Funktion so, dass Groß- und Kleinschreibung nicht relevant für das Ergebnis sind."
   ]
  },
  {
   "cell_type": "code",
   "execution_count": null,
   "metadata": {},
   "outputs": [],
   "source": [
    "# Funktion bagofwords()\n"
   ]
  },
  {
   "cell_type": "markdown",
   "metadata": {},
   "source": [
    "## `*args` und `**kwargs`\n",
    "Willkürliche Zahl an Argumenten einer Funktion übergeben"
   ]
  },
  {
   "cell_type": "code",
   "execution_count": null,
   "metadata": {},
   "outputs": [],
   "source": [
    "#*args Beispiele\n",
    "\n",
    "\n"
   ]
  },
  {
   "cell_type": "code",
   "execution_count": null,
   "metadata": {},
   "outputs": [],
   "source": [
    "# **kwargs Beispiele (Keyworded Arguments)\n"
   ]
  },
  {
   "cell_type": "markdown",
   "metadata": {},
   "source": [
    "### Generatoren und Iteratoren\n",
    "Ein Iterator ist eine weitere Möglichkeit um Listen sequentiell zu durchlaufen. Der Ansatz hier ist, dass eine Möglichkeit gegeben ist, mit welcher über alle Möglichen Datentypen iteriert werden können.\n",
    "\n",
    "Sprich, ob\n",
    "* Listen\n",
    "* Dictionaries / Maps\n",
    "* Queue's\n",
    "* ...\n",
    "\n",
    "das mit einem Iterator per Definition bereitgestellte Interface ermöglicht es, alle Werte zu durchlaufen.\n",
    "\n",
    "#### Vorteil\n",
    "Durch die Abstraktionsebene des Iterators und somit der Entkoppplung von der zu durchlaufenden Daten-Darstellung ist ein Iterator im Normalfall **performanter** als eine typische For-Schleife.\n",
    "\n",
    "Die Iterations-Routine ist in den Python-Interpreter ausgelagert und dieser arbeitet auf einer optimierten Implementierung. Die ganze Iteration wird deshalb durch eine maschinennahe C-Implementierung übernommen und folglich ist eine Geschwindikeitssteigerung durch den Ansatz vorhanden.\n",
    "\n",
    "\n",
    "Um in Python einen Iterator zu benutzen sind eigentlich nur zwei Methoden wichtig:\n",
    "\n",
    "* `iter()`\n",
    "* `next()`\n",
    "\n",
    "Mit *iter()* wird ein entsprechendes Iterator Objekt für die übergebene Datenstruktur erzeugt.\n",
    "\n",
    "Mit *next()* kann immer das nächste Element abgefragt werden. Sollte es kein nächstes Element mehr geben wird `None` zurückgegeben. "
   ]
  },
  {
   "cell_type": "code",
   "execution_count": null,
   "metadata": {},
   "outputs": [],
   "source": [
    "# Einfache Beispiele zu Iteratoren!"
   ]
  },
  {
   "cell_type": "code",
   "execution_count": null,
   "metadata": {},
   "outputs": [],
   "source": [
    "# Datensatz mit dem Modul Pandas einlesen\n",
    "\n",
    "import pandas as pd\n",
    "df = pd.read_csv('data/pokemon.csv', nrows=100)\n",
    "df"
   ]
  },
  {
   "cell_type": "code",
   "execution_count": null,
   "metadata": {},
   "outputs": [],
   "source": []
  },
  {
   "cell_type": "code",
   "execution_count": null,
   "metadata": {},
   "outputs": [],
   "source": []
  }
 ],
 "metadata": {
  "kernelspec": {
   "display_name": "Python 3",
   "language": "python",
   "name": "python3"
  },
  "language_info": {
   "codemirror_mode": {
    "name": "ipython",
    "version": 3
   },
   "file_extension": ".py",
   "mimetype": "text/x-python",
   "name": "python",
   "nbconvert_exporter": "python",
   "pygments_lexer": "ipython3",
   "version": "3.7.6"
  }
 },
 "nbformat": 4,
 "nbformat_minor": 2
}
