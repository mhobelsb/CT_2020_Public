{
 "cells": [
  {
   "cell_type": "markdown",
   "metadata": {},
   "source": [
    "![CT Logo](img/ct_logo_small.png)\n",
    "# Vorlesung \"Computational Thinking\"        \n",
    "## Einführung in die objektorientierte Programmierung\n",
    "#### Prof. Dr.-Ing. Martin Hobelsberger, CT_6"
   ]
  },
  {
   "cell_type": "markdown",
   "metadata": {},
   "source": [
    "### Lernziele dieser Einheit\n",
    "\n",
    "* Einführung in die objektorientierte Programmierung (OOP)\n",
    "    * Objekte in Python\n",
    "    * Das Schlüsselwort `class`, Klassenatribute und Methoden\n",
    "    * Vererbung (Inheritance) und Mehrfachvererbung\n",
    "    * Polymorphismus (Polymorphism)\n",
    "    \n",
    "\n",
    "#### Was Sie bisher schon Wissen/Können sollten\n",
    "* Strukturiere Ein-/Ausgabe\n",
    "* Variablen\n",
    "* Datentypen (Arithmetische und Sequenzielle)\n",
    "* Arithmetische Ausdrücke und Vergleiche\n",
    "* Kontrollstrukturen (IF-Statement, For-/While-Schleife)\n",
    "* Dateien lesen/schreiben\n",
    "* Nützliche Funktionen (zip, enumerate, list comprehensions)\n",
    "* Funktionen\n",
    "* Dictionaries\n",
    "* map()/filter()\n",
    "* Lambda Expressions\n",
    "* Generatoren/Iteratoren\n",
    "* Grundfunktionen und einfache Datenanalyse mit Pandas"
   ]
  },
  {
   "cell_type": "code",
   "execution_count": null,
   "metadata": {},
   "outputs": [],
   "source": [
    "# Settings für CT_6\n",
    "\n",
    "from IPython.core.display import display, HTML\n",
    "display(HTML(\"<style>.container {width:100% !important;}</style>\"))\n"
   ]
  },
  {
   "cell_type": "markdown",
   "metadata": {},
   "source": [
    "## Objektorientierte Programmierung\n",
    "\n",
    "Über das **Paradigma der Objektorientierten Programmierung (OOP)** wird versucht Programme zu **strukturieren**, zu **modularisieren** und dadurch **Komplexität zu verringern**. Wir werden uns im Rahmen dieser Veranstaltung der objektorientierten Programmierung *pragmatisch nähern* und die Konzepte einführen. Weitere Informationen zur Vertiefung (dringend empfohlen) finden Sie zum Beispiel im Buch \"Einführung in Python 3, Bernd Klein\" im Teil II (Seite 200-300) oder in unzähligen Quellen im Internet.  "
   ]
  },
  {
   "cell_type": "code",
   "execution_count": null,
   "metadata": {},
   "outputs": [],
   "source": [
    "# Python Objekte\n",
    "\n"
   ]
  },
  {
   "cell_type": "markdown",
   "metadata": {},
   "source": [
    "In Python ist *alles ein Objekt*. Was bedeutet das? "
   ]
  },
  {
   "cell_type": "code",
   "execution_count": null,
   "metadata": {},
   "outputs": [],
   "source": []
  },
  {
   "cell_type": "markdown",
   "metadata": {},
   "source": [
    "### Schlüsselwort `class`\n",
    "Wie können wir eigene *Objekte* definieren? Dafür verwenden wir das Schlüsselwort `class` für **Klasse**. \n",
    "\n",
    "Eine Klasse ist eine Art Blaupause/Entwurf/Bauplan welche die *Beschaffenheit eines zukünftigen Objektes definiert*. Eine Klasse ist eine logische Gruppierung von Daten und \"Funktionen\" - *Diese Funktionen werden definiert innerhalb einer Klasse als Methoden bezeichnet*. \n",
    "\n",
    "Aus einer **Klasse** können wir zur Laufzeit **Instanzen** erzeugen. Eine Instanz ist ein konkretes Objekt welches auf Basis einer spezifischen Klasse erzeugt wurde. Wir werden *Objekt* und *Instanz* synonym benutzen. "
   ]
  },
  {
   "cell_type": "code",
   "execution_count": null,
   "metadata": {},
   "outputs": [],
   "source": [
    "# Neues Objekt erzeugen. Minimale Klasse\n",
    "\n",
    "\n",
    "\n",
    "# Instanz des neuen Objektes\n",
    "\n",
    "\n"
   ]
  },
  {
   "cell_type": "markdown",
   "metadata": {},
   "source": [
    "Im obigen Beispiel haben wir mit `babar` und `simon` *Referenzen auf neue Instanzen der Klasse* `Studierender` erzeugt. Hier spricht man auch von der **Instanziierung** der Klasse. Wir haben also ein neues Objekt vom Typ Studierender erzeugt. \n",
    "\n",
    "    | Beispiel: Eine Instanz eines Dungeons in einem Computerspiel --> für jede Gruppe neu aber immer vom gleichen Typ. \n",
    "\n",
    "Klassen sind meist an \"Objekte der realen Welt\" (z.B.: Kunde oder Produkt) oder Konzepten (ServerConnection, Benutzerrechte) angelehnt. \n",
    "    \n",
    "    | Merke: Klassen und Objekte sind nicht das gleiche! \n",
    "    \n",
    "Wenn man eine \"Kundenklasse\" definiert hat man noch keinen Kunden erzeugt! Wir habe eine Blaupause erstellt die beschreibt wie Kundenobjekte definiert werden. Innerhalb einer Klasse, also der Blaupause des Objektes, können wir **Attribute** und **Methoden** definieren. "
   ]
  },
  {
   "cell_type": "markdown",
   "metadata": {},
   "source": [
    "### Attribute einer Klasse\n",
    "\n",
    "Mit **Attributen** beschreiben wir die speziellen Charakteristiken bzw. Eigenschaften eines Objektes/einer Instanz. \n",
    "\n",
    "#### Objekt-Attribute"
   ]
  },
  {
   "cell_type": "code",
   "execution_count": null,
   "metadata": {},
   "outputs": [],
   "source": [
    "# Zuweisung von Objekt-Attributen zu Objekten der Klasse Studierender\n"
   ]
  },
  {
   "cell_type": "code",
   "execution_count": null,
   "metadata": {},
   "outputs": [],
   "source": [
    "# Zuweisung von Objekt-Attributen zu Objekten der Klasse Hund\n",
    "\n"
   ]
  },
  {
   "cell_type": "code",
   "execution_count": null,
   "metadata": {},
   "outputs": [],
   "source": [
    "# Woher weis man welche Attribute das Objekt besitzt? Besser durch __init__()!\n"
   ]
  },
  {
   "cell_type": "markdown",
   "metadata": {},
   "source": [
    "Der Syntax für das Erzeugen eines Objekt-Attributes ist: `self.attribute = eigenschaft`. Dabei wird eine spezielle Methode \n",
    "\n",
    "`__init__()` \n",
    "\n",
    "aufgerufen welche die Attribute eines Objektes/der Instanz initialisiert. Diese spezielle Methode wird automatisch gleich nach der Erzeugung des Objektes aufgerufen. \n",
    "\n",
    "    | Die Init-Methode ist nicht gleich zu setzen mit einem Konstruktor, welcher Ihnen vielleicht aus anderen Programmiersprachen (Java/C++) bekannt ist. Python besitzt keinen expliziten Konstruktor bzw. Destruktor. Der eigentliche Konstruktor wird implizit von Python gestartet und __init__ dient , wie der Name schon andeutet, zur Initialisierung der Attribute.\n",
    "\n",
    "**Good Practice:** Jedes Attribut in einer Klassendefinition beginnt mit einer Referenz zum instanziierten Objekt:\n",
    "\n",
    "`def __init__(self, ATTRIBUTE)`\n",
    "\n",
    "Diese Referenz auf das instanziierte Objekt ist nach Konvention `self` benannt (`self` ist die Instanz!). In unserem Beispiel ist `hunderasse` das Argument. Der Wert dieses Arguments wird über die instanziierung der Klasse übergeben. \n",
    "\n",
    "`self.hunderasse = hunderasse`"
   ]
  },
  {
   "cell_type": "code",
   "execution_count": null,
   "metadata": {},
   "outputs": [],
   "source": []
  },
  {
   "cell_type": "markdown",
   "metadata": {},
   "source": [
    "Wir haben also nun zwei Instanzen *charlie* und *sammy* (also konkrete Hunde (Individuen)) vom Objekttyp *Hund* erzeugt. Bitte beachten dass Attribute keine Klammern `()` am Ende benötigen da Attribute keine Argumente annehmen. \n",
    "\n",
    "#### Klassen-Attribute\n",
    "In Python gibt es zudem noch **Klassen-Attribute**. Dies sind Attribute die bei jeder Instanz der Klasse gleich sind. --> Jede neue Instanz hat dieses Attribut! Diese Klassenobjekt Attribute werden nach Konvention immer zu Beginn (vor dem init()) definiert. "
   ]
  },
  {
   "cell_type": "code",
   "execution_count": null,
   "metadata": {},
   "outputs": [],
   "source": [
    "# Klassen-Attribut am Beispiel der Klassen Hund und Studierender\n",
    "\n"
   ]
  },
  {
   "cell_type": "markdown",
   "metadata": {},
   "source": [
    "**Bitte beachten:**\n",
    "* Führen Sie keine neuen Attribute ausserhalb der `__init__` Methode ein. Dies führt zu nicht vollständig initialisierten Objekten (Ausnahmen bestätigen die Regel). "
   ]
  },
  {
   "cell_type": "markdown",
   "metadata": {},
   "source": [
    "Neben zugefügten Methoden gibt es auch ein paar built-in Methoden auf jeder Klasse. Diese sind nach dem Muster \\_\\_%Methodenname%\\_\\_ aufgebaut. So zum Beispiel die Funktion *\\_\\_dict__*, welche eine Klasse dargestellt als Dictionary zurückgibt."
   ]
  },
  {
   "cell_type": "markdown",
   "metadata": {},
   "source": [
    "### Klassen Methoden\n",
    "\n",
    "Methoden sind Funktionen innerhalb einer Klasse. Sie werden verwendet um auf den Attributen der Objekte operationen durchzuführen und sind eines der Schlüsselkonzepte der objektorientierten Programmierung (OOP). Unterscheidung von Methode und Funktion:\n",
    "* Eine Methode ist eine Funktion die innerhalb einer `class`-Definition definiert ist\n",
    "* Der erste Parameter der Methode ist immer eine Referenz auf die Instanz, von der diese aufgerufen wird. Diese Referenz hat den Namen `self`. \n",
    "\n",
    "Die Methoden haben Zugriff auf alle Daten in der Instanz und können diese modifizieren\n"
   ]
  },
  {
   "cell_type": "code",
   "execution_count": null,
   "metadata": {},
   "outputs": [],
   "source": [
    "# Zuweisung von einer Methode zu Studierender\n",
    "\n"
   ]
  },
  {
   "cell_type": "code",
   "execution_count": null,
   "metadata": {},
   "outputs": [],
   "source": [
    "# Anzeige mit __dict__\n",
    "\n"
   ]
  },
  {
   "cell_type": "markdown",
   "metadata": {},
   "source": [
    "Hier haben wir wieder das selbe Problem wie oben. Wir wissen nicht welche Methoden/Attribute einem Objekt zugeordnet sind! Vermeiden Sie es dem Objekt während der Laufzeit Methoden oder Attribute zuzuweisen."
   ]
  },
  {
   "cell_type": "code",
   "execution_count": null,
   "metadata": {},
   "outputs": [],
   "source": [
    "# Einfache Methode am Beispiel Studierender\n",
    "\n"
   ]
  },
  {
   "cell_type": "markdown",
   "metadata": {},
   "source": [
    "**Anmerkung**: Das `self` in der Übergabe an die Klassenfunktion darf nicht vergessen werden!"
   ]
  },
  {
   "cell_type": "code",
   "execution_count": null,
   "metadata": {},
   "outputs": [],
   "source": [
    "# Einfache Methode am Beispiel Hund\n",
    "\n"
   ]
  },
  {
   "cell_type": "markdown",
   "metadata": {},
   "source": [
    "### Statische Methoden\n",
    "Wir unterscheiden zwei Arten von Attributen: \n",
    "* Klassen-Attribute (defniert auf Ebene der Klasse) sowie\n",
    "* Instanz/Objekt-Attribute (Eingeführt über die `__init__`-Methode)"
   ]
  },
  {
   "cell_type": "code",
   "execution_count": null,
   "metadata": {},
   "outputs": [],
   "source": [
    "# Klasse Auto\n"
   ]
  },
  {
   "cell_type": "markdown",
   "metadata": {},
   "source": [
    "Es gibt, ähnlich zu den Klassen-Attributen, Methoden die keinen Zugriff auf `self` haben und keine Instanz benötigen (diese haben also keinen `self` Parameter)."
   ]
  },
  {
   "cell_type": "code",
   "execution_count": null,
   "metadata": {},
   "outputs": [],
   "source": [
    "# Klasse Auto mit statischen Methoden\n",
    "\n",
    "\n",
    "        \n"
   ]
  },
  {
   "cell_type": "markdown",
   "metadata": {},
   "source": [
    "Wann sollte man `@staticmethod` nutzen? Nur dann wenn Sie eine Methode in einer Klasse definieren die logisch zu dieser Klasse gehört aber nicht unbedingt mit einer spezifischen Instanz dieser Klasse interagiert. \n",
    "\n",
    "Beispiel: Statische Methoden in einem \"Database Layer\". Man definiert eine Datenbank Klasse welche statische Methoden für das einfügen oder finden von Daten in der Datenbank hat. Man erzeugt dabei normal keine Instanzen der Datenbank welche diese Daten enthält. "
   ]
  },
  {
   "cell_type": "markdown",
   "metadata": {},
   "source": [
    "### Konzepte der OOP\n",
    "\n",
    "Ein großer Vorteil der objektorientierten Programmierung ist die sogenannte **Datenabstraktion**. Diese ist im Grunde die Summe aus einer *Datenkapselung* und dem sog. *Geheimnisprinzip*. Also dem Schutz von Daten/Attributen vor dem unmittelbaren Zugriff (Datenkapselung / Geheimnisprinzip) über Zugriffsmethoden. Dadurch ist es möglich jederzeit Änderungen an der Implementierung vorzunehmen ohne das sich die Benutzersicht (Schnittstelle/Interface) ändert. Zugriffsmethoden werden meist in \n",
    "* `Getter`: eine Methode die den Wert eines Attributes liefert und\n",
    "* `Setter`: eine Methode die den Wert eines Attributes verändert\n",
    "\n",
    "unterteilt. "
   ]
  },
  {
   "cell_type": "code",
   "execution_count": null,
   "metadata": {},
   "outputs": [],
   "source": [
    "# Methoden am Beispiel Kreis\n",
    "\n"
   ]
  },
  {
   "cell_type": "code",
   "execution_count": null,
   "metadata": {},
   "outputs": [],
   "source": [
    "# Ändern des Radius \n"
   ]
  },
  {
   "cell_type": "markdown",
   "metadata": {},
   "source": [
    "### Member Zugriffe\n",
    "**`Public`-, `Protected`- und `Private`-Attribute**\n",
    "\n",
    "Objektorientierte Sprachen wie Java/C++ nutzen Schlüsselwörter um die Verwendung von Ressourcen (Attribute/Methoden) einer Klasse zu limitieren. In Python wird dies anders umgesetzt.\n",
    "\n",
    "**Public**"
   ]
  },
  {
   "cell_type": "markdown",
   "metadata": {},
   "source": [
    "`public`-Ressourcen einer Klasse sind für jeden verfügbar. Auf diese kann von ausserhalb der Klasse oder anderen Klassen zugegriffen werden"
   ]
  },
  {
   "cell_type": "code",
   "execution_count": null,
   "metadata": {},
   "outputs": [],
   "source": []
  },
  {
   "cell_type": "markdown",
   "metadata": {},
   "source": [
    "**Protected**\n",
    "\n",
    "`protected`-Ressourcen einer Klasse kann aus der Klasse heraus (z.B.: Methoden) und von anderen Subklassen verwendet werden. Sonst kann niemand auf diese Ressource zugreifen. Um dies zu bewerkstelligen muss die Elternklasse geerbt werden. In Python wird eine Ressource mit einem führenden (Prefix) Unterstrich `_` als protected definiert. "
   ]
  },
  {
   "cell_type": "code",
   "execution_count": null,
   "metadata": {},
   "outputs": [],
   "source": []
  },
  {
   "cell_type": "markdown",
   "metadata": {},
   "source": [
    "**WHAT?!** Markiert man eine Ressource als `protected` ist diese weiterhin von außen schreib/lesbar. Was passiert ist dass der Programmier seine Absicht kund tut: Diese Ressource soll nicht benutzt werden!"
   ]
  },
  {
   "cell_type": "markdown",
   "metadata": {},
   "source": [
    "**Private**\n",
    "\n",
    "Bisher waren alle unsere Attribute `public`. Will man nun, entsprechend des Geheimnisprinzips, *private* Attribute erzeugen verwendet man `__` vor einem Attribut um dieses zu einem `private`-Attribut zu machen."
   ]
  },
  {
   "cell_type": "code",
   "execution_count": null,
   "metadata": {},
   "outputs": [],
   "source": [
    "\n"
   ]
  },
  {
   "cell_type": "code",
   "execution_count": null,
   "metadata": {},
   "outputs": [],
   "source": [
    "# Weiteres Beispiel mit der Klasse Hund\n",
    "\n"
   ]
  },
  {
   "cell_type": "markdown",
   "metadata": {},
   "source": [
    "Python liefert Zugriffs-Modifizierer, diese können aber nicht mit denen klassischer Programmiersprachen wie Java/C++ verglichen werden. **Die Verwendung hängt vom Entwickler ab!** \n",
    "\n"
   ]
  },
  {
   "cell_type": "markdown",
   "metadata": {},
   "source": [
    "### Vererbung\n",
    "Vererbung ist eine Möglichkeit neue Klassen auf Basis bereits existierender Klassen zu erzeugen. Die neu erzeugten Klassen werden auch *abgeleitete Klassen* genannt. Die Klasse von der abgeleitet wurde ist die sogenannte *Basisklasse*. Vorteile durch Vererbung:\n",
    "* Wiederverwendbarkeit wird erhöht (Reuse)\n",
    "* Die Komplexität des Programms kann reduziert werden\n",
    "\n",
    "Die abgeleiteten Klassen (Kinder) überschreiben oder erweitern dabei die Funktionalität von Basisklassen (Eltern). "
   ]
  },
  {
   "cell_type": "code",
   "execution_count": null,
   "metadata": {},
   "outputs": [],
   "source": [
    "\n",
    "    "
   ]
  },
  {
   "cell_type": "code",
   "execution_count": null,
   "metadata": {},
   "outputs": [],
   "source": [
    "# Instanz erzeugen\n"
   ]
  },
  {
   "cell_type": "markdown",
   "metadata": {},
   "source": [
    "In diesem Beispiel wurden zwei Klassen verwendet. Tier (Basisklasse) und Hund (abgeleitete Klasse). Die abgeleitete Klasse **erbt** die Funktionalität der Basisklasse (siehe `schlafen()` Methode). Die abgeleitete Klasse **modifiziert** aber auch das Verhalten der Basisklasse (siehe `werBinich()` Methode). Abschließend **erweitert** die abgeleitete Klasse die Basisklasse (siehe `bellen()` Methode).   "
   ]
  },
  {
   "cell_type": "markdown",
   "metadata": {},
   "source": [
    "#### Ein Beispiel zur Vererbung\n",
    "Wann und wie setze ich das Konstrukt der Klassen richtig ein? Wann lohnt es sich eine Klasse anzulegen? Am Ende dreht es sich um die Verallgemeinerung von Daten - die Abstraktion. Folgendes Beispiel:"
   ]
  },
  {
   "cell_type": "markdown",
   "metadata": {},
   "source": [
    "Wir haben einen Datensatz über die Mitglieder der Hochschule München. Dieser enthält \n",
    "* Namen, \n",
    "* Geburtsdaten und \n",
    "* Mitgliedsart (Studierender, Lehrender, Mitarbeiter).\n",
    "\n",
    "| Name | Geburtsdatum | Mitgliedsart |\n",
    "| :--   |  :---------:  | :--  |\n",
    "| Simon| 1997 | Studierender |\n",
    "| Sebastian | 1995 | Studierender |\n",
    "| Martin | 1950 | Lehrender |\n",
    "| IT ORG | 1900 | Mitarbeiter |"
   ]
  },
  {
   "cell_type": "markdown",
   "metadata": {},
   "source": [
    "Was ist die Gemeinsamkeit all dieser Mitglieder?\n",
    "* alle haben einen Namen\n",
    "* alle haben ein Geburtsdatum\n",
    "\n",
    "Wir könnten also diese Daten in einer Verallgemeinerung **Personen** abbilden. --> Klasse `Person`"
   ]
  },
  {
   "cell_type": "code",
   "execution_count": null,
   "metadata": {},
   "outputs": [],
   "source": []
  },
  {
   "cell_type": "markdown",
   "metadata": {},
   "source": [
    "Bleibt noch die Mitgliedsart. Hier können wir eine Kindklasse erstellen welche von `Person` abgeleitet wird. Durch diese Ableitung werden Attribute und Methoden an die abgeleitete Klasse vererbt. Um eine Klasse von einer anderen erben zu lassen gibt man bei der Definition der Kindklasse die Basisklasse in Klammern an: \n",
    "```python\n",
    "class A:\n",
    "    pass\n",
    "class B(A):\n",
    "    pass\n",
    "```"
   ]
  },
  {
   "cell_type": "code",
   "execution_count": null,
   "metadata": {},
   "outputs": [],
   "source": []
  },
  {
   "cell_type": "markdown",
   "metadata": {},
   "source": [
    "Nun besitzen alle Instanzen der Klassen `Studierender`, `Lehrender` und `Mitarbeiter` die Attribute einer Person aber haben eigene Eigenschaften. Komplexe Programmstrukturen können somit sinnvoll abgebildet werden."
   ]
  },
  {
   "cell_type": "code",
   "execution_count": null,
   "metadata": {},
   "outputs": [],
   "source": [
    "# Beispiel:\n"
   ]
  },
  {
   "cell_type": "markdown",
   "metadata": {},
   "source": [
    "Nicht vergessen: Wenn eine Kindklasse eigene Attribute haben soll muss eine eigene `__init__`-Methode definiert werden in der die `__init__`-Methode der Basisklasse mit aufgerufen wird. "
   ]
  },
  {
   "cell_type": "markdown",
   "metadata": {},
   "source": [
    "#### Mehrfachvererbung\n",
    "\n",
    "In der objektorientierten Programmierung gibt es auch das Prinzip der Mehrfachvererbung. Dabei erbt eine abgeleitete Klasse direkt von mehr als einer Basisklasse. Dazu gibt man in den Klammern hinter dem Klassennamen alle Basisklassen an von denen die Unterklasse erben soll:\n",
    "\n",
    "```python\n",
    "class Unterklasse(basis1, basis2, basis3,...):\n",
    "    pass\n",
    "```\n",
    "\n",
    "Da auch die Basisklassen von anderen Klassen geerbt haben können entsteht eine sogenannte Vererbungshierarchie. Hierbei muss besondere Vorsicht geboten werden damit kein Mehrdeutigkeitsproblem (sog. Diamond-Problem) entsteht. Dabei erbt eine Klasse auf zwei verschiedenen Pfaden von der gleichen Basisklasse. Eine Lösung ist hier die Verwendung der `super()`-Funktion in Verbindung mit `__init__`. Mehr dazu in Einführung in Python, Kapitel 24 und im weiteren Verlauf. "
   ]
  },
  {
   "cell_type": "markdown",
   "metadata": {},
   "source": [
    "### Polymorphismus\n",
    "In Python, Polymorphismus (polymorphism) beschreibt den Umstand dass verschiedene Objekt-Klassen die gleichen Methodennamen haben können."
   ]
  },
  {
   "cell_type": "code",
   "execution_count": null,
   "metadata": {},
   "outputs": [],
   "source": [
    "# Klasse Hund und Katze mit Methode lautGeben()\n"
   ]
  },
  {
   "cell_type": "markdown",
   "metadata": {},
   "source": [
    "Obwohl beide Objekte die gleiche `lautGeben()` Methode haben wird beim Aufruf der Methode ein individuelles Ergebnis zurückgeliefert. "
   ]
  },
  {
   "cell_type": "code",
   "execution_count": null,
   "metadata": {},
   "outputs": [],
   "source": [
    "# Polimorphismus in einem loop\n",
    "\n"
   ]
  },
  {
   "cell_type": "code",
   "execution_count": null,
   "metadata": {},
   "outputs": [],
   "source": [
    "# Polimorphismus in einer Funktion\n",
    "\n"
   ]
  },
  {
   "cell_type": "markdown",
   "metadata": {},
   "source": [
    "In beiden Fällen konnten verschiedene Objekte übergeben werden und es wurden Objekt-spezifische Ergebnise zurückgeliefert. Eine verbreitete Anwendung ist die Verwendung von **Abstrakten Klassen** mit **Vererbung**. \n",
    "\n",
    "Eine **Abstrakte Klasse** ist eine Klasse die nie für sich alleine instanziiert. "
   ]
  },
  {
   "cell_type": "code",
   "execution_count": null,
   "metadata": {},
   "outputs": [],
   "source": []
  },
  {
   "cell_type": "markdown",
   "metadata": {},
   "source": [
    "Beispiele für Polymorphismus:\n",
    "* Öffnen verschiedener Dateitypen (Verschiedene Tools für verschiedene Dateiendungen)\n",
    "* Der `+` - Operator: Je nach Objekt wird eine arithmetische Operation (z.B.: int) oder eine concatenation (z.B.: str) durchgeführt. "
   ]
  },
  {
   "cell_type": "markdown",
   "metadata": {},
   "source": [
    "### Spezielle Methoden\n",
    "\n",
    "Die `__init__()`, `__str__()`, `__len__()` und `__del__()` Methoden"
   ]
  },
  {
   "cell_type": "code",
   "execution_count": null,
   "metadata": {},
   "outputs": [],
   "source": []
  },
  {
   "cell_type": "code",
   "execution_count": null,
   "metadata": {},
   "outputs": [],
   "source": []
  },
  {
   "cell_type": "code",
   "execution_count": null,
   "metadata": {},
   "outputs": [],
   "source": []
  },
  {
   "cell_type": "code",
   "execution_count": null,
   "metadata": {},
   "outputs": [],
   "source": []
  },
  {
   "cell_type": "code",
   "execution_count": null,
   "metadata": {},
   "outputs": [],
   "source": []
  },
  {
   "cell_type": "code",
   "execution_count": null,
   "metadata": {},
   "outputs": [],
   "source": []
  },
  {
   "cell_type": "markdown",
   "metadata": {},
   "source": [
    "### Weitere Beispiele"
   ]
  },
  {
   "cell_type": "code",
   "execution_count": null,
   "metadata": {},
   "outputs": [],
   "source": []
  },
  {
   "cell_type": "code",
   "execution_count": null,
   "metadata": {},
   "outputs": [],
   "source": []
  },
  {
   "cell_type": "code",
   "execution_count": null,
   "metadata": {},
   "outputs": [],
   "source": []
  },
  {
   "cell_type": "code",
   "execution_count": null,
   "metadata": {},
   "outputs": [],
   "source": []
  },
  {
   "cell_type": "code",
   "execution_count": null,
   "metadata": {},
   "outputs": [],
   "source": []
  },
  {
   "cell_type": "code",
   "execution_count": null,
   "metadata": {},
   "outputs": [],
   "source": []
  },
  {
   "cell_type": "code",
   "execution_count": null,
   "metadata": {},
   "outputs": [],
   "source": []
  },
  {
   "cell_type": "markdown",
   "metadata": {},
   "source": [
    "### Built-In Funktionen\n",
    "\n",
    "Ausgewählte Built-In Funktionen, die sich auf Objekte und Klassen beziehen:\n",
    "\n",
    "* `getattr(object, name)` : liefert den Wert des Attributes *name* von der Instanz *object*\n",
    "* `setattr(object, name)` : setzt den Wert des Attributes *name* von der Instanz *object*\n",
    "* `hasattr(object, name)` : prüft, ob die Instanz *object* das Attribute *name* besitzt\n",
    "* `delattr(object, name)` : entfernt das Attribute *name* von der Instanz *object*\n",
    "* `isinstance(object, classinfo)` : prüft, ob die Instanz *object* eine Instanz von der durch *classinfo* beschriebenen Klasse(n) ist\n",
    "* `issubclass(class_, classinfo)` : prüft, ob die Klasse *class_* eine Tochterklasse von der durch *classinfo* beschriebenen Klasse(n) ist"
   ]
  },
  {
   "cell_type": "code",
   "execution_count": null,
   "metadata": {},
   "outputs": [],
   "source": []
  },
  {
   "cell_type": "markdown",
   "metadata": {},
   "source": [
    "### Beispiel: GitHub Trending Project\n",
    "Wir schauen uns ein \"großes\" Projekt an:\n",
    "https://github.com/trending/python?since=monthly"
   ]
  },
  {
   "cell_type": "code",
   "execution_count": null,
   "metadata": {},
   "outputs": [],
   "source": []
  },
  {
   "cell_type": "markdown",
   "metadata": {},
   "source": [
    "## Weiterführende Themen\n",
    "\n",
    "* Mehrfachvererbung\n",
    "* Properties\n",
    "* Slots\n",
    "* `__str__`, `__repr__`\n",
    "* Operatorüberladung\n",
    "* Metaklassen\n",
    "* Abstrakte Klassen"
   ]
  },
  {
   "cell_type": "code",
   "execution_count": null,
   "metadata": {},
   "outputs": [],
   "source": []
  }
 ],
 "metadata": {
  "kernelspec": {
   "display_name": "Python 3",
   "language": "python",
   "name": "python3"
  },
  "language_info": {
   "codemirror_mode": {
    "name": "ipython",
    "version": 3
   },
   "file_extension": ".py",
   "mimetype": "text/x-python",
   "name": "python",
   "nbconvert_exporter": "python",
   "pygments_lexer": "ipython3",
   "version": "3.7.6"
  }
 },
 "nbformat": 4,
 "nbformat_minor": 4
}
