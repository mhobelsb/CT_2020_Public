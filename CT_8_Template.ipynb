{
 "cells": [
  {
   "cell_type": "markdown",
   "metadata": {},
   "source": [
    "![CT Logo](img/ct_logo_small.png)\n",
    "# Vorlesung \"Computational Thinking\"        \n",
    "## Rekursion\n",
    "#### Dr. Sarah Ottinger, Prof. Dr.-Ing. Martin Hobelsberger, CT_7"
   ]
  },
  {
   "cell_type": "markdown",
   "metadata": {},
   "source": [
    "### Lernziele dieser Einheit\n",
    "\n",
    "* Rekursion \n",
    "    * Rekursive Funktionen in Python\n",
    "    * Stack/ Call-Stack\n",
    "    * Die Tücken der Rekursion\n",
    "    * Memoizing\n",
    "\n",
    "#### Was Sie bisher schon Wissen/Können sollten\n",
    "* Strukturiere Ein-/Ausgabe\n",
    "* Variablen\n",
    "* Datentypen (Arithmetische und Sequenzielle)\n",
    "* Arithmetische Ausdrücke und Vergleiche\n",
    "* Kontrollstrukturen (IF-Statement, For-/While-Schleife)\n",
    "* Dateien lesen/schreiben\n",
    "* Nützliche Funktionen (zip, enumerate, list comprehensions)\n",
    "* Funktionen\n",
    "* Dictionaries\n",
    "* map()/filter()\n",
    "* Lambda Expressions\n",
    "* Generatoren/Iteratoren\n",
    "* Grundfunktionen und einfache Datenanalyse mit Pandas\n",
    "* Arrays, Grundfunktionen mit Numpy\n",
    "* Objektorientierte Programmierung\n"
   ]
  },
  {
   "cell_type": "code",
   "execution_count": null,
   "metadata": {},
   "outputs": [],
   "source": [
    "# Settings für CT_7\n",
    "\n",
    "from IPython.core.display import display, HTML\n",
    "display(HTML(\"<style>.container {width:100% !important;}</style>\"))\n"
   ]
  },
  {
   "cell_type": "markdown",
   "metadata": {},
   "source": [
    "## Einführungsbeispiel"
   ]
  },
  {
   "cell_type": "code",
   "execution_count": null,
   "metadata": {},
   "outputs": [],
   "source": [
    "def a():\n",
    "    print('start of a()')\n",
    "    b()\n",
    "    print('end of a()')\n",
    "    \n",
    "def b():\n",
    "    print('start of b()')\n",
    "    c()\n",
    "    print('end of b()')\n",
    "\n",
    "def c():\n",
    "    print('start of c()')\n",
    "    print('end of c()')\n"
   ]
  },
  {
   "cell_type": "markdown",
   "metadata": {},
   "source": [
    "## Rekursion\n",
    "\n",
    "\"To understand recursion, you must first understand recursion.\"\n",
    "\n",
    "**Rekursive Funktionen** sind Funktionen, die im Laufe ihrer Ausführung **sich selbst (u.U. mit veränderten Argumenten) aufrufen**.\n",
    "    "
   ]
  },
  {
   "cell_type": "code",
   "execution_count": null,
   "metadata": {},
   "outputs": [],
   "source": []
  },
  {
   "cell_type": "markdown",
   "metadata": {},
   "source": [
    "**Beispiel: Fakultät**\n",
    "\n",
    "![Fakultät](img/CT_8/fak.png)\n"
   ]
  },
  {
   "cell_type": "markdown",
   "metadata": {},
   "source": [
    "\"To understand recursion, you must first understand STACKS\". [Al Sweigart](https://www.youtube.com/watch?v=AfBqVVKg4GE)\n",
    "\n",
    "Rekursive Funktionen sind Funktionen, die im Laufe ihrer Ausführung **sich selbst** (u.U. mit veränderten Argumenten) **aufrufen**.\n",
    "\n",
    "Was ist ein **Stack**? Was ist ein **Call-Stack**?\n",
    "\n",
    "* Abstrakte Datenstruktur, Container-Datentyp\n",
    "* Elemente können einfügt und wieder entfernt werden\n",
    "* direkter Zugriff nur auf das zuletzt eingefügte Element (**last in first out**)\n",
    "* Grundlegende Operationen `push` (`append`) und `pop`\n",
    "\n",
    "![Call-Stack](img//CT_8/callstack.png)\n",
    "\n",
    "(Bild: [Beau Carnes](https://www.freecodecamp.org/news/how-recursion-works-explained-with-flowcharts-and-a-video-de61f40cb7f9/))\n",
    "\n",
    "Rekursive Funktionen, oder Funktionsaufrufe allgemein, benötigen Speicherplatz für Argumente, Rückgabewert und den Aufruf-Kontext: die Berechnung z.B. von fact(3) ruft fact(2) auf; Python muss sich merken, dass nach dem Ende von fac(2) an der entsprechenden Stelle in fac(3) weiter gemacht werden muss. Diese Informationen werden auf dem sog. Call-Stack (Aufrufstapel) gespeichert, der nur eine begrenzte Größe hat.\n"
   ]
  },
  {
   "cell_type": "code",
   "execution_count": null,
   "metadata": {},
   "outputs": [],
   "source": [
    "# Fakultät - rekursive Implementierung:\n",
    "\n"
   ]
  },
  {
   "cell_type": "markdown",
   "metadata": {},
   "source": [
    "Eine **rekursive Funktion** besteht aus zwei Teilen:\n",
    " * der Basisfall (base case)\n",
    " * die rekursive Struktur (recursive call)"
   ]
  },
  {
   "cell_type": "code",
   "execution_count": null,
   "metadata": {},
   "outputs": [],
   "source": [
    "# Fakultät - iterative Implementierung:\n",
    " \n",
    "    "
   ]
  },
  {
   "cell_type": "markdown",
   "metadata": {},
   "source": [
    "#### Laufzeitvergleich"
   ]
  },
  {
   "cell_type": "code",
   "execution_count": null,
   "metadata": {},
   "outputs": [],
   "source": []
  },
  {
   "cell_type": "code",
   "execution_count": null,
   "metadata": {},
   "outputs": [],
   "source": []
  },
  {
   "cell_type": "markdown",
   "metadata": {},
   "source": [
    "Im Allgemeinen ist Iteration schneller als Rekursion, da der zusätzliche Funktions-Aufruf einen nicht vernachlässigbaren Mehraufwand bedeutet."
   ]
  },
  {
   "cell_type": "markdown",
   "metadata": {},
   "source": [
    "### Übungsaufgabe 1: \n",
    "Schreiben Sie eine rekursive Funktion, die die Quersumme einer positiven ganzen Zahl berechnet.\n"
   ]
  },
  {
   "cell_type": "code",
   "execution_count": null,
   "metadata": {},
   "outputs": [],
   "source": [
    "def quersumme(n):\n",
    "    #Code hier einfuegen\n",
    "    pass\n",
    "\n",
    "# Tests\n",
    "print(quersumme(12) == 3)\n",
    "print(quersumme(552) == 12)\n",
    "print(quersumme(123456789) == 45)"
   ]
  },
  {
   "cell_type": "markdown",
   "metadata": {},
   "source": [
    " ### Übungsaufgabe 2: \n",
    "Alle Programmiersprachen, die Sie wahrscheinlich verwenden werden, enthalten arithmetische Operatoren wie +, - und *. Stellen wir uns vor, Python würde die Multiplikation, *, auslassen. Wie könnten wir ihn selbst implementieren? Nun, Multiplikation ist wiederholte Addition..."
   ]
  },
  {
   "cell_type": "code",
   "execution_count": null,
   "metadata": {},
   "outputs": [],
   "source": [
    "def multiplikation(a, b):\n",
    "    #Code hier einfuegen\n",
    "    pass\n",
    "\n",
    "# Tests\n",
    "print(multiplikation(3, 7) == 21)\n",
    "print(multiplikation(5, 5) == 25)\n",
    "print(multiplikation(0, 4) == 0)"
   ]
  },
  {
   "cell_type": "markdown",
   "metadata": {},
   "source": [
    "### Die Tücken der Rekursion\n",
    "#### Fibonacci-Folge\n",
    "![fib](img//CT_8/fib.png)"
   ]
  },
  {
   "cell_type": "code",
   "execution_count": null,
   "metadata": {},
   "outputs": [],
   "source": [
    "# Fibonacci-Folge - rekursive Implementierung\n"
   ]
  },
  {
   "cell_type": "markdown",
   "metadata": {},
   "source": [
    "#### Stack Overflow\n",
    "\n",
    "Eine zu große Rekursionstiefe führt zum Stack Overflow und wird mit einem RuntimeError abgebrochen. \n",
    "\n",
    "Tritt auch auf, wenn kein Basisfall definiert wurde. Endlose Rekursionen werden durch den endlichen Rekursionsstack von Python mit einem RuntimeError abgebrochen."
   ]
  },
  {
   "cell_type": "code",
   "execution_count": null,
   "metadata": {},
   "outputs": [],
   "source": []
  },
  {
   "cell_type": "markdown",
   "metadata": {},
   "source": [
    "#### Laufzeitvergleich"
   ]
  },
  {
   "cell_type": "code",
   "execution_count": null,
   "metadata": {},
   "outputs": [],
   "source": [
    "# Fibonacci-Folge - iterative Implementierung\n",
    "\n"
   ]
  },
  {
   "cell_type": "code",
   "execution_count": null,
   "metadata": {},
   "outputs": [],
   "source": []
  },
  {
   "cell_type": "code",
   "execution_count": null,
   "metadata": {},
   "outputs": [],
   "source": []
  },
  {
   "cell_type": "code",
   "execution_count": null,
   "metadata": {},
   "outputs": [],
   "source": []
  },
  {
   "cell_type": "code",
   "execution_count": null,
   "metadata": {},
   "outputs": [],
   "source": [
    "def fib_print(n):\n",
    "    if n <= 1:\n",
    "        print(f\"fib({n}) = {n}\")\n",
    "        return n\n",
    "    else:\n",
    "        print(f\"fib({n}) berechnet fib({n-1})\")\n",
    "        a = fib_print(n - 1)\n",
    "        print(f\"fib({n}) berechnet fib({n-2})\")\n",
    "        b = fib_print(n - 2)\n",
    "        c = a + b\n",
    "        print(f\"fib({n}) = {c}\")\n",
    "        return c\n",
    "    "
   ]
  },
  {
   "cell_type": "markdown",
   "metadata": {},
   "source": [
    "![fib-skizze](img//CT_8/fib_skizze.png)\n",
    "(Quelle: Klein, 2017. Einführung in Python 3. Für Ein- und Umsteiger)"
   ]
  },
  {
   "cell_type": "markdown",
   "metadata": {},
   "source": [
    "### Techniken der Memoisation"
   ]
  },
  {
   "cell_type": "code",
   "execution_count": null,
   "metadata": {},
   "outputs": [],
   "source": []
  },
  {
   "cell_type": "markdown",
   "metadata": {},
   "source": [
    "#### Memoisation mit Dekorateur-Funktion"
   ]
  },
  {
   "cell_type": "code",
   "execution_count": null,
   "metadata": {},
   "outputs": [],
   "source": []
  },
  {
   "cell_type": "markdown",
   "metadata": {},
   "source": [
    "Die fib-Funktion wird durch die memoize-Funktion dekoriert. In der Regel wir ein Dekorator für viele Funktionen verwendet."
   ]
  },
  {
   "cell_type": "code",
   "execution_count": null,
   "metadata": {},
   "outputs": [],
   "source": []
  },
  {
   "cell_type": "markdown",
   "metadata": {},
   "source": [
    "#### Memoisation mit functools.lru_cache"
   ]
  },
  {
   "cell_type": "code",
   "execution_count": null,
   "metadata": {},
   "outputs": [],
   "source": []
  },
  {
   "cell_type": "markdown",
   "metadata": {},
   "source": [
    "#### Verwendung einer Klasse zum Speichern"
   ]
  },
  {
   "cell_type": "code",
   "execution_count": null,
   "metadata": {},
   "outputs": [],
   "source": [
    "\n",
    "        "
   ]
  },
  {
   "cell_type": "markdown",
   "metadata": {},
   "source": [
    "### Ausblick\n",
    "Anwendung von Rekursionen im Bereich Data Science:\n",
    "\n",
    "z.B. ID3-Algorithmus (Algorithmus zum Aufbau datengetriebener Entscheidungsbäume); Zum Weiterlesen: https://www.python-course.eu/Decision_Trees.php"
   ]
  },
  {
   "cell_type": "code",
   "execution_count": null,
   "metadata": {},
   "outputs": [],
   "source": []
  }
 ],
 "metadata": {
  "kernelspec": {
   "display_name": "Python 3",
   "language": "python",
   "name": "python3"
  },
  "language_info": {
   "codemirror_mode": {
    "name": "ipython",
    "version": 3
   },
   "file_extension": ".py",
   "mimetype": "text/x-python",
   "name": "python",
   "nbconvert_exporter": "python",
   "pygments_lexer": "ipython3",
   "version": "3.7.6"
  }
 },
 "nbformat": 4,
 "nbformat_minor": 4
}
