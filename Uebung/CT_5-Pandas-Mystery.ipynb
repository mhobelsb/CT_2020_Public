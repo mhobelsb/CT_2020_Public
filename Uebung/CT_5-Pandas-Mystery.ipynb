{
 "cells": [
  {
   "cell_type": "markdown",
   "metadata": {},
   "source": [
    "# CT_5: Pandas - Mystery Game\n",
    "\n",
    "Folgend spielen wir ein kleines Spiel. **Achten Sie auf die Details** (also Text genau lesen), halten Sie die Augen offen und schließen Sie Schlussfolgerungen um den Täter zu finden!!"
   ]
  },
  {
   "cell_type": "markdown",
   "metadata": {},
   "source": [
    "### Voraussetzungen:\n",
    "\n",
    "* Anwendung von Pandas\n",
    "    * Logische Abfrage auf ein DataFrame wie z.B.: \n",
    "    `report1 = crime_scene_report[crime_scene_report['date'] == 20180115]`\n",
    "    * Sortieren nach einer Spalte wie z.B.: \n",
    "    `person_address.sort_values('address_number')`\n",
    "    * Zeilen, die in einer Spalte einen bestimmten Substring enthalten, extrahieren: `person[person.name.str.contains('Annabel')]`\n",
    "    * Neugier und logisches Denkvermögen ;-) "
   ]
  },
  {
   "cell_type": "markdown",
   "metadata": {},
   "source": [
    "Daten einlesen (nichts zu tun ausser auf 'Run' klicken):"
   ]
  },
  {
   "cell_type": "code",
   "execution_count": 3,
   "metadata": {},
   "outputs": [],
   "source": [
    "# import pandas\n",
    "import pandas as pd\n",
    "pd.options.display.max_colwidth = 500"
   ]
  },
  {
   "cell_type": "code",
   "execution_count": 4,
   "metadata": {},
   "outputs": [],
   "source": [
    "# Daten liegen im binder unter data/mystery-data/..\n",
    "\n",
    "get_fit_now_check_in = pd.read_csv('data/mystery-data/get_fit_now_check_in.csv') #Daten zum Fitnessstudio\n",
    "get_fit_now_member = pd.read_csv('data/mystery-data/get_fit_now_member.csv') #Daten zum Fitnessstudio\n",
    "drivers_license = pd.read_csv('data/mystery-data/drivers_license.csv')\n",
    "person = pd.read_csv('data/mystery-data/person.csv')\n",
    "crime_scene_report = pd.read_csv('data/mystery-data/crime_scene_report.csv') #Tatortbericht\n",
    "interview = pd.read_csv('data/mystery-data/interview.csv')"
   ]
  },
  {
   "cell_type": "markdown",
   "metadata": {},
   "source": [
    "## Murder! Muuuurder!!! \n",
    "\n",
    "Es hat ein Verbrechen stattgefunden, und der Kommissar braucht Ihre Hilfe (natürlich!). Nach langem hin und her, dem Anruf bei Ihrer Mutter die bestätigt dass Sie ALLE Sherlock Holmes Bücher gelesen haben und dem Vorweisen des YPS! Detektivsets händigte der Kommissar Ihnen den Tatortbericht aus. Aber... Aaaaber... ABER... Sie haben ihn irgendwie verloren... \n",
    "\n",
    "**Kein Problem!** Sie sind ja ein Data Scientist:\n",
    "Sie erinnern sich vage daran, dass es sich bei dem Verbrechen um einen *Mord* handelte, der sich irgendwann am *15. Januar 2018* ereignete, und dass er in *SQL City* stattfand. Der Kommissar hat einen Stick mit lauter CSV Files rumliegen lassen aus denen Sie nun versuchen den Mörder zu identifizieren. Beginnen Sie damit, den entsprechenden Tatortbericht (crime_scene_report) aus der richtigen Datei der Polizeibehörde anzuzeigen.\n",
    "\n",
    "**Fangen wir an:**"
   ]
  },
  {
   "cell_type": "markdown",
   "metadata": {},
   "source": [
    "**STEP 1** Machen Sie sich mit den Dateien vertraut. Verwenden Sie dazu die Hilfsmittel (YPS! Detektivset - natürlich! Und noch ein paar `pandas` Methoden) die wir in der Vorlesung kennengelernt haben. Wie sieht z.B. der Tatortbericht aus?"
   ]
  },
  {
   "cell_type": "code",
   "execution_count": 71,
   "metadata": {},
   "outputs": [],
   "source": [
    "# Erste Zeilen des Tatortberichts anzeigen\n"
   ]
  },
  {
   "cell_type": "markdown",
   "metadata": {},
   "source": [
    "**STEP 2** Wie Sie sich erinnern können hat der *Mord* hat am *15.01.2018* in *SQL City* stattgefunden. Vielleicht erhalten Sie über diesen speziellen Eintrag ja mehr Informationen? "
   ]
  },
  {
   "cell_type": "code",
   "execution_count": 11,
   "metadata": {},
   "outputs": [],
   "source": [
    "# Anzeigen der Information \n"
   ]
  },
  {
   "cell_type": "markdown",
   "metadata": {},
   "source": [
    "In der Beschreibung des Reports finden sich weitere Informationen! Was macht ein Guter Detekiv? Klar, Zeugen befragen! Was haben diese gesehen? Überprüfen Sie dazu die **Zeugen** und Ihre **Aussagen**:\n",
    "\n",
    "**STEP 3** Wer ist der erste Zeuge, was hat dieser gesehen und ausgesagt? Tipp: Nutzen Sie die Daten aus der CSV über die Personen und die Aufzeichnungen der Zeugenbefragung (interview)!"
   ]
  },
  {
   "cell_type": "code",
   "execution_count": null,
   "metadata": {},
   "outputs": [],
   "source": [
    "# Finden Sie z.B.: die ID und Name des ersten Zeugen\n"
   ]
  },
  {
   "cell_type": "code",
   "execution_count": 14,
   "metadata": {},
   "outputs": [
    {
     "data": {
      "text/plain": [
       "4988    I heard a gunshot and then saw a man run out. He had a \"Get Fit Now Gym\" bag. The membership number on the bag started with \"48Z\". Only gold members have those bags. The man got into a car with a plate that included \"H42W\".\n",
       "Name: transcript, dtype: object"
      ]
     },
     "execution_count": 14,
     "metadata": {},
     "output_type": "execute_result"
    }
   ],
   "source": [
    "# Zeugenaussage\n"
   ]
  },
  {
   "cell_type": "markdown",
   "metadata": {},
   "source": [
    "**STEP 4** Hat der zweite Zeuge noch weitere wichtige Details festgestellt?"
   ]
  },
  {
   "cell_type": "code",
   "execution_count": null,
   "metadata": {},
   "outputs": [],
   "source": [
    "# Finden Sie die ID und Name des zweiten Zeugen\n"
   ]
  },
  {
   "cell_type": "code",
   "execution_count": null,
   "metadata": {},
   "outputs": [],
   "source": [
    "# Zeugenaussage\n"
   ]
  },
  {
   "cell_type": "markdown",
   "metadata": {},
   "source": [
    "**STEP 5** Tragen Sie kurz und prägnant die wichtigsten Details der **Zeugenaussagen** zusammen (also z.B.: im YPS! Detektivblock oder in der folgenden Markdown Zeile. "
   ]
  },
  {
   "cell_type": "markdown",
   "metadata": {},
   "source": [
    "Notizen: "
   ]
  },
  {
   "cell_type": "markdown",
   "metadata": {},
   "source": [
    "**STEP 6** Gut, wir haben Hinweise und können mit diesen Aussagen eventuell ein paar weitere Details herausfinden! Vielleicht finden wir ja etwas im Fitenss-Center Mitglieder Verzeichnis."
   ]
  },
  {
   "cell_type": "code",
   "execution_count": null,
   "metadata": {},
   "outputs": [],
   "source": [
    "# Filter nach Status und Mitgliedsnummer. Tipp: Nutzen Sie str-Methoden\n",
    "\n"
   ]
  },
  {
   "cell_type": "markdown",
   "metadata": {},
   "source": [
    "Hmmm.. Da haben wir ja nun Verdächtige. Nehmen wir diese mal unter die Lupe..\n",
    "\n",
    "**STEP 7** Wir haben die Namen und die Id's, mal nachforschen wer am entsprechenden Datum im Fitness-Center war:"
   ]
  },
  {
   "cell_type": "code",
   "execution_count": null,
   "metadata": {},
   "outputs": [],
   "source": [
    "# Die Check-In Zeiten überprüfen. Auch hier gibt es wieder einen Datensatz\n",
    "\n"
   ]
  },
  {
   "cell_type": "markdown",
   "metadata": {},
   "source": [
    "**STEP 8** Ist der Verdächtige nicht mit einem Auto weggefahren?? Gut das wir Kennzeichendaten haben (drivers_license.csv) "
   ]
  },
  {
   "cell_type": "code",
   "execution_count": null,
   "metadata": {},
   "outputs": [],
   "source": []
  },
  {
   "cell_type": "code",
   "execution_count": null,
   "metadata": {},
   "outputs": [],
   "source": []
  },
  {
   "cell_type": "markdown",
   "metadata": {},
   "source": [
    "**STEP 9** Wer ist der Mörder? Ja wer.. Herr Kommissar, Herr Kommisar!!! Ich habe den Fall geknackt! "
   ]
  },
  {
   "cell_type": "markdown",
   "metadata": {},
   "source": [
    "Der Mörder ist: "
   ]
  }
 ],
 "metadata": {
  "kernelspec": {
   "display_name": "Python 3",
   "language": "python",
   "name": "python3"
  },
  "language_info": {
   "codemirror_mode": {
    "name": "ipython",
    "version": 3
   },
   "file_extension": ".py",
   "mimetype": "text/x-python",
   "name": "python",
   "nbconvert_exporter": "python",
   "pygments_lexer": "ipython3",
   "version": "3.7.6"
  }
 },
 "nbformat": 4,
 "nbformat_minor": 2
}
