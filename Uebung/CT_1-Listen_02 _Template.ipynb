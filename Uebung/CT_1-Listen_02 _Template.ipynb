{
 "cells": [
  {
   "cell_type": "markdown",
   "metadata": {},
   "source": [
    "# Vorlesung \"Computational Thinking\" \n",
    "## Einführung und erste Schritte in Python\n",
    "#### Übungblatt \"Listen - 02\", CT_1\n",
    "\n",
    "Speichern Sie Ihr Ergebnis jeweils in einer eigenen Liste entsprechend der Unteraufgabe. Also z.B.: Aufgabe 1 --> lst1"
   ]
  },
  {
   "cell_type": "markdown",
   "metadata": {},
   "source": [
    "1. Addieren Sie die letzten beiden Elemente von lst und hängen Sie das Ergebnis an lst1 an. Sie sollte diesen Vorgang dreimal durchführen und dann lst ausgeben."
   ]
  },
  {
   "cell_type": "code",
   "execution_count": null,
   "metadata": {},
   "outputs": [],
   "source": [
    "lst1 = [1, 1, 2]\n",
    "\n",
    "# hier Code einfügen\n",
    "\n",
    "\n",
    "\n",
    "#\n",
    "\n",
    "lst1"
   ]
  },
  {
   "cell_type": "markdown",
   "metadata": {},
   "source": [
    "2. Hängen Sie die Größe von lst an das Ende von lst2 an."
   ]
  },
  {
   "cell_type": "code",
   "execution_count": null,
   "metadata": {},
   "outputs": [],
   "source": [
    "lst2 = [4, 6, 2, 4, 0, 3, 5, 1]\n",
    "\n",
    "# hier Code einfügen\n",
    "\n",
    "\n",
    "\n",
    "#\n",
    "\n",
    "lst2"
   ]
  },
  {
   "cell_type": "markdown",
   "metadata": {},
   "source": [
    "3. Erstellen Sie eine Liste lst3, die bei 16 anfängt und bei 60 in 4er Schritten endet."
   ]
  },
  {
   "cell_type": "code",
   "execution_count": null,
   "metadata": {},
   "outputs": [],
   "source": [
    "lst3 = "
   ]
  },
  {
   "cell_type": "markdown",
   "metadata": {},
   "source": [
    "4. Gegeben sei ein Startwert und ein Endwert. Erstellen Sie zunächst eine leere Liste mit dem Namen lst4. Geben Sie eine Liste zurück, bei dem alle Werte zwischen Start- und Endwert (eingeschlossen) fehlen. Der Code soll auch bei geänderten Werten funktionieren."
   ]
  },
  {
   "cell_type": "code",
   "execution_count": null,
   "metadata": {},
   "outputs": [],
   "source": [
    "zahlenliste = [1, 5, 25, 71, 2, 7, 9, 2, 54, 252, 95, 4]\n",
    "startwert = 4\n",
    "endwert = 9\n",
    "\n",
    "# hier Code einfügen, nach dem Testen wieder startwert = 4 und endwert = 9 setzen.\n",
    "\n",
    "\n",
    "\n",
    "#\n",
    "\n",
    "lst4"
   ]
  },
  {
   "cell_type": "markdown",
   "metadata": {},
   "source": [
    "5. Gegeben sei eine Zahl, die ungerade ist. Erstellen Sie eine Liste lst5 dessen Einträge alle bis auf den mittleren Eintrag diese Zahl sind. Dieser soll nämlich das doppelte sein.\n",
    "Probieren Sie aus, ob das gewünschte Ergebnis auch für rauskommt, wenn die zahl geändert wird."
   ]
  },
  {
   "cell_type": "code",
   "execution_count": null,
   "metadata": {},
   "outputs": [],
   "source": [
    "zahl = 7 \n",
    "\n",
    "# hier Code einfügen, nach dem testen wieder zahl = 7 setzen \n",
    "\n",
    "\n",
    "#\n",
    "\n",
    "lst5"
   ]
  },
  {
   "cell_type": "code",
   "execution_count": null,
   "metadata": {},
   "outputs": [],
   "source": [
    "# Unit tests to check your solution\n",
    "from list_tests import run_tests_list\n",
    "\n",
    "run_tests_list(lst1, lst2, lst3, lst4, lst5)"
   ]
  }
 ],
 "metadata": {
  "kernelspec": {
   "display_name": "Python 3",
   "language": "python",
   "name": "python3"
  },
  "language_info": {
   "codemirror_mode": {
    "name": "ipython",
    "version": 3
   },
   "file_extension": ".py",
   "mimetype": "text/x-python",
   "name": "python",
   "nbconvert_exporter": "python",
   "pygments_lexer": "ipython3",
   "version": "3.7.6"
  }
 },
 "nbformat": 4,
 "nbformat_minor": 2
}
