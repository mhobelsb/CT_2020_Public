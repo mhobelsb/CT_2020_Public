{
 "cells": [
  {
   "cell_type": "markdown",
   "metadata": {},
   "source": [
    "# Vorlesung \"Computational Thinking\" \n",
    "## Kontrollstrukturen\n",
    "#### Übungblatt \"Strings - 01\", CT_2"
   ]
  },
  {
   "cell_type": "markdown",
   "metadata": {},
   "source": [
    "Datensatz zu Filmen. Bitte Importieren! *(Codeblock ausführen)*"
   ]
  },
  {
   "cell_type": "code",
   "execution_count": null,
   "metadata": {},
   "outputs": [],
   "source": [
    "film_informationen = \"Harry Potter und der Stein der Weisen:J.K. Rowling:2001,  The Shadow:William Carlos Williams:1915, Serenety:Steven Knight:2019,   Joker:Todd Phillips:2019,   Invasion:Fyodor Bondarchuk:2020, The Shining:Stephen King:1980, Coco der neugierige Affe:Matthew O-Callaghan:2006, Angel Saw:James Wan:2005, The Karate Kid:Harald Zwart:2010, Ip Man:Raymond Wong:2008, Pulp Fiction:Quentin Tarantino:1994\""
   ]
  },
  {
   "cell_type": "markdown",
   "metadata": {},
   "source": [
    "# Aufgabe 1: Filmabend in der Hochschule\n",
    "\n",
    "<p>Die Fachschaft der Fakultät 07 hat sich daür eingesetzt Filmabende in den Räumen der Hochschule München zu ermöglichen. Die Fachschaft hat eine Zeichenfolge geliefert, die eine Liste von Filmen und Zusatzinformationen enthält, die sie auf ihrer Webseite hervorheben möchten. Sie brauchen Ihre Hilfe, um die Zeichenfolge in etwas zu zerlegen, das den Namen, Titel und das Veröffentlichungsdatum der hervorgehobenen Filme auf der Website anzeigen kann.</p>"
   ]
  },
  {
   "cell_type": "markdown",
   "metadata": {},
   "source": [
    "### a) \n",
    "Beginnen Sie zunächst damit, `film_informationen` auszugeben und zu sehen, wie es angezeigt wird."
   ]
  },
  {
   "cell_type": "code",
   "execution_count": null,
   "metadata": {},
   "outputs": [],
   "source": [
    "film_informationen"
   ]
  },
  {
   "cell_type": "markdown",
   "metadata": {},
   "source": [
    "### b) \n",
    "Die Informationen für jeden Film sind durch Kommas getrennt, und innerhalb dieser Informationen befinden sich der Titel des Films, der Autor und das Veröffentlichungsjahr.\n",
    "* Trennen Sie film_informationen an den Kommas und speichern diese in `film_liste`. \n",
    "* Geben Sie film_liste aus. \n",
    "\n",
    "Wie sieht nun die Struktur der Daten aus?"
   ]
  },
  {
   "cell_type": "code",
   "execution_count": null,
   "metadata": {},
   "outputs": [],
   "source": []
  },
  {
   "cell_type": "markdown",
   "metadata": {},
   "source": [
    "### c)\n",
    "Beachten Sie, dass es inkonsistente Leerzeichen in film_liste gibt. Das gilt es jetzt zu bereinigen.\n",
    "\n",
    "* Beginnen Sie mit der Erstellung einer neuen leeren Liste, `film_liste_bereinigt`.\n",
    "* Dann iterieren Sie durch `film_liste` unter Verwendung einer for-Schleife und\n",
    "    * entfernen Sie für jeden Film den Leerraum und \n",
    "    * hängen Sie ihn an Ihre neue Liste an.\n",
    "* Zeigen Sie `film_liste_bereinigt` an."
   ]
  },
  {
   "cell_type": "code",
   "execution_count": null,
   "metadata": {},
   "outputs": [],
   "source": []
  },
  {
   "cell_type": "markdown",
   "metadata": {},
   "source": [
    "### d)\n",
    "Als nächstes wollen wir alle Informationen für jeden Film (d.h. Filmtitel, Autor und Veröffentlichungsjahr) in eine eigene Liste einfügen, so dass wir am Ende eine Liste von Listen erhalten. \n",
    "\n",
    "* Erstellen Sie eine neue leere Liste mit dem Namen `film_liste_details`.\n",
    "* Iterieren Sie durch `film_liste_bereinigt` und splitten Sie die Zeichenkette um das Zeichen \"`:`\".\n",
    "* Hängen Sie dann die neue Liste an `film_liste_details`  an."
   ]
  },
  {
   "cell_type": "code",
   "execution_count": null,
   "metadata": {},
   "outputs": [],
   "source": []
  },
  {
   "cell_type": "markdown",
   "metadata": {},
   "source": [
    "### e)\n",
    "Großartig! Jetzt wollen wir alle Filmtitel, Autoren und das Veröffentlichungsjahr in ihre eigenen Listen trennen.\n",
    "\n",
    "* Erstellen Sie drei neue leere Listen, `filmtitel`, `autor` und `jahr`.\n",
    "* Iterieren Sie durch `film_liste_details` und fügen Sie für jede Liste in der Liste die entsprechenden Elemente in die Listen `filmtitel`, `autor` und `jahr` ein.\n",
    "\n",
    "Zum Beispiel sollte Ihr Code für den Film The Shining (1980) von Stepehn King \"The Shining\" an titel, \"Stephen King\" an autor und \"1980\" an jahr anhängen."
   ]
  },
  {
   "cell_type": "code",
   "execution_count": null,
   "metadata": {},
   "outputs": [],
   "source": []
  },
  {
   "cell_type": "markdown",
   "metadata": {},
   "source": [
    "### f)\n",
    "Zum Schluss schreiben Sie noch eine for-Schleife, um die folgende Zeichenkette für jeden Film auszugeben:\n",
    "\n",
    "*Der Film TITEL wurde von AUTOR im Jahr JAHR veröffentlicht.*\n",
    "\n",
    "Super! Dank Ihnen steht einem erfolgreichem Filmabend nichts im Wege... außer Corona :("
   ]
  },
  {
   "cell_type": "code",
   "execution_count": null,
   "metadata": {},
   "outputs": [],
   "source": []
  },
  {
   "source": [
    "## Mini Challenge\n",
    "\n",
    "Schreiben Sie ein Programm dass die Gesamtzahl der eindeutigen Buchstaben in der Zeichenfolge zurückgibt. Groß- und Kleinbuchstaben sollten als unterschiedliche Buchstaben gezählt werden. Gegeben ist eine Liste aller Groß- und Kleinbuchstaben des englischen Alphabets. "
   ],
   "cell_type": "markdown",
   "metadata": {}
  },
  {
   "cell_type": "code",
   "execution_count": null,
   "metadata": {},
   "outputs": [],
   "source": [
    "buchstaben = \"ABCDEFGHIJKLMNOPQRSTUVWXYZÄÖUabcdefghijklmnopqrstuvwxyzäöü\"\n",
    "wort = \"DesoxiRibonukleinSäure\"\n",
    "\n",
    "# Ihr Code\n"
   ]
  }
 ],
 "metadata": {
  "kernelspec": {
   "display_name": "Python 3",
   "language": "python",
   "name": "python3"
  },
  "language_info": {
   "codemirror_mode": {
    "name": "ipython",
    "version": 3
   },
   "file_extension": ".py",
   "mimetype": "text/x-python",
   "name": "python",
   "nbconvert_exporter": "python",
   "pygments_lexer": "ipython3",
   "version": "3.7.6-final"
  }
 },
 "nbformat": 4,
 "nbformat_minor": 2
}