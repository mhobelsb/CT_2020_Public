{
 "cells": [
  {
   "cell_type": "markdown",
   "metadata": {},
   "source": [
    "# Hurrikans mit Dictionaries kontrollieren\n",
    "\n",
    "Hurrikans, auch bekannt als Wirbelstürme, Zyklone oder Taifune, sind eine der mächtigsten Naturkräfte der Erde. Aufgrund des vom Menschen verursachten Klimawandels haben Anzahl und Intensität von Hurrikanen zugenommen, was eine bessere Vorbereitung der vielen von ihnen verwüsteten Gemeinschaften erfordert. Als besorgter Umweltschützer möchten Sie sich Daten über die stärksten Wirbelstürme ansehen, die sich ereignet haben.\n",
    "\n",
    "Beginnen Sie mit einem Blick auf die Schadensliste. Die Liste enthält Strings, die die Gesamtkosten in USD($) darstellen, die durch 34 Hurrikans der Kategorie 5 (Windgeschwindigkeiten ≥ 157 mph (252 km/h )) in der Atlantikregion verursacht wurden.\n",
    "\n",
    "Zusätzliche Daten, die zu den 34 stärksten atlantischen Hurrikans gesammelt wurden, sind in einer Reihe von Listen aufgeführt. Die Daten umfassen:\n",
    "\n",
    "* `namen`: Namen der Hurrikans\n",
    "* `monate`: Monate, in denen die Wirbelstürme aufgetreten sind\n",
    "* `jahre`: Jahre, in denen die Wirbelstürme aufgetreten sind\n",
    "* `max_wind_geschwindigkeit`: maximal anhaltende Winde (Kilometer pro Stunde) der Hurrikans\n",
    "* `betroffene_gebiete`: Liste der verschiedenen Gebiete, die von jedem der Hurrikans betroffen sind\n",
    "* `tote`: Gesamtzahl der durch jeden der Hurrikans verursachten Todesfälle\n",
    "\n",
    "Die Daten sind so organisiert, dass die Daten bei jedem Index, von 0 bis 33, dem gleichen Hurrikan entsprechen.\n",
    "\n",
    "Zum Beispiel ergeben `namen[0]` den Hurrikan \"Cuba I\", der in `monate[0]` (Oktober) `jahre[0]` (1924) auftrat."
   ]
  },
  {
   "cell_type": "code",
   "execution_count": 2,
   "metadata": {},
   "outputs": [],
   "source": [
    "# Namen der Hurrikans\n",
    "namen = ['Cuba I', 'San Felipe II Okeechobee', 'Bahamas', 'Cuba II', 'CubaBrownsville', 'Tampico', 'Labor Day', 'New England', 'Carol', 'Janet', 'Carla', 'Hattie', 'Beulah', 'Camille', 'Edith', 'Anita', 'David', 'Allen', 'Gilbert', 'Hugo', 'Andrew', 'Mitch', 'Isabel', 'Ivan', 'Emily', 'Katrina', 'Rita', 'Wilma', 'Dean', 'Felix', 'Matthew', 'Irma', 'Maria', 'Michael']\n",
    "\n",
    "# Monate der Hurrikans\n",
    "monate = ['October', 'September', 'September', 'November', 'August', 'September', 'September', 'September', 'September', 'September', 'September', 'October', 'September', 'August', 'September', 'September', 'August', 'August', 'September', 'September', 'August', 'October', 'September', 'September', 'July', 'August', 'September', 'October', 'August', 'September', 'October', 'September', 'September', 'October']\n",
    "\n",
    "# Jahre der Hurrikans\n",
    "jahre = [1924, 1928, 1932, 1932, 1933, 1933, 1935, 1938, 1953, 1955, 1961, 1961, 1967, 1969, 1971, 1977, 1979, 1980, 1988, 1989, 1992, 1998, 2003, 2004, 2005, 2005, 2005, 2005, 2007, 2007, 2016, 2017, 2017, 2018]\n",
    "\n",
    "# maximale Geschwindigkeit (km/h) von Hurrikans\n",
    "max_wind_geschwindigkeit = [265, 260, 260, 275, 260, 260, 285, 260, 260, 275, 275, 260, 260, 275, 260, 275, 275, 290, 285, 260, 275, 280, 265, 265, 260, 275, 280, 285, 275, 275, 265, 280, 275, 260]\n",
    "\n",
    "# von jedem Hurrikan betroffene Gebiete\n",
    "betroffene_gebiete = [['Central America', 'Mexico', 'Cuba', 'Florida', 'The Bahamas'], ['Lesser Antilles', 'The Bahamas', 'United States East Coast', 'Atlantic Canada'], ['The Bahamas', 'Northeastern United States'], ['Lesser Antilles', 'Jamaica', 'Cayman Islands', 'Cuba', 'The Bahamas', 'Bermuda'], ['The Bahamas', 'Cuba', 'Florida', 'Texas', 'Tamaulipas'], ['Jamaica', 'Yucatn Peninsula'], ['The Bahamas', 'Florida', 'Georgia', 'The Carolinas', 'Virginia'], ['Southeastern United States', 'Northeastern United States', 'Southwestern Quebec'], ['Bermuda', 'New England', 'Atlantic Canada'], ['Lesser Antilles', 'Central America'], ['Texas', 'Louisiana', 'Midwestern United States'], ['Central America'], ['The Caribbean', 'Mexico', 'Texas'], ['Cuba', 'United States Gulf Coast'], ['The Caribbean', 'Central America', 'Mexico', 'United States Gulf Coast'], ['Mexico'], ['The Caribbean', 'United States East coast'], ['The Caribbean', 'Yucatn Peninsula', 'Mexico', 'South Texas'], ['Jamaica', 'Venezuela', 'Central America', 'Hispaniola', 'Mexico'], ['The Caribbean', 'United States East Coast'], ['The Bahamas', 'Florida', 'United States Gulf Coast'], ['Central America', 'Yucatn Peninsula', 'South Florida'], ['Greater Antilles', 'Bahamas', 'Eastern United States', 'Ontario'], ['The Caribbean', 'Venezuela', 'United States Gulf Coast'], ['Windward Islands', 'Jamaica', 'Mexico', 'Texas'], ['Bahamas', 'United States Gulf Coast'], ['Cuba', 'United States Gulf Coast'], ['Greater Antilles', 'Central America', 'Florida'], ['The Caribbean', 'Central America'], ['Nicaragua', 'Honduras'], ['Antilles', 'Venezuela', 'Colombia', 'United States East Coast', 'Atlantic Canada'], ['Cape Verde', 'The Caribbean', 'British Virgin Islands', 'U.S. Virgin Islands', 'Cuba', 'Florida'], ['Lesser Antilles', 'Virgin Islands', 'Puerto Rico', 'Dominican Republic', 'Turks and Caicos Islands'], ['Central America', 'United States Gulf Coast (especially Florida Panhandle)']]\n",
    "\n",
    "# verursachte Schäden (USD($)) von Hurrikans\n",
    "schadensliste = ['Schaden nicht aufgezeichnet', '100M', 'Schaden nicht aufgezeichnet', '40M', '27.9M', '5M', 'Schaden nicht aufgezeichnet', '306M', '2M', '65.8M', '326M', '60.3M', '208M', '1.42B', '25.4M', 'Schaden nicht aufgezeichnet', '1.54B', '1.24B', '7.1B', '10B', '26.5B', '6.2B', '5.37B', '23.3B', '1.01B', '125B', '12B', '29.4B', '1.76B', '720M', '15.1B', '64.8B', '91.6B', '25.1B']\n",
    "\n",
    "# von jedem Hurrikan verursachte Anzahl an Toten\n",
    "tote = [90,4000,16,3103,179,184,408,682,5,1023,43,319,688,259,37,11,2068,269,318,107,65,19325,51,124,17,1836,125,87,45,133,603,138,3057,74]\n"
   ]
  },
  {
   "cell_type": "markdown",
   "metadata": {},
   "source": [
    "### a)\n",
    "Für einige der Hurrikans wurden keine Schadensdaten aufgezeichnet (\"Schaden nicht aufgezeichnet\"), während die übrigen im Format \"Prefix-B/M\" geschrieben sind, wobei B für Milliarden (1000000000) und M für Millionen (1000000) steht.\n",
    "Schreiben Sie einen Algorithmus, der eine neue Liste der aktualisierten Schäden zurückgibt, wobei die aufgezeichneten Daten in Fließkommawerte umgewandelt werden und die fehlenden Daten als \"Schaden nicht aufgezeichnet\" beibehalten werden."
   ]
  },
  {
   "cell_type": "code",
   "execution_count": null,
   "metadata": {},
   "outputs": [],
   "source": []
  },
  {
   "cell_type": "markdown",
   "metadata": {},
   "source": [
    "### b)\n",
    "\n",
    "Schreiben Sie einen Algorithmus, der aus den Listen ein Dictionary konstruiert, wobei die Schlüssel des Wörterbuchs die Namen der Hurrikans sind und die Werte selbst Wörterbücher sind, die einen Schlüssel für jeden Datensatz (Name, Monat, Jahr, maximaler anhaltender Wind, betroffene Gebiete, Schaden, Tod) über den Hurrikan enthalten.\n",
    "\n",
    "Somit hätte der Schlüssel \"Kuba I\" den Wert: `{'Name': 'Kuba I', 'Monat': 'Oktober', 'Jahr': 1924, 'Maximale Windgeschwindigkeit': 265, \"Betroffene Gebiete\": ['Mittelamerika', 'Mexiko', 'Kuba', 'Florida', 'Bahamas'], 'Schaden': 'Schaden nicht aufgezeichnet', 'Tote': 90}`."
   ]
  },
  {
   "cell_type": "code",
   "execution_count": null,
   "metadata": {},
   "outputs": [],
   "source": []
  },
  {
   "cell_type": "markdown",
   "metadata": {},
   "source": [
    "### c)\n",
    "\n",
    "Zusätzlich zur Organisation der Hurrikane in einem Dictionary mit Namen als Schlüssel, möchten Sie die Hurrikans nach Jahren ordnen können.\n",
    "\n",
    "Schreiben Sie einen Algorithmus, der das aktuelle Hurrikan-Wörterbuch in ein neues Wörterbuch umwandelt, wobei die Schlüssel die Jahre sind und die Werte Listen sind, die ein Wörterbuch für jeden Hurrikan enthalten, der in diesem Jahr aufgetreten ist.\n",
    "\n",
    "Beispielsweise würde der Schlüssel 1932 den Wert ergeben: \n",
    "\n",
    "`[{'Name': 'Bahamas', 'Monat': 'September', 'Jahr': 1932, 'Maximale Windgeschwindigkeit': 260, 'Betroffene Gebiete': ['The Bahamas', 'Northeastern United States'], 'Schaden': 'Schaden nicht aufgezeichnet', 'Tote': 16}, {'Name': 'Cuba II', 'Monat': 'November', 'Jahr': 1932, 'Maximale Windgeschwindigkeit': 275, 'Betroffene Gebiete': ['Lesser Antilles', 'Jamaica', 'Cayman Islands', 'Cuba', 'The Bahamas', 'Bermuda'], 'Schaden': '40M', 'Tote': 3103}]`"
   ]
  },
  {
   "cell_type": "code",
   "execution_count": null,
   "metadata": {},
   "outputs": [],
   "source": []
  },
  {
   "cell_type": "markdown",
   "metadata": {},
   "source": [
    "### d)\n",
    "\n",
    "Sie sind der Meinung, dass es wichtig ist zu wissen, wie oft jedes der Gebiete des Atlantiks von diesen starken Hurrikans betroffen ist, um Vorbereitungen für zukünftige Hurrikans zu treffen.\n",
    "\n",
    "Schreiben Sie einen Algorithmus, der zählt, wie oft jedes Gebiet als betroffenes Gebiet eines Hurrikans aufgeführt ist. Speichern Sie die Ergebnisse in einem Dictionary und geben Sie sie zurück, wobei die Schlüssel die betroffenen Gebiete sind und die Werte zählen, wie oft die Gebiete betroffen waren. Welches Gebiet war am meisten betroffen und wie oft?"
   ]
  },
  {
   "cell_type": "code",
   "execution_count": null,
   "metadata": {},
   "outputs": [],
   "source": []
  },
  {
   "cell_type": "markdown",
   "metadata": {},
   "source": [
    "### e)\n",
    "\n",
    "Schreiben Sie einen Algorithmus, der den Hurrikan findet, der die meisten Todesopfer verursacht hat, und wie viele Tote er verursacht hat."
   ]
  },
  {
   "cell_type": "code",
   "execution_count": null,
   "metadata": {},
   "outputs": [],
   "source": []
  },
  {
   "cell_type": "markdown",
   "metadata": {},
   "source": [
    "### f) \n",
    "\n",
    "Genauso wie Hurrikans nach ihrer Windgeschwindigkeit bewertet werden, möchten Sie versuchen, Hurrikans auf der Grundlage anderer Metriken zu bewerten.\n",
    "\n",
    "Schreiben Sie eine Funktion, die Hurrikans auf einer Sterblichkeitsskala nach den folgenden Bewertungen bewertet, wobei der Schlüssel die Bewertung ist und der Wert die obere Grenze der Todesfälle für diese Bewertung darstellt. (siehe sterbeskala unten)\n",
    "\n",
    "Beispielsweise hätte ein Hurrikan mit einer Sterblichkeitsstufe von 1 mehr als 0, aber weniger als oder gleich 100 Todesfälle zur Folge gehabt. Ein Hurrikan mit einer Sterblichkeitsrate von 5 hätte mehr als 10000 Todesfälle zur Folge gehabt.\n",
    "\n",
    "Speichern Sie die Hurrikans in einem neuen Dictionary, wobei die Schlüssel die Sterblichkeitswerte sind und die Werte Listen sind, die den Namen von jedem Hurrikan enthalten, der in diesen Sterblichkeitswert fällt."
   ]
  },
  {
   "cell_type": "code",
   "execution_count": 10,
   "metadata": {},
   "outputs": [],
   "source": [
    "sterbeskala = {0: 0,\n",
    "               1: 100,\n",
    "               2: 500,\n",
    "               3: 1000, \n",
    "               4: 10000}\n"
   ]
  }
 ],
 "metadata": {
  "kernelspec": {
   "display_name": "Python 3",
   "language": "python",
   "name": "python3"
  },
  "language_info": {
   "codemirror_mode": {
    "name": "ipython",
    "version": 3
   },
   "file_extension": ".py",
   "mimetype": "text/x-python",
   "name": "python",
   "nbconvert_exporter": "python",
   "pygments_lexer": "ipython3",
   "version": "3.7.4"
  }
 },
 "nbformat": 4,
 "nbformat_minor": 2
}