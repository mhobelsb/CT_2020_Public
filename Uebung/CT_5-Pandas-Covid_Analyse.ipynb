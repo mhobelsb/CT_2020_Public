{
 "cells": [
  {
   "cell_type": "markdown",
   "metadata": {},
   "source": [
    "# CT_5: Pandas Covid19\n",
    "\n",
    "In dieser Aufgabe sollen Sie einen Datensatz über Covid19 analysieren und ein paar einfache Fragen mit den gelernten Pandas-Tricks beantworten.\n",
    "\n",
    "Wie immer, erst ein paar Konfigurationen und die Daten einlesen:"
   ]
  },
  {
   "cell_type": "code",
   "execution_count": null,
   "metadata": {},
   "outputs": [],
   "source": [
    "import pandas as pd\n",
    "import numpy as np\n",
    "import matplotlib.pyplot as plt"
   ]
  },
  {
   "cell_type": "code",
   "execution_count": null,
   "metadata": {},
   "outputs": [],
   "source": [
    "# Einlesen des Datensatzes\n",
    "covid = pd.read_csv(\"data/covid_de.csv\")"
   ]
  },
  {
   "cell_type": "markdown",
   "metadata": {},
   "source": [
    "**STEP 1:** Machen Sie sich mit dem Datensatz kurz vertraut indem Sie Ihn sicher genauer ansehen. "
   ]
  },
  {
   "cell_type": "code",
   "execution_count": null,
   "metadata": {},
   "outputs": [],
   "source": [
    "# Datensatz anzeigen und Informationen gewinnen\n"
   ]
  },
  {
   "cell_type": "markdown",
   "metadata": {},
   "source": [
    "**STEP 2:** Summe der Menschen die (nach diesem Datensatz) genesen sind?"
   ]
  },
  {
   "cell_type": "code",
   "execution_count": null,
   "metadata": {},
   "outputs": [],
   "source": [
    "# Summe über alle Länder der genesenen Menschen\n"
   ]
  },
  {
   "cell_type": "markdown",
   "metadata": {},
   "source": [
    "**STEP 3.1:** Wo gab es die meisten Fälle in Deutschland? Listen Sie die Top 5 Bundesländer inkl der Fallzahlen auf."
   ]
  },
  {
   "cell_type": "code",
   "execution_count": null,
   "metadata": {},
   "outputs": [],
   "source": [
    "# Länder und Fallzahlen (sortiert nach den Ländern mit den meisten Fällen)\n"
   ]
  },
  {
   "cell_type": "markdown",
   "metadata": {},
   "source": [
    "**STEP 3.2:** Wo gab es die wenigsten Tode in Deutschland? Listen Sie die Top 5 Bundesländer auf."
   ]
  },
  {
   "cell_type": "code",
   "execution_count": null,
   "metadata": {},
   "outputs": [],
   "source": [
    "# Länder und Todeszahlen (sortiert nach den Ländern mit den meisten Fällen)\n"
   ]
  },
  {
   "cell_type": "markdown",
   "metadata": {},
   "source": [
    "**STEP 4:** Fügen Sie die Anzahl Fälle mit der Anzahl der Tode anhand der Bundesländer zusammen. Achten Sie darauf, dass keine Vermischungen von Zahlen von unterschiedlichen Bundesländern passieren."
   ]
  },
  {
   "cell_type": "code",
   "execution_count": null,
   "metadata": {},
   "outputs": [],
   "source": [
    "# Länder als Index für Fälle"
   ]
  },
  {
   "cell_type": "code",
   "execution_count": null,
   "metadata": {},
   "outputs": [],
   "source": [
    "# Länder als Index für Tode"
   ]
  },
  {
   "cell_type": "code",
   "execution_count": null,
   "metadata": {},
   "outputs": [],
   "source": [
    "# Zusammenführen der Tabellen\n"
   ]
  },
  {
   "cell_type": "markdown",
   "metadata": {},
   "source": [
    "**STEP 5:** Stellen Sie einen einfach Bar-Plot da, welche die Bars von 'state' und 'deaths' anzeigt."
   ]
  },
  {
   "cell_type": "code",
   "execution_count": null,
   "metadata": {},
   "outputs": [],
   "source": [
    "# Gibt es eine Korrelation zwischen der Anzahl der Fälle und der Anzahl der Toten?\n",
    "\n",
    "\n"
   ]
  },
  {
   "cell_type": "code",
   "execution_count": null,
   "metadata": {},
   "outputs": [],
   "source": [
    "# Hier werden die datetime Daten in Monate umgewandelt\n",
    "\n",
    "months = ['jan', 'feb', 'mar', 'apr', 'may', 'jun', 'jul', 'aug', 'sep', 'oct', 'nov', 'dec']\n",
    "covid_month_list = [months[int(covid.date[i][5])*10 + int(covid.date[i][6])*1] for i in range(len(covid))]\n",
    "covid_months = covid.loc[:,[\"cases\", \"deaths\", \"recovered\"]]\n",
    "covid_months['month'] = covid_month_list"
   ]
  },
  {
   "cell_type": "markdown",
   "metadata": {},
   "source": [
    "**STEP 6:** Gruppieren Sie die *covid_months* anhand der Monate, Summieren sie die Fälle auf und Sortieren Sie die Liste absteigend anhand der Anzahl der Fälle"
   ]
  },
  {
   "cell_type": "code",
   "execution_count": null,
   "metadata": {},
   "outputs": [],
   "source": [
    "# Grupieren und Summieren\n",
    "\n"
   ]
  },
  {
   "cell_type": "markdown",
   "metadata": {},
   "source": [
    "**STEP 7:** Fügen Sie zwei Spalten dem *covid_months* DataFrame hinzu.\n",
    "\n",
    "* recovery_rate: Prozentualer Anteil von allen *recovered* Fällen\n",
    "* death_rate: Prozentualer Anteil von allen *deaths* Fällen\n",
    "\n",
    "Geben Sie das DataFrame am Ende aus und fragen Sie den Tutor, ob Sie alles richtig gemacht haben."
   ]
  },
  {
   "cell_type": "code",
   "execution_count": null,
   "metadata": {},
   "outputs": [],
   "source": [
    "# Spalten recovery_rate und death_rate hinzufügen und Datensatz ausgeben lassen. \n"
   ]
  }
 ],
 "metadata": {
  "kernelspec": {
   "display_name": "Python 3",
   "language": "python",
   "name": "python3"
  },
  "language_info": {
   "codemirror_mode": {
    "name": "ipython",
    "version": 3
   },
   "file_extension": ".py",
   "mimetype": "text/x-python",
   "name": "python",
   "nbconvert_exporter": "python",
   "pygments_lexer": "ipython3",
   "version": "3.7.6"
  }
 },
 "nbformat": 4,
 "nbformat_minor": 2
}
