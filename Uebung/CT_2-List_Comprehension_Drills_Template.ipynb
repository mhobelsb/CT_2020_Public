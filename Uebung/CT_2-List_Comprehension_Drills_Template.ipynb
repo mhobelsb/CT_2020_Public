{
 "cells": [
  {
   "cell_type": "markdown",
   "metadata": {},
   "source": [
    "## Aufgaben zu List Comprehensions\n",
    "\n",
    "\n",
    "1. Erstellen Sie eine neue Liste mit dem Namen double_nums, indem Sie jede Zahl in nums mit zwei multiplizieren."
   ]
  },
  {
   "cell_type": "code",
   "execution_count": null,
   "metadata": {},
   "outputs": [],
   "source": [
    "nums = [4, 8, 15, 16, 23, 42]\n"
   ]
  },
  {
   "cell_type": "markdown",
   "metadata": {},
   "source": [
    "2. Sie haben eine Liste mit den Zahlen zwischen 0 und 10 erhalten. Wir haben diese Liste mit der range-funktion erstellt! Erstellen Sie eine neue Liste mit dem Namen squares, die das Quadrat jeder Zahl in dieser Liste enthält."
   ]
  },
  {
   "cell_type": "code",
   "execution_count": 1,
   "metadata": {},
   "outputs": [],
   "source": [
    "nums = range(11)\n"
   ]
  },
  {
   "cell_type": "markdown",
   "metadata": {},
   "source": [
    "3. Erstellen Sie eine neue Liste mit dem Namen add_ten, die zehn zu jedem Element in der Liste nums hinzufügt."
   ]
  },
  {
   "cell_type": "code",
   "execution_count": null,
   "metadata": {},
   "outputs": [],
   "source": [
    "nums = [4, 8, 15, 16, 23, 42]\n"
   ]
  },
  {
   "cell_type": "markdown",
   "metadata": {},
   "source": [
    "4. Erstellen Sie eine neue Liste mit dem Namen divide_by_two, die die Hälfte jedes Elements in der Liste nums enthält. Stellen Sie sicher, dass Sie durch 2 teilen, nicht durch 2.0!"
   ]
  },
  {
   "cell_type": "code",
   "execution_count": null,
   "metadata": {},
   "outputs": [],
   "source": [
    "nums = [4, 8, 15, 16, 23, 42]\n"
   ]
  },
  {
   "cell_type": "markdown",
   "metadata": {},
   "source": [
    "5. Erstellen Sie eine neue Liste mit dem Namen Parität, die für jedes Element von nums eine 1 oder eine 0 enthält. Für jedes Element, wenn dieses Element gerade war, sollte die neue Liste eine 0 enthalten. War das Element ungerade, sollte die neue Liste eine 1 enthalten."
   ]
  },
  {
   "cell_type": "code",
   "execution_count": null,
   "metadata": {},
   "outputs": [],
   "source": [
    "nums = [4, 8, 15, 16, 23, 42]\n"
   ]
  },
  {
   "cell_type": "markdown",
   "metadata": {},
   "source": [
    "6. Erstellen Sie eine neue Liste mit dem Namen greetings, die vor jedem Namen in den Listennamen \"Hallo, \" hinzufügt."
   ]
  },
  {
   "cell_type": "code",
   "execution_count": null,
   "metadata": {},
   "outputs": [],
   "source": [
    "names = [\"Peter\", \"Pan\", \"Captain\", \"Hook\"]\n"
   ]
  },
  {
   "cell_type": "markdown",
   "metadata": {},
   "source": [
    "7. Erstellen Sie eine neue Liste mit dem Namen first_character, die das erste Zeichen von jedem Namen in der Liste names enthält."
   ]
  },
  {
   "cell_type": "code",
   "execution_count": null,
   "metadata": {},
   "outputs": [],
   "source": []
  },
  {
   "cell_type": "markdown",
   "metadata": {},
   "source": [
    "8. Erstellen Sie eine neue Liste namens lengths, die die Länge jedes Namens in der Liste names enthält."
   ]
  },
  {
   "cell_type": "code",
   "execution_count": null,
   "metadata": {},
   "outputs": [],
   "source": []
  },
  {
   "cell_type": "markdown",
   "metadata": {},
   "source": [
    "9. Erstellen Sie eine neue Liste mit dem Namen opposite, die für jedes Element in der Liste booleans das entgegengesetzte Boolean enthält."
   ]
  },
  {
   "cell_type": "code",
   "execution_count": null,
   "metadata": {},
   "outputs": [],
   "source": [
    "booleans = [True, False, True]\n"
   ]
  },
  {
   "cell_type": "markdown",
   "metadata": {},
   "source": [
    "10. Erstellen Sie eine neue Liste namens is_captain, in der ein Eintrag an Position i True ist, wenn der Eintrag in Namen an Position i gleich \"Captain\" ist. Andernfalls sollte der Eintrag False lauten."
   ]
  },
  {
   "cell_type": "code",
   "execution_count": null,
   "metadata": {},
   "outputs": [],
   "source": [
    "names = [\"Peter\", \"Pan\", \"Captain\", \"Hook\"]\n"
   ]
  },
  {
   "cell_type": "markdown",
   "metadata": {},
   "source": [
    "11. Erstellen Sie eine neue Liste namens greater_than_two, in der ein Eintrag an Position i True ist, wenn der Eintrag in nums an Position i größer als 2 ist."
   ]
  },
  {
   "cell_type": "code",
   "execution_count": null,
   "metadata": {},
   "outputs": [],
   "source": [
    "nums = [5, -10, 40, 20, 0]\n"
   ]
  },
  {
   "cell_type": "markdown",
   "metadata": {},
   "source": [
    "12. Erstellen Sie eine neue Liste mit dem Namen product, die das Produkt jeder Teilliste von nested_lists enthält."
   ]
  },
  {
   "cell_type": "code",
   "execution_count": null,
   "metadata": {},
   "outputs": [],
   "source": [
    "nested_lists = [[4, 8], [15, 16], [23, 42]]\n"
   ]
  },
  {
   "cell_type": "markdown",
   "metadata": {},
   "source": [
    "13. Erstellen Sie eine neue Liste mit dem Namen greater_than, die True enthält, wenn die erste Zahl in der Teilliste größer als die zweite Zahl in der Teilliste ist, und andernfalls False."
   ]
  },
  {
   "cell_type": "code",
   "execution_count": null,
   "metadata": {},
   "outputs": [],
   "source": []
  },
  {
   "cell_type": "markdown",
   "metadata": {},
   "source": [
    "14. Erstellen Sie eine neue Liste mit dem Namen first_only, die das erste Element in jeder Unterliste von nested_lists enthält."
   ]
  },
  {
   "cell_type": "code",
   "execution_count": null,
   "metadata": {},
   "outputs": [],
   "source": []
  },
  {
   "cell_type": "markdown",
   "metadata": {},
   "source": [
    "15. Verwenden Sie das List Comprehension und die zip Funktion, um eine neue Liste mit dem Namen Summen zu erstellen, die die entsprechenden Elemente in den Listen a und b summiert. Zum Beispiel sollte das erste Element in der neuen Liste 5 aus der Addition von 1 und 4 zusammen sein."
   ]
  },
  {
   "cell_type": "code",
   "execution_count": null,
   "metadata": {},
   "outputs": [],
   "source": [
    "a = [1.0, 2.0, 3.0]\n",
    "b = [4.0, 5.0, 6.0]\n"
   ]
  },
  {
   "cell_type": "markdown",
   "metadata": {},
   "source": [
    "16. Verwenden Sie List Comprehension und die zip Funktion, um eine neue Liste mit dem Namen Quotienten zu erstellen, die die Elemente in Liste b durch die in Liste a teilt. Beispielsweise sollte das zweite Element in der neuen Liste 2,5 aus der Division von 5,0 durch 2,0 sein."
   ]
  },
  {
   "cell_type": "code",
   "execution_count": 2,
   "metadata": {},
   "outputs": [],
   "source": [
    "a = [1.0, 2.0, 3.0]\n",
    "b = [4.0, 5.0, 6.0]\n"
   ]
  },
  {
   "cell_type": "markdown",
   "metadata": {},
   "source": [
    "17. Sie haben zwei Listen erhalten: eine Liste der Hauptstädte und eine Liste der Länder. Erstellen Sie eine neue Liste mit Namen von Orten, die die Zeichenfolge \"Hauptstadt, Land\" für jedes Element in den ursprünglichen Listen enthält. Wenn z.B. das fünfte Element in der Hauptstadtliste \"Lima\" und das fünfte Element in der Länderliste \"Peru\" ist, dann sollte der fünfte Eintrag in der neuen Liste \"Lima, Peru\" lauten."
   ]
  },
  {
   "cell_type": "code",
   "execution_count": 3,
   "metadata": {},
   "outputs": [],
   "source": [
    "capitals = [\"Santiago\", \"Paris\", \"Copenhagen\"]\n",
    "countries = [\"Chile\", \"France\", \"Denmark\"]\n"
   ]
  },
  {
   "cell_type": "markdown",
   "metadata": {},
   "source": [
    "18. Sie haben zwei Listen erhalten: eine Namensliste und eine Altersliste. Erstellen Sie eine neue Liste mit Namen von Benutzern, die die Zeichenfolge \"Name: name, Age: age\" für jedes Paar von Elementen in den ursprünglichen Listen enthält. Wenn z.B. das fünfte Element in der Namensliste \"Aiyana\" und das fünfte Element im Alter 42 ist, dann sollte dar fünfte Eintrag in der neuen Liste \"Name: Aiyana, Age: 42\" sein."
   ]
  },
  {
   "cell_type": "code",
   "execution_count": 4,
   "metadata": {},
   "outputs": [],
   "source": [
    "names = [\"Jon\", \"Arya\", \"Ned\"]\n",
    "ages = [14, 9, 35]\n"
   ]
  },
  {
   "cell_type": "markdown",
   "metadata": {},
   "source": [
    "19. Erstellen Sie eine neue Liste mit dem Namen greater_than, die True oder False enthält, je nachdem, ob der entsprechende Eintrag in Liste a größer ist als der in Liste b. Wenn beispielsweise der zweite Eintrag in Liste a 3 ist und der zweite Eintrag in Liste b 5 ist, sollte der zweite Eintrag in der neuen Liste False sein."
   ]
  },
  {
   "cell_type": "code",
   "execution_count": null,
   "metadata": {},
   "outputs": [],
   "source": [
    "a = [30, 42, 10]\n",
    "b = [15, 16, 17]\n"
   ]
  }
 ],
 "metadata": {
  "kernelspec": {
   "display_name": "Python 3",
   "language": "python",
   "name": "python3"
  },
  "language_info": {
   "codemirror_mode": {
    "name": "ipython",
    "version": 3
   },
   "file_extension": ".py",
   "mimetype": "text/x-python",
   "name": "python",
   "nbconvert_exporter": "python",
   "pygments_lexer": "ipython3",
   "version": "3.7.3"
  }
 },
 "nbformat": 4,
 "nbformat_minor": 2
}