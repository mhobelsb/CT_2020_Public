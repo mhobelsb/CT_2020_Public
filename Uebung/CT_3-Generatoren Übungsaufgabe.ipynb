{
 "cells": [
  {
   "cell_type": "markdown",
   "metadata": {},
   "source": [
    "# Übungsaufgabe zum Thema Generatoren\n",
    "\n",
    "kleine Vorgeschichte:\n",
    "\n",
    "Du bist gerade für dein Studium nach München in eine WG gezogen. Es ist eine sehr große WG mit vielen Leuten und damit dort alles reibungslos abläuft hätte die WG-Älteste gerne, dass du eine Liste erstellst wer wann was zu tun hat. Sie übergibt dir eine Liste mit den Namen der Mitbewohner und den anstehenden Aufgaben. Alle 3 Tage soll der Reihe nach eine der  Aufgaben abgearbeitet werden und am Ende wieder von vorne angefangen werden. Da sie die Liste gerne für dächsten zwei Monate hätte wäre es praktisch das ganze automatisiert zu erstellen, besonders, da es so ausschaut, als ob du die Aufgabe öfter übernehmen müsstest. Da du auch für deinen Nebenjob als Datascientist in der Atomwaffenforschung für deine Abteilung eine ähnlich Liste erstellen sollst, kommt dir der Gedanke das Ganze generell so zu gestallten, dass du es für verschiedene Aufgaben verwenden kannst. Du erinnerst dich daran, dass du letztens in deiner Vorlesung etwas über Generatoren gelernt hast und beschließt dein erlerntes Wissen gleich mal umzusetzen."
   ]
  },
  {
   "cell_type": "markdown",
   "metadata": {},
   "source": [
    "## Aufgabe:\n",
    "\n",
    "Ertstelle einen Generator, der aus einer Liste mit Aufgaben, Namen, einer Anzahl an Wochen, für  die Aufgaben erstellt werden soll, und der Angabe in welchem Abstand die Aufgaben zu bearbeiten sind einen Iterator generiert. Der Iterator soll die Woche, die Person, die Aufgabe und den Tag an dem die Aufgabe zu bearbeiten ist ausgeben. Der Methodenkopf des Generators ist schon ein mal vorgegeben:\n",
    "\n",
    "Ein Beispielaufruf deines Generators könnte zum Beispiel so aussehen:\n",
    "\n",
    "```python\n",
    "iter_wg = taskScheduler(wg_aufgaben, wg_mitglieder, 52, 3)\n",
    "for eintrag in iterWg:\n",
    "    print(eintrag)\n",
    "```\n",
    "\n",
    "**Beispiel Ausgabe:**\n",
    "\n",
    "Woche 1: Montag, Sepp, Putzen\n",
    "\n",
    "Woche 1: Donnerstag, Anja, Ratten aus dem Keller vertreiben\n",
    "\n",
    "....\n",
    "\n",
    "Kleiner Hinweis:\n",
    "\n",
    "Für das Runden von float Werten auf integer Werte gibt es praktische Bibliotheken, die ihr gerne hernehmen dürft. Zum Beispiel math.ceil() aus der __math__ Bibliothek.\n",
    "    "
   ]
  },
  {
   "cell_type": "code",
   "execution_count": null,
   "metadata": {},
   "outputs": [],
   "source": [
    "#Hier der Einfachkeit halber schon mal ein paar Daten die du für die Aufgabe Verwenden kannst.\n",
    "wg_aufgaben = [\"Putzen\", \"Ratten aus dem Keller vertreiben\", \"Ofen sauber machen\", \"Hauskatze bürsten\", \"WG-Abend planen\"]\n",
    "wg_mitglieder = [\"Sepp\", \"Anja\", \"Chuanita\", \"Eric\", \"Cumar\", \"Ritika\"]"
   ]
  },
  {
   "cell_type": "code",
   "execution_count": null,
   "metadata": {},
   "outputs": [],
   "source": [
    "#Kann für die Ausgabe der Wochentage verwendet werden.\n",
    "days = [\"Montag\", \"Dienstag\", \"Mittwoch\", \"Donnerstag\", \"Freitag\", \"Samstag\", \"Sonntag\"]\n",
    "\n",
    "def taskScheduler(tasks, names, weeks, steps):\n",
    "    #Hier kommt dein Code"
   ]
  },
  {
   "cell_type": "code",
   "execution_count": null,
   "metadata": {},
   "outputs": [],
   "source": [
    "#Beispielcode mit dem du die Funktionalität deines Generators für die nächsten 8 Wochen überprüfen kannst.\n",
    "\n",
    "iter_wg = taskScheduler(wg_aufgaben, wg_mitglieder, 8, 3)\n",
    "\n",
    "for aufgabe in iter_wg:\n",
    "    print(aufgabe)"
   ]
  },
  {
   "cell_type": "markdown",
   "metadata": {},
   "source": [
    "Jetzt ist es mit Hilfe deines Generators ein Leichtes auch für deinen Nebenjob eine passende Liste zu erstellen."
   ]
  },
  {
   "cell_type": "code",
   "execution_count": null,
   "metadata": {},
   "outputs": [],
   "source": [
    "job_aufgaben = [\"Kaffee kaufen\", \"Urananreicherungsanlage mal wieder lüften\", \"Bürohund Gassi führen\", \"Post abholen\"]\n",
    "job_mitarbeiter = [\"Shawn\", \"Camilla\", \"Joffrey\", \"Tahini\", \"Cumar\"]\n",
    "\n",
    "iter_job = taskScheduler(job_aufgaben, job_mitarbeiter, 4, 5)\n",
    "\n",
    "for aufgabe in iter_job:\n",
    "    print(aufgabe)\n"
   ]
  },
  {
   "cell_type": "code",
   "execution_count": null,
   "metadata": {},
   "outputs": [],
   "source": []
  }
 ],
 "metadata": {
  "kernelspec": {
   "display_name": "Python 3",
   "language": "python",
   "name": "python3"
  },
  "language_info": {
   "codemirror_mode": {
    "name": "ipython",
    "version": 3
   },
   "file_extension": ".py",
   "mimetype": "text/x-python",
   "name": "python",
   "nbconvert_exporter": "python",
   "pygments_lexer": "ipython3",
   "version": "3.8.3"
  }
 },
 "nbformat": 4,
 "nbformat_minor": 4
}
