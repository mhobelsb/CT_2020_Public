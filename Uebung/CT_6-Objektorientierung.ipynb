{
 "cells": [
  {
   "cell_type": "markdown",
   "metadata": {},
   "source": [
    "# Aufgabe zum Thema Klassen und Objektorientiertes programmieren\n",
    "\n",
    "Eine mysteriöse Geheimorganisation kommt auf euch zu und will dass ihr zusammen mit einem Kollegen eine kleine Software schreibt um Geheimagenten zu verwalten und bietet euch einen Haufen Geld dafür an. Weil ihr gerade knapp bei Kasse seid, es erst der Anfang des Monats ist und ihr euch aber jetzt schon wieder nur Nudeln mit Tomatensoße leisten könnt nehmt ihr das Angebot an.\n",
    "\n",
    "Ihr sollt eine Software schreiben, die Geheimagenten Teams verwaltet. Jedes Team hat ein dazugehöriges Versteck und ihm können Agenten zugewiesen werden. Euer Kollege \"Chaos_Kalle\" hat euch schon mal ein bisschen Arbeit abgenommen und die Klasse Agent implementiert. Wenn neue Agenten in der Datenbank erzeugt werden, muss jeder Agent mit seinem Namen und seiner Augenfarbe angelegt werden, um sie zu identifizieren."
   ]
  },
  {
   "cell_type": "code",
   "execution_count": null,
   "metadata": {},
   "outputs": [],
   "source": [
    "class Agent:\n",
    "    def __init__(self, name, augenfarbe):\n",
    "        self.name = name\n",
    "        self.augenfarbe = augenfarbe"
   ]
  },
  {
   "cell_type": "markdown",
   "metadata": {},
   "source": [
    "Als nächstes soll das Versteck als Klasse implementiert werden. Ein neues Versteck soll mit einem Namen und einer Kapazität an Agenten angelegt werden. Zusätzlich soll es über ein boolsches Attribut \"geheim\" verfügen, dass bei der Initialisierung auf True gesetzt wird. Außerdem hat die Klasse Versteck noch die Methode enttarnt, in der das Versteck als enttarnt markiert wird, das heißt das Attribut \"geheim\" auf False gesetzt wird. Das ist leider notwendig, weil Chaos_Kalle schon öfter aus Versehen die streng geheimen Versteckkoordinaten geleakt hat und man das Versteck für diesen Fall als enttarnt markieren muss. Chaos_Kalle hat auch schon mal Teile von der letzten Klasse \"Team\" implementiert, deswegen ist es wichtig, dass die Attribute in Versteck \"name\", \"kapazitaet\" und \"geheim\" heißen, um konsistent zu bleiben."
   ]
  },
  {
   "cell_type": "code",
   "execution_count": null,
   "metadata": {},
   "outputs": [],
   "source": [
    "class Versteck:\n",
    "    def __init__(self, name, kapazitaet):\n",
    "        #Hier kommt dein Code\n",
    "\n",
    "    def enttarnt(self):\n",
    "        #Hier kommt dein Code"
   ]
  },
  {
   "cell_type": "markdown",
   "metadata": {},
   "source": [
    "Hier habt ihr eine Überprüfung, ob ihr die Methode \"enttarnt\" der Klasse Versteck richtig angelegt habt. "
   ]
  },
  {
   "cell_type": "code",
   "execution_count": null,
   "metadata": {},
   "outputs": [],
   "source": [
    "versteck_0 = Versteck(\"Mondbasis\", 10)\n",
    "assert versteck_0.geheim == True\n",
    "versteck_0.enttarnt()\n",
    "assert versteck_0.geheim == False"
   ]
  },
  {
   "cell_type": "markdown",
   "metadata": {},
   "source": [
    "In der Klasse Team wird ein Team zusammengestellt. Jedes Team hat einen Team-Namen, ein Wörterbuch an Agenten mit Codenamen als Schlüssel und ein Versteck. Chaos_Kalle hat euch auch hier schon wieder ein bisschen unter die Arme gegriffen und schon einige Methoden implementiert. Jetzt ist es eure Aufgabe  die Klasse Team zu verfollständigen. Die Methoden agent_hinzufuegen und panic_button sind noch zu implementieren.\n",
    "\n",
    "## Methodenbeschreibungen:\n",
    "\n",
    "agent_hinzufuegen: \n",
    "\n",
    "Es soll dem Wörterbuch der Agenten des Teams ein Agent hinzugefuegt werden. Das Wörterbuch enthält als Schlüssel die Codenamen der Agenten und als Eintrag den neuen Agenten. Ein neuer Agent soll nur dann hinzugefügt werden, wenn die Anzahlt der Agenten im Team kleiner ist als die Kapazität des Verstecks und das Versteck noch geheim ist. Ein unterirdischer Schutzbunker bietet nun mal nicht endlos Platz für Agenten und Agenten in ein Versteck einzuquartieren, das nicht mehr geheim ist macht auch wenig Sinn. \n",
    "\n",
    "panic_button:\n",
    "\n",
    "Euer mysteriöster Auftraggeber will auch für jedes Team eine Möglichkeit haben alle Mitgleider eines Teams zu enttarnen. Chaos_Kalle hat schon eine Methode für euch geschrieben, die das für einen Agenten unter Angabe seines Codenamens macht, jetzt müsst ihr das nur noch für alle Agenten umsetzen. Er hat aber leider auch vergessen in der Methode \"agent_enttarnen\" den enttarnten Agenten aus dem Wörterbuch zu entfernen, das bleibt also auch wieder bei euch hängen."
   ]
  },
  {
   "cell_type": "code",
   "execution_count": null,
   "metadata": {},
   "outputs": [],
   "source": [
    "class Team:\n",
    "    def __init__(self, team_name, versteck:Versteck):\n",
    "        self.team_name = team_name\n",
    "        self.agenten = {}\n",
    "        self.versteck = versteck\n",
    "\n",
    "    def agent_hinzufuegen(self, codename, neuer_agent):\n",
    "        #Hier kommt dein Code\n",
    "\n",
    "    def agent_enttarnen(self, codename):\n",
    "        print(\"An die öffentliche Presse: Agent {} heißt eigentlich {} und hat die Augenfarbe {}!\".format(codename, self.agenten[codename].name, self.agenten[codename].augenfarbe))\n",
    "        #Hier sollte eigentlich noch der Agent mit dem Codenamen entfernt werden \n",
    "\n",
    "\n",
    "    def panic_button(self):\n",
    "        #Hier müsst ihr gegebenenfalls aufpassen wenn ihr über eine Liste iteriert, die ihr gerade verändert. Als kleiner Hinweis: list.copy() kann hier hilfreich sein.\n",
    "        \n",
    "        #Hier kommt dein Code\n",
    "\n",
    "    # Methode um schnell einen Ueberblick über alle Infos zu ein Team zu bekommen\n",
    "    def team_infos(self):\n",
    "        print(\"\\n\\nTeamname: {}\".format(self.team_name))\n",
    "        print(\"-----------------------------\")\n",
    "        print(\"Agenten:\")\n",
    "        for codename in self.agenten.keys():\n",
    "            print(\"Codename: {}\".format(codename))\n",
    "        print(\"-----------------------------\")\n",
    "        print(\"Versteckkapazitaet: {}\\n\\n\".format(self.versteck.kapazitaet))"
   ]
  },
  {
   "cell_type": "markdown",
   "metadata": {},
   "source": [
    "Hier könnt auf eigene Faust noch ein bisschen rumprobieren, ob eure Methoden richtig implementiert sind. Chaos_Kalle hatt euch schon einmal ein kleines Beispiel angelegt."
   ]
  },
  {
   "cell_type": "code",
   "execution_count": null,
   "metadata": {},
   "outputs": [],
   "source": [
    "marius = Agent(\"Marius\", \"blau\")\n",
    "sanja = Agent(\"Sanja\", \"orange\")\n",
    "margarete = Agent(\"Margarete\", \"weiss\")\n",
    "kalle = Agent(\"Kalle\", \"chaotisch\")\n",
    "\n",
    "versteck_0 = Versteck(\"Mondbasis\", 3)\n",
    "team_0 = Team(\"Blau\", versteck_0)\n",
    "team_0.agent_hinzufuegen(\"Kobra\", sanja)\n",
    "team_0.agent_hinzufuegen(\"Sockenbär\", marius)\n",
    "team_0.team_infos()"
   ]
  },
  {
   "cell_type": "markdown",
   "metadata": {},
   "source": [
    "Abschließend noch ein paar Tests ob ihr die Methoden richtig implementiert habt."
   ]
  },
  {
   "cell_type": "code",
   "execution_count": null,
   "metadata": {},
   "outputs": [],
   "source": [
    "marius = Agent(\"Marius\", \"blau\")\n",
    "sanja = Agent(\"Sanja\", \"orange\")\n",
    "margarete = Agent(\"Margarete\", \"weiss\")\n",
    "kalle = Agent(\"Kalle\", \"chaotisch\")\n",
    "\n",
    "versteck_0 = Versteck(\"Mondbasis\", 3)\n",
    "team_0 = Team(\"Blau\", versteck_0)\n",
    "team_0.agent_hinzufuegen(\"Kobra\", sanja)\n",
    "team_0.agent_hinzufuegen(\"Sockenbär\", marius)\n",
    "team_0.agent_hinzufuegen(\"Flowerpower\", margarete)\n",
    "team_0.agent_hinzufuegen(\"Chaos_kalle\", kalle)\n",
    "\n",
    "assert len(team_0.agenten) == 3\n",
    "\n",
    "team_0.panic_button()\n",
    "\n",
    "assert len(team_0.agenten) == 0\n",
    "\n",
    "versteck_0.enttarnt()\n",
    "\n",
    "team_0.agent_hinzufuegen(\"Chaos_kalle\", kalle)\n",
    "\n",
    "assert len(team_0.agenten) == 0"
   ]
  },
  {
   "cell_type": "code",
   "execution_count": null,
   "metadata": {},
   "outputs": [],
   "source": []
  }
 ],
 "metadata": {
  "kernelspec": {
   "display_name": "Python 3",
   "language": "python",
   "name": "python3"
  },
  "language_info": {
   "codemirror_mode": {
    "name": "ipython",
    "version": 3
   },
   "file_extension": ".py",
   "mimetype": "text/x-python",
   "name": "python",
   "nbconvert_exporter": "python",
   "pygments_lexer": "ipython3",
   "version": "3.7.6"
  }
 },
 "nbformat": 4,
 "nbformat_minor": 2
}
