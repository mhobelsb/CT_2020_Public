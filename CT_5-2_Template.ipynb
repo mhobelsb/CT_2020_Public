{
 "cells": [
  {
   "cell_type": "markdown",
   "metadata": {},
   "source": [
    "![CT Logo](img/ct_logo_small.png)\n",
    "# Vorlesung \"Computational Thinking\"        \n",
    "## Einführung in NumPy\n",
    "#### Dr. Sarah Ottinger & Prof. Dr.-Ing. Martin Hobelsberger, CT_5"
   ]
  },
  {
   "cell_type": "markdown",
   "metadata": {},
   "source": [
    "### Lernziele dieser Einheit\n",
    "\n",
    "* Einführung in die Bibliothek *NumPy*\n",
    "    * *Teile dieses Notebooks aus Datenanalyse mit Python (Wes McKinney)*\n",
    "    * Zum weiterführenden Selbststudium bitte einen Blick auf folgende Links werfen: [NumPy Tutorials](https://numpy.org/devdocs/user/quickstart.html)\n",
    "    \n",
    "\n",
    "#### Was Sie bisher schon Wissen/Können sollten\n",
    "* Strukturiere Ein-/Ausgabe\n",
    "* Variablen\n",
    "* Datentypen (Arithmetische und Sequenzielle)\n",
    "* Arithmetische Ausdrücke und Vergleiche\n",
    "* Kontrollstrukturen (IF-Statement, For-/While-Schleife)\n",
    "* Dateien lesen/schreiben\n",
    "* Nützliche Funktionen (zip, enumerate, list comprehensions)\n",
    "* Funktionen\n",
    "* Dictionaries\n",
    "* map()/filter()\n",
    "* Lambda Expressions\n",
    "* Generatoren/Iteratoren\n",
    "* Datentyp von pandas (DataFrame & Series)\n",
    "* Erstellen von DataFrames\n",
    "* Gängige Operationen auf DataFrames (Daten anzeigen und Daten bereinigen bereinigen, Imputation)\n",
    "* Verständnis von Variablen, Abhängigkeiten von kontinuierlichen Variablen"
   ]
  },
  {
   "cell_type": "markdown",
   "metadata": {},
   "source": [
    "## Numpy\n",
    "\n",
    "![Numpy Logo](img/numpy.png)\n",
    "\n",
    "`NumPy` (https://numpy.org) (*Numerical Python*) ist eines der wichtigsten Pakete für numerische Berechnungen und somit einer der Eckpfeiler für das wissenschaftliche Programmieren, Data Science & Scientific Computing mit Python. Die `NumPy`-Bibliothek ist deshalb für Data-Science mit Python so wichtig, da fast alle anderen Bibliotheken im Python Ökosystem auf `NumPy` aufbauen. \n",
    "NumPy umfasst u.a. folgende Features: \n",
    "* ein schnelles und effizientes mehrdimensionales Array-Objekt names `ndarray`,\n",
    "* Funktionen zum Durchführen von elementweisen Berechnungen mit Arrays oder mathematischen Operationen zwischen Arrays, \n",
    "* Tools zum Lesen und Schreiben von Array-basierten Datenmengen auf Datenträger,\n",
    "* mathematische Funktionen, Zufallszahlengeneratoren, Routinen der linearen Algebra, Fourier-Transformationen,\n",
    "* eine C-API zum Anbinden von NumPy an Bibliotheken, die in C, C++ oder Fortran geschrieben sind.\n",
    "\n",
    "Ein Grundverständnis von NumPy-Arrays und Array-orientierten Berechnungen hilft bei der effektiveren Benutzung von Tools mit Array-orientierter Semantik wie etwa pandas. \n",
    "Für Datenanalyseanwendungen sind vor allem folgende Bereiche relevant:\n",
    "\n",
    "* Schnelle vektorisierte Array-Operationen zum Bereinigen von Daten, Bildern und Filtern von Teilmengen sowie für Transformationen\n",
    "* Gebräuliche Array-Algorithmen wie Sortieren, Eindeutigkeit und Mengenoperationen\n",
    "* Effiziente beschreibende Statistik und Aggregieren/ Zusammenfassen von Daten\n",
    "* Datenausrichtung und relationale Datenmanipulation zum Mischen und Verbinden heterogener Datenmengen\n",
    "* Ausdrücke logischer Bedingungen als Array-Ausdruck statt als Schleifen mit if-elif-else-Verzweigungen\n",
    "* Gruppenweise Datenmanipulation (Aggregation, Transformation, Funktionsanwendung)\n",
    "    \n",
    "--> NumPy bietet die rechnerische Grundlage für die allgemeine numerische Datenverarbeitung. Dennoch wird die Bibliothek pandas als Basis für die meisten Arten von Statistiken und Analysen verwendet.  "
   ]
  },
  {
   "cell_type": "markdown",
   "metadata": {},
   "source": [
    "### NumPy Grundkonzepte\n",
    "#### Erster Schritt - Installation\n",
    "\n",
    "`NumPy` ist keine Standard-Bibliothek von Python und muss daher vor dem benutzen installiert werden. Dies können Sie lokal auf Ihrem PC mittels einem Paketverwaltungsprogramm namens **pip** machen oder nutzen Sie die [Anaconda-Distribution](https://www.anaconda.com/products/individual) \n"
   ]
  },
  {
   "cell_type": "code",
   "execution_count": null,
   "metadata": {},
   "outputs": [],
   "source": [
    "!pip install numpy"
   ]
  },
  {
   "cell_type": "code",
   "execution_count": null,
   "metadata": {},
   "outputs": [],
   "source": [
    "%conda install numpy"
   ]
  },
  {
   "cell_type": "markdown",
   "metadata": {},
   "source": [
    "Das \"!\" sorgt in einem Notebook dafür, dass die Zeile nicht als Code sondern als wie in einem Terminal ausgeführt wird.\n",
    "\n",
    "Eine weitere Möglichkeit ist es in Ihrem lokalen Terminal folgenden Befehl auszuführen:\n",
    "\n",
    "```\n",
    "python -m pip install numpy\n",
    "```\n",
    "\n",
    "Nach dem die Bibliothek erfolgreich installiert wurde, können wir sie benutzen / importieren."
   ]
  },
  {
   "cell_type": "code",
   "execution_count": null,
   "metadata": {},
   "outputs": [],
   "source": [
    "# import der Bibliothek\n",
    "import numpy as np # Anmerkung: Es ist üblich numpy als \"np\" zu importieren\n"
   ]
  },
  {
   "cell_type": "markdown",
   "metadata": {},
   "source": [
    "Eine der Gründe dafür, dass NumPy für numerische Berechnungen in Python so wichtig ist, besteht in seiner Effizienz bei großen Daten-Arrays."
   ]
  },
  {
   "cell_type": "code",
   "execution_count": null,
   "metadata": {},
   "outputs": [],
   "source": [
    "x = [1,2,3,4,5,6,7,8,9,10]"
   ]
  },
  {
   "cell_type": "code",
   "execution_count": null,
   "metadata": {},
   "outputs": [],
   "source": []
  },
  {
   "cell_type": "markdown",
   "metadata": {},
   "source": [
    "Vergleich Leistungsunterschied Python-Liste und NumPy-Array"
   ]
  },
  {
   "cell_type": "code",
   "execution_count": null,
   "metadata": {},
   "outputs": [],
   "source": [
    "# NumPy-Array und entsprechende Python-Liste mit einer Millionen Integer-Werten\n",
    "my_arr = np.arange(1000000)\n",
    "my_list = list(range(1000000))"
   ]
  },
  {
   "cell_type": "code",
   "execution_count": null,
   "metadata": {},
   "outputs": [],
   "source": [
    "%time for _ in range(10): my_arr2 = my_arr *2"
   ]
  },
  {
   "cell_type": "code",
   "execution_count": null,
   "metadata": {},
   "outputs": [],
   "source": [
    "%time for _ in range(10): my_list2 = [x*2 for x in my_list]"
   ]
  },
  {
   "cell_type": "markdown",
   "metadata": {},
   "source": [
    "NumPy-basierte Algorithmen sind im Allgemeine 10- bis 100-mal schneller (oder mehr) als ihre reinen Python-Gegenstücke und nutzen dabei deutlich weniger Speicher."
   ]
  },
  {
   "cell_type": "markdown",
   "metadata": {},
   "source": [
    "#### Was sind NumPy-Arrays?\n",
    "ndarrys (N-dimensionale Array-Objekte) sind schnelle, flexible Container, die immer nur einen Datentyp enthalten können, also beispielsweise nur Integers. Jedes Array hat einen `shape`, einen Tupel, das die Größe jeder Dimension angibt, und einen `dtype`, ein Objekt, das den Datentyp des Arrays beschreibt."
   ]
  },
  {
   "cell_type": "code",
   "execution_count": null,
   "metadata": {},
   "outputs": [],
   "source": [
    "# Bsp. 1-dimensionaler Array\n",
    "data1 = np.array([6, 7.5, 8, 0, 1])\n",
    "\n"
   ]
  },
  {
   "cell_type": "code",
   "execution_count": null,
   "metadata": {},
   "outputs": [],
   "source": [
    "# Shape des Array\n"
   ]
  },
  {
   "cell_type": "code",
   "execution_count": null,
   "metadata": {},
   "outputs": [],
   "source": [
    "# Bsp. 2-dimensionaler Array\n",
    "#Generate some random data\n",
    "\n"
   ]
  },
  {
   "cell_type": "code",
   "execution_count": null,
   "metadata": {},
   "outputs": [],
   "source": [
    "# Shape des 2-dim. Arrays"
   ]
  },
  {
   "cell_type": "markdown",
   "metadata": {},
   "source": [
    "Die Shape eines Arrays sagt uns etwas über die Reihenfolge, in der die Indizes ausgeführt werden, d.h. zuerst die Zeilen, dann die Spalten und dann gegebenenfalls eine weitere Dimension oder weitere Dimensionen."
   ]
  },
  {
   "cell_type": "code",
   "execution_count": null,
   "metadata": {},
   "outputs": [],
   "source": [
    "# Dtype des 2-dim. Arrays"
   ]
  },
  {
   "cell_type": "markdown",
   "metadata": {},
   "source": [
    "#### ndarrays erzeugen\n",
    "ndarrys (N-dimensionale Array-Objekte) sind schnelle, flexible Container, die immer nur einen Datentyp enthalten können, also beispielsweise nur Integers.\n",
    "Es gibt viele Wege um einen `ndarrys` zu erzeugen. Am einfachsten wird ein Array mit der `array`-Funktion erzeugt. Diese akzeptiert jedes sequenzartige Objekt."
   ]
  },
  {
   "cell_type": "code",
   "execution_count": null,
   "metadata": {},
   "outputs": [],
   "source": [
    "# Eindimensionaler Array, erzeugt aus einer Liste\n",
    "arr1 = np.array([1, 1, 2, 3, 5, 8, 13, 21])\n",
    "print(\"Dimension von var1: \", np.ndim(arr1))"
   ]
  },
  {
   "cell_type": "code",
   "execution_count": null,
   "metadata": {},
   "outputs": [],
   "source": [
    "# Zweidimensionaler Array, erzeugt aus einer verschachtelten Sequenz\n",
    "arr2 = np.array([[1,2,3,4],[5,6,7,8]])\n",
    "print(arr2)\n",
    "print(arr2.shape)"
   ]
  },
  {
   "cell_type": "code",
   "execution_count": null,
   "metadata": {},
   "outputs": [],
   "source": [
    "# Zweidimensionaler Array, erzeugt aus einer verschachtelten Sequenz\n",
    "arr_2 = np.array([[3.4, 8.7, 9.9], \n",
    "               [1.1, -7.8, -0.7],\n",
    "               [4.1, 12.3, 4.8]])\n",
    "print(arr_2)\n",
    "print(arr_2.shape)\n",
    "print(arr_2.ndim)"
   ]
  },
  {
   "cell_type": "code",
   "execution_count": null,
   "metadata": {},
   "outputs": [],
   "source": [
    "arr_3 = np.array([[[3.4, 8.7, 9.9], \n",
    "               [1.1, -7.8, -0.7],\n",
    "               [4.1, 12.3, 4.8]],\n",
    "               [[3.4, 8.7, 9.9], \n",
    "               [1.1, -7.8, -0.7],\n",
    "               [4.1, 12.3, 4.8]]])\n",
    "print(arr_3)\n",
    "print(arr_3.shape)\n",
    "print(arr_3.ndim)"
   ]
  },
  {
   "cell_type": "markdown",
   "metadata": {},
   "source": [
    "#### (Weitere) Funktionen zum Erzeugen von Arrays sind z.B.:\n",
    "* `array`: Wandelt Eingabedaten in ein ndarry um, indem entweder ein dtype abgeleitet oder explizit ein dtype angegeben wird; kopiert standardmäßig die Eingabedaten.\n",
    "* `ones, ones_like`: Erzeugt ein Array nur aus Einsen mit der angegebenen Form und dtype; ones_like nimmt ein Array entgegen und erzeug ein Einsen-Array derselben Form und dtype.\n",
    "* `zeros, zeros_like`: Wie ones und ones-like, erzeugt aber stattdessen Arrays aus Nullen.\n",
    "* `empty, empty_like`: Erzeugt neue Arrays, indem es neuen Speicher belegt, diesen aber nicht mit Werten füllt.\n",
    "* `eye, identity`: Erzeugt eine quadratische NxN-Einheitsmatrix.\n",
    "* `arange`: Wie die eingebaute range-Funktion, liefert aber ein ndarry statt einer Liste zurück.\n",
    "* `linspace` liefert ein ndarray zurück, welches aus gleichmäßig verteilten Werten eines bestimmten Intervalls besteht.\n"
   ]
  },
  {
   "cell_type": "code",
   "execution_count": null,
   "metadata": {},
   "outputs": [],
   "source": [
    "# Erstelle Array von 10 Nullen\n"
   ]
  },
  {
   "cell_type": "code",
   "execution_count": null,
   "metadata": {},
   "outputs": [],
   "source": [
    "#Erstelle ein Array aus 20 gleichmäßig verteilten Punkten zwischen 0 und 1\n"
   ]
  },
  {
   "cell_type": "code",
   "execution_count": null,
   "metadata": {},
   "outputs": [],
   "source": [
    "# Erstelle eine Einheitsmatrix\n",
    "\n"
   ]
  },
  {
   "cell_type": "markdown",
   "metadata": {},
   "source": [
    "#### `Reshape`\n",
    "\n",
    "Gibt ein Array zurück, das dieselben Daten in neuer Form enthält."
   ]
  },
  {
   "cell_type": "code",
   "execution_count": null,
   "metadata": {},
   "outputs": [],
   "source": [
    "# Array mit 25 Elementen und shape (25,) in shape (5,5) umwandeln\n"
   ]
  },
  {
   "cell_type": "markdown",
   "metadata": {},
   "source": [
    "### Random\n",
    "\n",
    "NumPy kann außerdem auf viele verschiedene Weisen Pseudozufallszahlen erzeugen.\n",
    "\n",
    "##### `rand`\n",
    "\n",
    "Erstellt ein Array der gegebenen Form und füllt es mit Zufallszahlen einer Gleichverteilung über [0,1]."
   ]
  },
  {
   "cell_type": "code",
   "execution_count": null,
   "metadata": {},
   "outputs": [],
   "source": []
  },
  {
   "cell_type": "markdown",
   "metadata": {},
   "source": [
    "##### `randn`\n",
    "\n",
    "Gibt ein Sample (oder mehrere) einer \"standard normal\" Verteilung zurück. Anders als `rand`, dass gleichverteilt ist."
   ]
  },
  {
   "cell_type": "code",
   "execution_count": null,
   "metadata": {},
   "outputs": [],
   "source": []
  },
  {
   "cell_type": "markdown",
   "metadata": {},
   "source": [
    "##### `randint`\n",
    "\n",
    "Gibt Zufallszahlen von `low`(inklusive) bis `high`(exklusive) zurück."
   ]
  },
  {
   "cell_type": "code",
   "execution_count": null,
   "metadata": {},
   "outputs": [],
   "source": []
  },
  {
   "cell_type": "markdown",
   "metadata": {},
   "source": [
    "#### Weitere numpy.random-Funktionen\n",
    "* `binomial`: Zieht Stichproben aus einer Binominalverteilung.\n",
    "* `normal`: Zieht Stichproben aus einer Normalverteilung (einer gausschen Verteilung)\n",
    "* `chisquare`: Zieht Stichproben aus einer Chi-Quadrat-Verteilung\n",
    "* `shuffle`: Vermischt eine Sequenz an Ort und Stelle\n",
    "* `permutation`: Liefert eine zufällige Permutation einer Sequenz oder einen permutierten Bereich zurück\n"
   ]
  },
  {
   "cell_type": "markdown",
   "metadata": {},
   "source": [
    "### Rechnen mit NumPy-Arrays\n",
    "#### Arithmetik\n",
    "\n",
    "Arrays erlauben, viele Operationen auf Daten auszuführen, ohne dass die for-Schleife benötigt wird -> Vektorisierung.\n",
    "Jede arithmetische Operation zwischen Arrays gleicher Größe führ ihre Arbeit elementweise durch."
   ]
  },
  {
   "cell_type": "code",
   "execution_count": null,
   "metadata": {},
   "outputs": [],
   "source": [
    "# Bsp. Addition, Subtraktion, Multiplikation\n"
   ]
  },
  {
   "cell_type": "markdown",
   "metadata": {},
   "source": [
    "Arithemeitsche Operationen mit Skalaren propagieren das skalare Argument zu jedem Element in dem Array."
   ]
  },
  {
   "cell_type": "code",
   "execution_count": null,
   "metadata": {},
   "outputs": [],
   "source": [
    "# Bsp. Multiplikation/ Division mit Skalaren\n"
   ]
  },
  {
   "cell_type": "markdown",
   "metadata": {},
   "source": [
    "Vergleiche zwischen Arrays derselben Größe ergeben boolsche Arrays"
   ]
  },
  {
   "cell_type": "code",
   "execution_count": null,
   "metadata": {},
   "outputs": [],
   "source": []
  },
  {
   "cell_type": "markdown",
   "metadata": {},
   "source": [
    "Operationen zwischen Arrays unterschiedlicher Größe werden als [Broadcasting](https://numpy.org/doc/stable/user/basics.broadcasting.html) bezeichnet."
   ]
  },
  {
   "cell_type": "markdown",
   "metadata": {},
   "source": [
    "### Einfaches Indizieren und Slicing"
   ]
  },
  {
   "cell_type": "code",
   "execution_count": null,
   "metadata": {},
   "outputs": [],
   "source": [
    "# Werte in einem Bereich erhalten\n"
   ]
  },
  {
   "cell_type": "markdown",
   "metadata": {},
   "source": [
    "Wenn einem Teilbereich ein skalarer Wert zugeordnet wird, wird dieser Wert an die gesamte Auswahl propagiert (`Broadcasting`)."
   ]
  },
  {
   "cell_type": "code",
   "execution_count": null,
   "metadata": {},
   "outputs": [],
   "source": [
    "# Einen Wert durch einen Index-Bereich festlegen (Broadcasting)arr[0:5]=100\n",
    "\n",
    "# Anzeigen\n"
   ]
  },
  {
   "cell_type": "markdown",
   "metadata": {},
   "source": [
    "Teilbereiche (Slices) von Arrays sind sogenannte View auf das ursprüngliche Arrays. D.h. die Daten werden nicht kopiert und alle Modifikationen an dem View schlagen sich im Quell-Array nieder.\n",
    "Wenn man die Werte eines Slice ändert, spiegelt sich die Änderung widerum im Original-Array wider. Falls man statt eines Views tatsächlich die Kopie eines Slice eines ndarry haben will, muss man das Array explizit kopieren mit `.copy`."
   ]
  },
  {
   "cell_type": "code",
   "execution_count": null,
   "metadata": {},
   "outputs": [],
   "source": [
    "\n"
   ]
  },
  {
   "cell_type": "code",
   "execution_count": null,
   "metadata": {},
   "outputs": [],
   "source": [
    "# Zugriff auf Elemente bei höherdimensionalen Arrays\n",
    "\n",
    "arr2d = np.array([[1,2,3], [4,5,6], [7,8,9]])"
   ]
  },
  {
   "cell_type": "markdown",
   "metadata": {},
   "source": [
    "![Numpy Logo](img/numpy_indexing.png)"
   ]
  },
  {
   "cell_type": "markdown",
   "metadata": {},
   "source": [
    "### Universelle Funktionen: schnelle elementweise Array-Funktionen\n",
    "Eine universelle Funktion oder *ufunc* ist eine Funktion, die auf den Daten in ndarrays elementenweise Operationen durchführt. Man kann sich dazu einen schnellen vektorisierten Wrapper für einfache Funktionen vorstellen, der einen oder mehrere skalare Werte nimmt und ein oder mehrere skalare Ergebnisse produziert."
   ]
  },
  {
   "cell_type": "code",
   "execution_count": null,
   "metadata": {},
   "outputs": [],
   "source": [
    "# Einfache elementenweise Transformation, wie sqrt oder exp\n",
    "arr = np.arange(10)\n"
   ]
  },
  {
   "cell_type": "code",
   "execution_count": null,
   "metadata": {},
   "outputs": [],
   "source": [
    "# Funktionen, die zwei Arrays entgegennehmen und ein einzelnes Array als Ergebnis zurückliefern:\n",
    "x = np.random.randn(8)\n",
    "y = np.random.randn(8)\n"
   ]
  },
  {
   "cell_type": "markdown",
   "metadata": {},
   "source": [
    "#### Bsp. unärer ufuncs\n",
    "* `abs, fabs`: Berechnet elementweise den absoluten Wert für Integer-, Gleitkomma- oder komplexe Werte\n",
    "* `sqrt`: Berechnet für jedes Element die Quadratwurzel\n",
    "* `square`: Berechnet das Quadrat jedes Elements\n",
    "* `exp`: Berechnet den Exponenten exp(x) jedes Elements\n",
    "* `sign`: Berechnet das Vorzeichen jedes Elements: 1 (positiv), 0 (null) oder -1 (negativ)\n",
    "* `cos, sin, tan`: Reguläre trigonometrische Funktionen"
   ]
  },
  {
   "cell_type": "markdown",
   "metadata": {},
   "source": [
    "#### Bsp. universelle Funktionen\n",
    "* `add`: Addiert korrespondierende Elemente in Arrays\n",
    "* `subtract`: Subtrahiert die Elemente im zweiten Array vom ersten Array\n",
    "* `multiply`: Mulitpliziert die Array-Elemente miteinander\n",
    "* `maximum, fmax`: Elementweises Maximum; fmax ignoriert NaN\n",
    "* `minimum, fmin`: Elementweises Minimum; fmin ignoriert NaN\n",
    "* `mod`: Elementweiser Modulus (Rest der Division)\n",
    "* `greater, greater_equal`: Führt elementweise Vergleiche durch, die ein boolsches Array errgeben\n",
    "* `less, less_equal, not_equal`: Führt elementweise Vergleiche durch, die ein boolsches Array errgeben\n"
   ]
  },
  {
   "cell_type": "markdown",
   "metadata": {},
   "source": [
    "### Mathematische und statistische Methoden\n",
    "Eine Reihe mathematischer Funktionen, die Statistiken über ein ganzes Array oder über dei Daten entlang einer Achse berechnen, sind als Methoden der Array-Klasse verfügbar.\n",
    "`Aggregationen` wie die Summe `sum`, der Mittelwert `mean`und die Standardabweichung `std`können entweder als Methoden, Array-Instanz oder auf oberster Ebene als NumPy-Funktion aufgerufen werden."
   ]
  },
  {
   "cell_type": "code",
   "execution_count": null,
   "metadata": {},
   "outputs": [],
   "source": [
    "# Normalverteilte Zufallsdaten generieren\n",
    "arr = np.random.randn(5,4)\n",
    "arr"
   ]
  },
  {
   "cell_type": "code",
   "execution_count": null,
   "metadata": {},
   "outputs": [],
   "source": [
    "# Mittelwert\n"
   ]
  },
  {
   "cell_type": "code",
   "execution_count": null,
   "metadata": {},
   "outputs": [],
   "source": [
    "# Mittelwerte entlang einer Achse berechnen\n"
   ]
  },
  {
   "cell_type": "code",
   "execution_count": null,
   "metadata": {},
   "outputs": [],
   "source": [
    "#  Kumulative Summe der Elemente, beginnend bei 0\n"
   ]
  },
  {
   "cell_type": "markdown",
   "metadata": {},
   "source": [
    "#### Grundlegende statistische Array-Methoden\n",
    "* `sum`: Summe aller Elemente in dem Array oder entlang einer Achse; arrays der Länge null ergeben die Summe 0\n",
    "* `mean`: Arithmetischer Mittelwert; Arrys der Länge null haben den Mittelwert NaN\n",
    "* `std, var`: Standardabweichung bzw. Varianz mit optionaler Anpassung der Freiheitsgrade\n",
    "* `min, max`: Minimum und Maximum\n",
    "* `argmin, argmax`: Indizes der minimalen bzw. maximalen Elemente\n",
    "* `cumsum`: Kumulative Summe der Elemente, beginnend bei 0\n",
    "* `cumprod`: Kumulatives Produkt der Elemente, beginnend bei 1\n"
   ]
  }
 ],
 "metadata": {
  "kernelspec": {
   "display_name": "Python 3",
   "language": "python",
   "name": "python3"
  },
  "language_info": {
   "codemirror_mode": {
    "name": "ipython",
    "version": 3
   },
   "file_extension": ".py",
   "mimetype": "text/x-python",
   "name": "python",
   "nbconvert_exporter": "python",
   "pygments_lexer": "ipython3",
   "version": "3.7.4"
  }
 },
 "nbformat": 4,
 "nbformat_minor": 4
}
